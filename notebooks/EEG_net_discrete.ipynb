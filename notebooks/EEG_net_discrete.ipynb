{
 "cells": [
  {
   "cell_type": "markdown",
   "id": "65afc5c6-4f4d-4c8d-b6fc-2d5bd3dbd2fa",
   "metadata": {},
   "source": [
    "This file is to test my model on the TUH-EEG-seizure data\n",
    "\n",
    "I discretize the data and predit $X_t+dlt$ from X_t with $$X_t+dlt = dlt * (A +I) Xt$$ with only 1 step"
   ]
  },
  {
   "cell_type": "code",
   "execution_count": 1,
   "id": "145684f6-e426-480d-bad6-dd7d86f3b54b",
   "metadata": {
    "execution": {
     "iopub.execute_input": "2024-05-25T01:06:49.518438Z",
     "iopub.status.busy": "2024-05-25T01:06:49.517863Z",
     "iopub.status.idle": "2024-05-25T01:06:49.537388Z",
     "shell.execute_reply": "2024-05-25T01:06:49.536748Z",
     "shell.execute_reply.started": "2024-05-25T01:06:49.518395Z"
    },
    "tags": []
   },
   "outputs": [
    {
     "data": {
      "text/plain": [
       "'my_main_model_dis_base.py'"
      ]
     },
     "execution_count": 1,
     "metadata": {},
     "output_type": "execute_result"
    }
   ],
   "source": [
    "RUN_PYTHON_SCRIPT = False\n",
    "MODEL_NAME = \"Lay2_dis_10step_latent_epoch1\"\n",
    "SAVED_MODEL = None\n",
    "MODEL_CLASS = \"my_main_model_dis_base.py\""
   ]
  },
  {
   "cell_type": "code",
   "execution_count": 2,
   "id": "dc0c4737-aff1-41f8-a4ca-9c9659dd7512",
   "metadata": {
    "execution": {
     "iopub.execute_input": "2024-05-25T01:06:52.181580Z",
     "iopub.status.busy": "2024-05-25T01:06:52.180738Z",
     "iopub.status.idle": "2024-05-25T01:06:52.357241Z",
     "shell.execute_reply": "2024-05-25T01:06:52.356203Z",
     "shell.execute_reply.started": "2024-05-25T01:06:52.181535Z"
    },
    "tags": []
   },
   "outputs": [],
   "source": [
    "import sys\n",
    "sys.path.append(\"../mypkg\")\n",
    "from constants import RES_ROOT, FIG_ROOT, DATA_ROOT, MODEL_ROOT"
   ]
  },
  {
   "cell_type": "code",
   "execution_count": 3,
   "id": "fd0b2ec3-922a-40d5-ad69-4701aa9ad1fa",
   "metadata": {
    "execution": {
     "iopub.execute_input": "2024-05-25T01:06:52.534996Z",
     "iopub.status.busy": "2024-05-25T01:06:52.534040Z",
     "iopub.status.idle": "2024-05-25T01:06:54.580506Z",
     "shell.execute_reply": "2024-05-25T01:06:54.579327Z",
     "shell.execute_reply.started": "2024-05-25T01:06:52.534947Z"
    },
    "tags": []
   },
   "outputs": [],
   "source": [
    "import numpy as np\n",
    "import scipy\n",
    "import matplotlib.pyplot as plt\n",
    "import seaborn as sns\n",
    "from easydict import EasyDict as edict\n",
    "import time\n",
    "# copy file\n",
    "import shutil\n",
    "\n",
    "if not RUN_PYTHON_SCRIPT:\n",
    "    plt.style.use(FIG_ROOT/\"base.mplstyle\")"
   ]
  },
  {
   "cell_type": "code",
   "execution_count": 4,
   "id": "713768d1-2305-4ef8-9473-3672cd14a095",
   "metadata": {
    "execution": {
     "iopub.execute_input": "2024-05-25T01:06:55.004103Z",
     "iopub.status.busy": "2024-05-25T01:06:55.002793Z",
     "iopub.status.idle": "2024-05-25T01:06:55.067510Z",
     "shell.execute_reply": "2024-05-25T01:06:55.066819Z",
     "shell.execute_reply.started": "2024-05-25T01:06:55.004052Z"
    }
   },
   "outputs": [],
   "source": [
    "%load_ext autoreload\n",
    "%autoreload 2\n",
    "# 0,1, 2, 3, be careful about the space"
   ]
  },
  {
   "cell_type": "code",
   "execution_count": 5,
   "id": "612a1577-8d0c-4c34-991f-aecadd00c783",
   "metadata": {
    "execution": {
     "iopub.execute_input": "2024-05-25T01:06:56.114777Z",
     "iopub.status.busy": "2024-05-25T01:06:56.114008Z",
     "iopub.status.idle": "2024-05-25T01:06:56.142165Z",
     "shell.execute_reply": "2024-05-25T01:06:56.141540Z",
     "shell.execute_reply.started": "2024-05-25T01:06:56.114730Z"
    },
    "tags": []
   },
   "outputs": [],
   "source": [
    "import importlib\n"
   ]
  },
  {
   "cell_type": "code",
   "execution_count": 6,
   "id": "870bf723-ebfa-4975-adad-53279ce21e0e",
   "metadata": {
    "execution": {
     "iopub.execute_input": "2024-05-25T01:07:23.929980Z",
     "iopub.status.busy": "2024-05-25T01:07:23.929525Z",
     "iopub.status.idle": "2024-05-25T01:07:24.589668Z",
     "shell.execute_reply": "2024-05-25T01:07:24.588544Z",
     "shell.execute_reply.started": "2024-05-25T01:07:23.929938Z"
    },
    "tags": [
     "mypkg"
    ]
   },
   "outputs": [],
   "source": [
    "from models.my_main_model_dis_base import myNet\n",
    "from models.losses import my_nllloss, ordinal_mse_loss\n",
    "from models.model_utils import generate_position_encode \n",
    "from data_utils.eeg_load import EEG_data, MyDataLoader, digitize_data, rec_data\n",
    "from utils.misc import delta_time, load_pkl_folder2dict, save_pkl_dict2folder, truncated_mean_upper"
   ]
  },
  {
   "cell_type": "code",
   "execution_count": 7,
   "id": "1c0dd819-8b02-4c78-b283-633dd643a7a7",
   "metadata": {
    "execution": {
     "iopub.execute_input": "2024-05-25T01:07:26.166126Z",
     "iopub.status.busy": "2024-05-25T01:07:26.165462Z",
     "iopub.status.idle": "2024-05-25T01:07:26.354133Z",
     "shell.execute_reply": "2024-05-25T01:07:26.352949Z",
     "shell.execute_reply.started": "2024-05-25T01:07:26.166082Z"
    },
    "tags": []
   },
   "outputs": [
    {
     "data": {
      "text/plain": [
       "device(type='cuda')"
      ]
     },
     "execution_count": 7,
     "metadata": {},
     "output_type": "execute_result"
    }
   ],
   "source": [
    "# pkgs for pytorch (on Apr 3, 2023)\n",
    "import torch\n",
    "import torch.nn as nn\n",
    "from torch.functional import F\n",
    "from torch.optim.lr_scheduler import ExponentialLR\n",
    "from torch.utils.data import DataLoader\n",
    "\n",
    "torch.set_default_dtype(torch.float64)\n",
    "if torch.cuda.is_available():\n",
    "    torch.backends.cudnn.benchmark = True\n",
    "    device = torch.device(\"cuda\")\n",
    "else:\n",
    "    device = torch.device(\"cpu\")\n",
    "torch.set_default_device(device)\n",
    "device"
   ]
  },
  {
   "cell_type": "code",
   "execution_count": null,
   "id": "ba28eee9-5ee0-435e-b3b8-ac7d6d5b0cbb",
   "metadata": {},
   "outputs": [],
   "source": []
  },
  {
   "cell_type": "code",
   "execution_count": null,
   "id": "ee8a8444-1c37-4323-b1d9-bc033dcc584e",
   "metadata": {},
   "outputs": [],
   "source": []
  },
  {
   "cell_type": "markdown",
   "id": "6e86c794-a9ec-4239-8a21-e0369672fa9a",
   "metadata": {},
   "source": [
    "# training"
   ]
  },
  {
   "cell_type": "code",
   "execution_count": 13,
   "id": "44d38d87-d50a-45e9-97ff-c2cde38024ea",
   "metadata": {
    "execution": {
     "iopub.execute_input": "2024-05-25T01:10:52.418879Z",
     "iopub.status.busy": "2024-05-25T01:10:52.417879Z",
     "iopub.status.idle": "2024-05-25T01:10:52.950497Z",
     "shell.execute_reply": "2024-05-25T01:10:52.948980Z",
     "shell.execute_reply.started": "2024-05-25T01:10:52.418829Z"
    },
    "tags": []
   },
   "outputs": [],
   "source": [
    "if SAVED_MODEL is None:\n",
    "    config = edict()\n",
    "    config.nfeature = 19 # the dim of features at each time point\n",
    "    config.ndim = 256 # the output of the first FC layer\n",
    "    config.dropout = 0.5 # the dropout rate\n",
    "    config.n_layer = 2 # the number of self-attention layers\n",
    "    config.n_head = 8 # numher of heads for multi-head attention\n",
    "    config.is_mask = True # Use mask to make the attention causal\n",
    "    config.is_bias = True # Bias  for layernorm\n",
    "    config.block_size = 256 # the preset length of seq, \n",
    "    config.batch_size = 2 # the batch size\n",
    "    config.move_step = 10 # k, movestep\n",
    "    config.fs = 90\n",
    "    config.target_dim = 19\n",
    "    config.k = 6 # discretize to 2^k levels\n",
    "    \n",
    "    paras_train = edict()\n",
    "    paras_train.nepoch= 2\n",
    "    paras_train.loss_out = 10\n",
    "    paras_train.clip = 1 # \n",
    "    paras_train.lr_step = 300\n",
    "    paras_train.test_loss_out = 50\n",
    "else:\n",
    "    saved_model_path = RES_ROOT/SAVED_MODEL\n",
    "    assert saved_model_path.exists(), \"No such model\"\n",
    "    saved_model = load_pkl_folder2dict(saved_model_path)\n",
    "    \n",
    "    config = saved_model.config\n",
    "    paras_train = saved_model.paras_train"
   ]
  },
  {
   "cell_type": "code",
   "execution_count": 14,
   "id": "01a6636d-568d-4c69-a777-2cf29c030332",
   "metadata": {
    "execution": {
     "iopub.execute_input": "2024-05-25T01:10:54.044075Z",
     "iopub.status.busy": "2024-05-25T01:10:54.043242Z",
     "iopub.status.idle": "2024-05-25T01:10:54.084585Z",
     "shell.execute_reply": "2024-05-25T01:10:54.084099Z",
     "shell.execute_reply.started": "2024-05-25T01:10:54.044032Z"
    },
    "tags": []
   },
   "outputs": [],
   "source": [
    "def trans_batch(batch):\n",
    "    \"\"\"transform the batch to make it easy for training\n",
    "    \"\"\"\n",
    "    batch_dis = digitize_data(batch.cpu().numpy(), config.k)\n",
    "    batch_rec = rec_data(batch_dis, config.k)\n",
    "    batch_dis = torch.tensor(batch_dis)\n",
    "    batch_rec = torch.tensor(batch_rec)\n",
    "    \n",
    "    X, Y = batch_rec[:, :-config.move_step], batch_rec[:, config.move_step:]\n",
    "    Y_dis = batch_dis[:, config.move_step:]\n",
    "    Y_dis_move = batch_dis[:, (config.move_step-1):-1] # use X_t as prediction of X_t+1\n",
    "    Y_dis_move = nn.functional.one_hot(Y_dis_move, num_classes=2**config.k).double()\n",
    "    return X, Y_dis, Y_dis_move\n"
   ]
  },
  {
   "cell_type": "code",
   "execution_count": 15,
   "id": "32453bd4-d9d9-4b3d-85bc-4b132e7e8a93",
   "metadata": {
    "execution": {
     "iopub.execute_input": "2024-05-25T01:10:54.793702Z",
     "iopub.status.busy": "2024-05-25T01:10:54.792961Z",
     "iopub.status.idle": "2024-05-25T01:10:54.971495Z",
     "shell.execute_reply": "2024-05-25T01:10:54.971057Z",
     "shell.execute_reply.started": "2024-05-25T01:10:54.793657Z"
    },
    "tags": []
   },
   "outputs": [
    {
     "name": "stdout",
     "output_type": "stream",
     "text": [
      "259725 12349\n"
     ]
    }
   ],
   "source": [
    "train_data = EEG_data(\"train_train_health\", \"AR\", \n",
    "                      move_dict=dict(winsize=config.block_size+config.move_step,\n",
    "                                     stepsize=config.block_size+config.move_step, \n",
    "                                     marginsize=None),\n",
    "                      preprocess_dict=dict(is_detrend=True, \n",
    "                                      is_drop=True,\n",
    "                                      target_fs=90, \n",
    "                                      filter_limit=[1, 45], \n",
    "                                      is_diff=False), \n",
    "                      scale_fct=None\n",
    "                     )\n",
    "test_data = EEG_data(\"train_test_health\", \"AR\", \n",
    "                      move_dict=dict(winsize=config.block_size+config.move_step,\n",
    "                                     stepsize=config.block_size+config.move_step,\n",
    "                                     marginsize=None),\n",
    "                      preprocess_dict=dict(is_detrend=True, \n",
    "                                      is_drop=True,\n",
    "                                      target_fs=90, \n",
    "                                      filter_limit=[1, 45], \n",
    "                                      is_diff=False),\n",
    "                      scale_fct=None\n",
    "                    )\n",
    "\n",
    "train_data_loader = MyDataLoader(train_data, batch_size=config.batch_size, shuffle=True)\n",
    "test_data_loader = MyDataLoader(test_data, batch_size=4, shuffle=False)\n",
    "print(len(train_data_loader), len(test_data_loader))"
   ]
  },
  {
   "cell_type": "code",
   "execution_count": 16,
   "id": "0ed6692b-f81b-4023-a3a5-a87e1b9a6913",
   "metadata": {
    "execution": {
     "iopub.execute_input": "2024-05-25T01:10:59.741857Z",
     "iopub.status.busy": "2024-05-25T01:10:59.740911Z",
     "iopub.status.idle": "2024-05-25T01:10:59.793529Z",
     "shell.execute_reply": "2024-05-25T01:10:59.793115Z",
     "shell.execute_reply.started": "2024-05-25T01:10:59.741809Z"
    },
    "tags": []
   },
   "outputs": [
    {
     "name": "stdout",
     "output_type": "stream",
     "text": [
      "number of parameters: 1.59M\n"
     ]
    },
    {
     "data": {
      "text/plain": [
       "<torch.optim.lr_scheduler.ExponentialLR at 0x7ff5435fb8b0>"
      ]
     },
     "execution_count": 16,
     "metadata": {},
     "output_type": "execute_result"
    }
   ],
   "source": [
    "pos_enc = generate_position_encode(config.block_size, config.nfeature).unsqueeze(0)\n",
    "loss_fn = my_nllloss\n",
    "if SAVED_MODEL is None:\n",
    "    net = myNet(config)\n",
    "else:\n",
    "    net = saved_model.model\n",
    "    if torch.cuda.is_available():\n",
    "        net = net.cuda()\n",
    "optimizer = torch.optim.Adam(net.parameters(), lr=1e-4, weight_decay=0)\n",
    "scheduler = ExponentialLR(optimizer, gamma=0.1)"
   ]
  },
  {
   "cell_type": "code",
   "execution_count": null,
   "id": "94bb4ee3-eec7-4979-85a3-95dc25c51bb0",
   "metadata": {},
   "outputs": [],
   "source": []
  },
  {
   "cell_type": "code",
   "execution_count": 17,
   "id": "6519005d-6a00-4f5c-9276-f025c00453b3",
   "metadata": {
    "execution": {
     "iopub.execute_input": "2024-05-25T01:11:12.468981Z",
     "iopub.status.busy": "2024-05-25T01:11:12.468103Z",
     "iopub.status.idle": "2024-05-25T01:11:40.789797Z",
     "shell.execute_reply": "2024-05-25T01:11:40.789097Z",
     "shell.execute_reply.started": "2024-05-25T01:11:12.468934Z"
    },
    "tags": []
   },
   "outputs": [
    {
     "name": "stdout",
     "output_type": "stream",
     "text": [
      "The current lr is [0.0001].\n",
      "At iter 10/259725, epoch 1, the losses are 0.245 (train). the base losses are 0.099 (train). The time used is 8.757s. \n",
      "At iter 20/259725, epoch 1, the losses are 0.238 (train). the base losses are 0.113 (train). The time used is 7.966s. \n",
      "At iter 30/259725, epoch 1, the losses are 0.234 (train). the base losses are 0.098 (train). The time used is 8.087s. \n"
     ]
    },
    {
     "name": "stderr",
     "output_type": "stream",
     "text": [
      "\n",
      "KeyboardInterrupt\n",
      "\n"
     ]
    }
   ],
   "source": [
    "def evaluate(net):\n",
    "    sub_idxs = torch.randint(low=0, high=len(test_data_loader), size=(32, ))\n",
    "    losses = []\n",
    "    losses_base = []\n",
    "    for sub_idx in sub_idxs:\n",
    "        batch_test = test_data_loader(sub_idx.item())\n",
    "        X_test, Y_test, Y_test_move = trans_batch(batch_test)\n",
    "        X_testp = X_test + pos_enc;\n",
    "        net.eval()\n",
    "        with torch.no_grad():\n",
    "            netout = net(X_testp, X_test)\n",
    "            loss = ordinal_mse_loss(netout, Y_test, num_cls=2**config.k)\n",
    "            loss_base = ordinal_mse_loss(Y_test_move, Y_test, num_cls=2**config.k)\n",
    "            #loss = my_nllloss(netout, Y_test, num_cls=2**config.k)\n",
    "            #loss_base = my_nllloss(Y_test_move, Y_test, num_cls=2**config.k)\n",
    "        losses.append(loss.item())\n",
    "        losses_base.append(loss_base.item())\n",
    "    net.train()\n",
    "    return np.median(losses), np.median(losses_base)\n",
    "\n",
    "# training\n",
    "loss_cur = []\n",
    "loss_base_cur = []\n",
    "if SAVED_MODEL is None:\n",
    "    losses = []\n",
    "    losses_test = []\n",
    "else:\n",
    "    losses = saved_model.losses\n",
    "    losses_test = saved_model.losses_test\n",
    "\n",
    "t0 = time.time()\n",
    "for iep in range(paras_train.nepoch):\n",
    "    train_data_loader = MyDataLoader(train_data, batch_size=config.batch_size, shuffle=True)\n",
    "    print(f\"The current lr is {scheduler.get_last_lr()}.\")\n",
    "    for ix in range(len(train_data_loader)):\n",
    "        batch = train_data_loader(ix)\n",
    "        X, Y, Y_move = trans_batch(batch)\n",
    "        Xp = X + pos_enc\n",
    "        # Zero the gradients\n",
    "        optimizer.zero_grad()\n",
    "        \n",
    "        netout = net(Xp, X)\n",
    "        loss = ordinal_mse_loss(netout, Y, num_cls=2**config.k)\n",
    "        loss_base = ordinal_mse_loss(Y_move, Y, num_cls=2**config.k)\n",
    "        #loss = my_nllloss(netout, Y, num_cls=2**config.k)\n",
    "        #loss_base = my_nllloss(Y_move, Y, num_cls=2**config.k)\n",
    "        \n",
    "        # Perform backward pass\n",
    "        loss.backward()\n",
    "        \n",
    "        torch.nn.utils.clip_grad_norm_(net.parameters(), paras_train.clip)\n",
    "        # Perform optimization\n",
    "        optimizer.step()\n",
    "        \n",
    "        loss_cur.append(loss.item())\n",
    "        loss_base_cur.append(loss_base.item())\n",
    "        if ix % paras_train.loss_out == (paras_train.loss_out-1):\n",
    "            losses.append(np.median(loss_cur))\n",
    "            print(f\"At iter {ix+1}/{len(train_data_loader)}, epoch {iep+1}, \"\n",
    "                  f\"the losses are {losses[-1]:.3f} (train). \"\n",
    "                  f\"the base losses are {np.median(loss_base_cur):.3f} (train). \"\n",
    "                  f\"The time used is {delta_time(t0):.3f}s. \"\n",
    "                 )\n",
    "            loss_cur = []\n",
    "            loss_base_cur = []\n",
    "            t0 = time.time()\n",
    "            \n",
    "        if ix % paras_train.test_loss_out == (paras_train.test_loss_out-1):\n",
    "            test_loss = evaluate(net)\n",
    "            losses_test.append(test_loss[0])\n",
    "            print(f\"At iter {ix+1}/{len(train_data_loader)}, epoch {iep+1}, \"\n",
    "                  f\"the losses are {losses_test[-1]:.3f} (test). \"\n",
    "                  f\"the base losses are {test_loss[1]:.3f} (test). \"\n",
    "                 )\n",
    "        \n",
    "    #if ix % paras_train.lr_step == (paras_train.lr_step-1):\n",
    "    scheduler.step()\n",
    "    \n",
    "    # save the model \n",
    "    model_res = edict()\n",
    "    model_res.config = config\n",
    "    model_res.loss_fn = loss_fn\n",
    "    model_res.losses = losses\n",
    "    model_res.losses_test = losses_test\n",
    "    model_res.paras_train = paras_train\n",
    "    \n",
    "    if SAVED_MODEL is None:\n",
    "        cur_model_name = f\"{MODEL_NAME}_epoch{iep+1}\"\n",
    "    else:\n",
    "        cur_model_name = f\"{MODEL_NAME}_epoch{iep+1}_w_{SAVED_MODEL}\"\n",
    "        \n",
    "    save_pkl_dict2folder(RES_ROOT/cur_model_name, model_res, is_force=True)\n",
    "    # save model     \n",
    "    torch.save(net.state_dict(), RES_ROOT/cur_model_name/\"model.pth\")\n",
    "    torch.save(optimizer.state_dict(), RES_ROOT/cur_model_name/\"optimizer.pth\")\n",
    "    torch.save(scheduler.state_dict(), RES_ROOT/cur_model_name/\"scheduler.pth\")\n",
    "    # copy class file \n",
    "    shutil.copy(MODEL_ROOT/MODEL_CLASS, RES_ROOT/cur_model_name/\"model_class.py\")\n",
    "    net.cuda()"
   ]
  },
  {
   "cell_type": "code",
   "execution_count": 20,
   "id": "38f2fdc5-f998-4f9a-abce-cd3c553aeaef",
   "metadata": {
    "execution": {
     "iopub.execute_input": "2024-05-22T19:17:03.730471Z",
     "iopub.status.busy": "2024-05-22T19:17:03.729562Z",
     "iopub.status.idle": "2024-05-22T19:17:03.883603Z",
     "shell.execute_reply": "2024-05-22T19:17:03.883162Z",
     "shell.execute_reply.started": "2024-05-22T19:17:03.730407Z"
    },
    "tags": []
   },
   "outputs": [
    {
     "data": {
      "image/png": "[encoded data removed]",
      "text/plain": [
       "<Figure size 1000x500 with 1 Axes>"
      ]
     },
     "metadata": {},
     "output_type": "display_data"
    }
   ],
   "source": [
    "if not RUN_PYTHON_SCRIPT:\n",
    "    plt.plot(losses)\n",
    "    #plt.plot(losses_test)\n",
    "    #plt.yscale(\"log\")"
   ]
  },
  {
   "cell_type": "code",
   "execution_count": null,
   "id": "b4cdaa40-024d-4616-a775-d0a3922e7ce6",
   "metadata": {},
   "outputs": [],
   "source": []
  },
  {
   "cell_type": "code",
   "execution_count": null,
   "id": "309d2d3b-651f-4793-8dbf-6872c928af4e",
   "metadata": {},
   "outputs": [],
   "source": []
  }
 ],
 "metadata": {
  "kernelspec": {
   "display_name": "SSH hyperion.radiology.ucsf.edu hyperion-EEG",
   "language": "",
   "name": "rik_ssh_hyperion_radiology_ucsf_edu_hyperioneeg"
  },
  "language_info": {
   "codemirror_mode": {
    "name": "ipython",
    "version": 3
   },
   "file_extension": ".py",
   "mimetype": "text/x-python",
   "name": "python",
   "nbconvert_exporter": "python",
   "pygments_lexer": "ipython3",
   "version": "3.9.19"
  },
  "toc-autonumbering": false,
  "toc-showmarkdowntxt": false,
  "toc-showtags": true
 },
 "nbformat": 4,
 "nbformat_minor": 5
}
