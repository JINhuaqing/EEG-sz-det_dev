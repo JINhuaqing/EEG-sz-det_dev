{
 "cells": [
  {
   "cell_type": "markdown",
   "id": "95caf4b7-9c2c-46bf-85d4-88e626c585bb",
   "metadata": {},
   "source": [
    "I try to test the edf data"
   ]
  },
  {
   "cell_type": "markdown",
   "id": "9bb15bfc-6c4c-41c8-9c7b-755e67a56ebd",
   "metadata": {},
   "source": [
    "# Import pkgs"
   ]
  },
  {
   "cell_type": "code",
   "execution_count": 2,
   "id": "12ad7900-b361-4ed1-9739-f8f3991e9d7f",
   "metadata": {
    "execution": {
     "iopub.execute_input": "2023-04-05T21:36:29.226381Z",
     "iopub.status.busy": "2023-04-05T21:36:29.225783Z",
     "iopub.status.idle": "2023-04-05T21:36:31.795418Z",
     "shell.execute_reply": "2023-04-05T21:36:31.794066Z",
     "shell.execute_reply.started": "2023-04-05T21:36:29.226334Z"
    },
    "tags": []
   },
   "outputs": [],
   "source": [
    "import sys\n",
    "sys.path.append(\"../mypkg\")\n",
    "from constants import RES_ROOT, FIG_ROOT, DATA_ROOT"
   ]
  },
  {
   "cell_type": "code",
   "execution_count": 3,
   "id": "ddac7d35-0f9c-4c85-a648-d9a0a1fda28e",
   "metadata": {
    "execution": {
     "iopub.execute_input": "2023-04-05T21:36:36.857880Z",
     "iopub.status.busy": "2023-04-05T21:36:36.857138Z",
     "iopub.status.idle": "2023-04-05T21:36:42.596703Z",
     "shell.execute_reply": "2023-04-05T21:36:42.595755Z",
     "shell.execute_reply.started": "2023-04-05T21:36:36.857826Z"
    },
    "tags": []
   },
   "outputs": [],
   "source": [
    "import numpy as np\n",
    "import scipy\n",
    "import matplotlib.pyplot as plt\n",
    "import seaborn as sns\n",
    "\n",
    "%matplotlib inline"
   ]
  },
  {
   "cell_type": "code",
   "execution_count": 4,
   "id": "fc36f852-488b-4f7e-b632-e19788e3dfab",
   "metadata": {
    "execution": {
     "iopub.execute_input": "2023-04-05T21:36:48.407501Z",
     "iopub.status.busy": "2023-04-05T21:36:48.406739Z",
     "iopub.status.idle": "2023-04-05T21:36:57.410159Z",
     "shell.execute_reply": "2023-04-05T21:36:57.408923Z",
     "shell.execute_reply.started": "2023-04-05T21:36:48.407435Z"
    },
    "tags": []
   },
   "outputs": [],
   "source": [
    "import torch\n",
    "import torch.nn as nn\n",
    "import pyedflib\n",
    "from pyedflib import highlevel"
   ]
  },
  {
   "cell_type": "markdown",
   "id": "bb8f0f2a-3dc9-452b-82b5-f38f7937ab9d",
   "metadata": {},
   "source": [
    "# Load data"
   ]
  },
  {
   "cell_type": "code",
   "execution_count": 31,
   "id": "ffbd7837-1e8b-4ffb-accb-7583d78dd4bd",
   "metadata": {
    "execution": {
     "iopub.execute_input": "2023-04-05T21:47:23.041210Z",
     "iopub.status.busy": "2023-04-05T21:47:23.040629Z",
     "iopub.status.idle": "2023-04-05T21:47:23.053933Z",
     "shell.execute_reply": "2023-04-05T21:47:23.052671Z",
     "shell.execute_reply.started": "2023-04-05T21:47:23.041164Z"
    },
    "tags": []
   },
   "outputs": [],
   "source": [
    "edf_trains = list(DATA_ROOT.glob(\"EEG_seizure/edf/train/*\"))"
   ]
  },
  {
   "cell_type": "code",
   "execution_count": 36,
   "id": "da6d15fa-f40c-4c3a-b8ab-bd8c6d423427",
   "metadata": {
    "execution": {
     "iopub.execute_input": "2023-04-05T21:48:35.563401Z",
     "iopub.status.busy": "2023-04-05T21:48:35.562794Z",
     "iopub.status.idle": "2023-04-05T21:48:47.415861Z",
     "shell.execute_reply": "2023-04-05T21:48:47.414480Z",
     "shell.execute_reply.started": "2023-04-05T21:48:35.563355Z"
    },
    "tags": []
   },
   "outputs": [],
   "source": [
    "ps = []\n",
    "for px in edf_trains:\n",
    "    for p in  px.rglob(\"0*\"):\n",
    "        ps.append(p)"
   ]
  },
  {
   "cell_type": "code",
   "execution_count": 40,
   "id": "2ea5e98c-d09e-44d4-a969-e5b15bc2d1a9",
   "metadata": {
    "execution": {
     "iopub.execute_input": "2023-04-05T21:49:45.650789Z",
     "iopub.status.busy": "2023-04-05T21:49:45.650167Z",
     "iopub.status.idle": "2023-04-05T21:49:45.656417Z",
     "shell.execute_reply": "2023-04-05T21:49:45.655312Z",
     "shell.execute_reply.started": "2023-04-05T21:49:45.650742Z"
    },
    "tags": []
   },
   "outputs": [],
   "source": [
    "import pandas as pd"
   ]
  },
  {
   "cell_type": "code",
   "execution_count": 46,
   "id": "b9d0ebbd-b420-487d-a5ce-66c24190967d",
   "metadata": {
    "collapsed": true,
    "execution": {
     "iopub.execute_input": "2023-04-05T21:51:52.307462Z",
     "iopub.status.busy": "2023-04-05T21:51:52.306875Z",
     "iopub.status.idle": "2023-04-05T21:51:52.322186Z",
     "shell.execute_reply": "2023-04-05T21:51:52.320979Z",
     "shell.execute_reply.started": "2023-04-05T21:51:52.307405Z"
    },
    "jupyter": {
     "outputs_hidden": true
    },
    "tags": []
   },
   "outputs": [
    {
     "data": {
      "text/plain": [
       "PosixPath('/data/rajlab1/user_data/jin/MyResearch/gTVDN-NN/notebooks/../mypkg/../data/EEG_seizure/edf/train/aaaaaaac/s001_2002_12_23/02_tcp_le/aaaaaaac_s001_t001.csv')"
      ]
     },
     "execution_count": 46,
     "metadata": {},
     "output_type": "execute_result"
    }
   ],
   "source": [
    "fil =  list(ps[0].rglob(\"*[0-9].csv\"))[1]\n",
    "fil"
   ]
  },
  {
   "cell_type": "code",
   "execution_count": 49,
   "id": "a5622d91-b417-438b-9e4c-ec424e7b472a",
   "metadata": {
    "execution": {
     "iopub.execute_input": "2023-04-05T21:54:34.463771Z",
     "iopub.status.busy": "2023-04-05T21:54:34.463115Z",
     "iopub.status.idle": "2023-04-05T21:54:34.479187Z",
     "shell.execute_reply": "2023-04-05T21:54:34.478073Z",
     "shell.execute_reply.started": "2023-04-05T21:54:34.463721Z"
    },
    "tags": []
   },
   "outputs": [],
   "source": [
    "with open(fil, \"r\") as f:\n",
    "    tt = f.readlines()"
   ]
  },
  {
   "cell_type": "code",
   "execution_count": 53,
   "id": "086cab85-4e81-4179-a1bd-f25af4d8d32a",
   "metadata": {
    "execution": {
     "iopub.execute_input": "2023-04-05T21:55:53.468585Z",
     "iopub.status.busy": "2023-04-05T21:55:53.468005Z",
     "iopub.status.idle": "2023-04-05T21:55:53.498816Z",
     "shell.execute_reply": "2023-04-05T21:55:53.497822Z",
     "shell.execute_reply.started": "2023-04-05T21:55:53.468539Z"
    },
    "tags": []
   },
   "outputs": [
    {
     "data": {
      "text/html": [
       "<div>\n",
       "<style scoped>\n",
       "    .dataframe tbody tr th:only-of-type {\n",
       "        vertical-align: middle;\n",
       "    }\n",
       "\n",
       "    .dataframe tbody tr th {\n",
       "        vertical-align: top;\n",
       "    }\n",
       "\n",
       "    .dataframe thead th {\n",
       "        text-align: right;\n",
       "    }\n",
       "</style>\n",
       "<table border=\"1\" class=\"dataframe\">\n",
       "  <thead>\n",
       "    <tr style=\"text-align: right;\">\n",
       "      <th></th>\n",
       "      <th>channel</th>\n",
       "      <th>start_time</th>\n",
       "      <th>stop_time</th>\n",
       "      <th>label</th>\n",
       "      <th>confidence</th>\n",
       "    </tr>\n",
       "  </thead>\n",
       "  <tbody>\n",
       "    <tr>\n",
       "      <th>0</th>\n",
       "      <td>FP1-F7</td>\n",
       "      <td>0.0000</td>\n",
       "      <td>12.0764</td>\n",
       "      <td>bckg</td>\n",
       "      <td>1.0</td>\n",
       "    </tr>\n",
       "    <tr>\n",
       "      <th>1</th>\n",
       "      <td>FP1-F7</td>\n",
       "      <td>12.0764</td>\n",
       "      <td>134.1667</td>\n",
       "      <td>cpsz</td>\n",
       "      <td>1.0</td>\n",
       "    </tr>\n",
       "    <tr>\n",
       "      <th>2</th>\n",
       "      <td>FP1-F7</td>\n",
       "      <td>134.1667</td>\n",
       "      <td>236.0000</td>\n",
       "      <td>bckg</td>\n",
       "      <td>1.0</td>\n",
       "    </tr>\n",
       "    <tr>\n",
       "      <th>3</th>\n",
       "      <td>F7-T3</td>\n",
       "      <td>0.0000</td>\n",
       "      <td>12.0764</td>\n",
       "      <td>bckg</td>\n",
       "      <td>1.0</td>\n",
       "    </tr>\n",
       "    <tr>\n",
       "      <th>4</th>\n",
       "      <td>F7-T3</td>\n",
       "      <td>12.0764</td>\n",
       "      <td>134.1667</td>\n",
       "      <td>cpsz</td>\n",
       "      <td>1.0</td>\n",
       "    </tr>\n",
       "    <tr>\n",
       "      <th>...</th>\n",
       "      <td>...</td>\n",
       "      <td>...</td>\n",
       "      <td>...</td>\n",
       "      <td>...</td>\n",
       "      <td>...</td>\n",
       "    </tr>\n",
       "    <tr>\n",
       "      <th>61</th>\n",
       "      <td>C4-P4</td>\n",
       "      <td>12.0764</td>\n",
       "      <td>140.3512</td>\n",
       "      <td>cpsz</td>\n",
       "      <td>1.0</td>\n",
       "    </tr>\n",
       "    <tr>\n",
       "      <th>62</th>\n",
       "      <td>C4-P4</td>\n",
       "      <td>140.3512</td>\n",
       "      <td>236.0000</td>\n",
       "      <td>bckg</td>\n",
       "      <td>1.0</td>\n",
       "    </tr>\n",
       "    <tr>\n",
       "      <th>63</th>\n",
       "      <td>P4-O2</td>\n",
       "      <td>0.0000</td>\n",
       "      <td>12.0764</td>\n",
       "      <td>bckg</td>\n",
       "      <td>1.0</td>\n",
       "    </tr>\n",
       "    <tr>\n",
       "      <th>64</th>\n",
       "      <td>P4-O2</td>\n",
       "      <td>12.0764</td>\n",
       "      <td>140.3512</td>\n",
       "      <td>cpsz</td>\n",
       "      <td>1.0</td>\n",
       "    </tr>\n",
       "    <tr>\n",
       "      <th>65</th>\n",
       "      <td>P4-O2</td>\n",
       "      <td>140.3512</td>\n",
       "      <td>236.0000</td>\n",
       "      <td>bckg</td>\n",
       "      <td>1.0</td>\n",
       "    </tr>\n",
       "  </tbody>\n",
       "</table>\n",
       "<p>66 rows × 5 columns</p>\n",
       "</div>"
      ],
      "text/plain": [
       "   channel  start_time  stop_time label  confidence\n",
       "0   FP1-F7      0.0000    12.0764  bckg         1.0\n",
       "1   FP1-F7     12.0764   134.1667  cpsz         1.0\n",
       "2   FP1-F7    134.1667   236.0000  bckg         1.0\n",
       "3    F7-T3      0.0000    12.0764  bckg         1.0\n",
       "4    F7-T3     12.0764   134.1667  cpsz         1.0\n",
       "..     ...         ...        ...   ...         ...\n",
       "61   C4-P4     12.0764   140.3512  cpsz         1.0\n",
       "62   C4-P4    140.3512   236.0000  bckg         1.0\n",
       "63   P4-O2      0.0000    12.0764  bckg         1.0\n",
       "64   P4-O2     12.0764   140.3512  cpsz         1.0\n",
       "65   P4-O2    140.3512   236.0000  bckg         1.0\n",
       "\n",
       "[66 rows x 5 columns]"
      ]
     },
     "execution_count": 53,
     "metadata": {},
     "output_type": "execute_result"
    }
   ],
   "source": [
    "pd.read_csv(fil, sep=\",\", skiprows=5)"
   ]
  },
  {
   "cell_type": "code",
   "execution_count": 37,
   "id": "f51f6771-7712-4b31-adb0-f35ca69b1046",
   "metadata": {
    "execution": {
     "iopub.execute_input": "2023-04-05T21:48:49.288369Z",
     "iopub.status.busy": "2023-04-05T21:48:49.287801Z",
     "iopub.status.idle": "2023-04-05T21:48:49.296192Z",
     "shell.execute_reply": "2023-04-05T21:48:49.294971Z",
     "shell.execute_reply.started": "2023-04-05T21:48:49.288324Z"
    },
    "tags": []
   },
   "outputs": [
    {
     "data": {
      "text/plain": [
       "1175"
      ]
     },
     "execution_count": 37,
     "metadata": {},
     "output_type": "execute_result"
    }
   ],
   "source": [
    "len(ps)"
   ]
  },
  {
   "cell_type": "code",
   "execution_count": 47,
   "id": "40ec8a24-e505-4cd7-b6fa-dcba90787b59",
   "metadata": {
    "execution": {
     "iopub.execute_input": "2023-04-03T22:18:45.837650Z",
     "iopub.status.busy": "2023-04-03T22:18:45.836811Z",
     "iopub.status.idle": "2023-04-03T22:18:45.861096Z",
     "shell.execute_reply": "2023-04-03T22:18:45.860338Z",
     "shell.execute_reply.started": "2023-04-03T22:18:45.837608Z"
    },
    "tags": []
   },
   "outputs": [
    {
     "data": {
      "text/plain": [
       "PosixPath('/data/rajlab1/user_data/jin/MyResearch/gTVDN-NN/mypkg/../data/EEG_seizure/edf/train/aaaaaaag/s004_2007_02_02/03_tcp_ar_a/aaaaaaag_s004_t000.edf')"
      ]
     },
     "execution_count": 47,
     "metadata": {},
     "output_type": "execute_result"
    }
   ],
   "source": [
    "path_sample_edf = list(list(list(edf_trains[1].glob(\"*\"))[0].glob(\"*\"))[0].glob(\"*.edf\"))[0]\n",
    "path_sample_edf"
   ]
  },
  {
   "cell_type": "code",
   "execution_count": 48,
   "id": "94dd10a8-5cde-45cc-ada2-35eb1f48baa0",
   "metadata": {
    "execution": {
     "iopub.execute_input": "2023-04-03T22:18:48.293706Z",
     "iopub.status.busy": "2023-04-03T22:18:48.292960Z",
     "iopub.status.idle": "2023-04-03T22:19:19.745774Z",
     "shell.execute_reply": "2023-04-03T22:19:19.745220Z",
     "shell.execute_reply.started": "2023-04-03T22:18:48.293665Z"
    },
    "tags": []
   },
   "outputs": [],
   "source": [
    "data = highlevel.read_edf(str(path_sample_edf))"
   ]
  },
  {
   "cell_type": "markdown",
   "id": "a4e54370-92c4-4599-aeae-30a68657f0b3",
   "metadata": {},
   "source": [
    "# Check it "
   ]
  },
  {
   "cell_type": "code",
   "execution_count": 49,
   "id": "fb2d8eb1-6a5c-4ff8-9f5f-03af021b22c2",
   "metadata": {
    "execution": {
     "iopub.execute_input": "2023-04-03T22:19:19.746740Z",
     "iopub.status.busy": "2023-04-03T22:19:19.746487Z",
     "iopub.status.idle": "2023-04-03T22:19:25.450560Z",
     "shell.execute_reply": "2023-04-03T22:19:25.450036Z",
     "shell.execute_reply.started": "2023-04-03T22:19:19.746726Z"
    },
    "tags": []
   },
   "outputs": [
    {
     "data": {
      "image/png": "[encoded data removed]",
      "text/plain": [
       "<Figure size 432x288 with 1 Axes>"
      ]
     },
     "metadata": {
      "needs_background": "light"
     },
     "output_type": "display_data"
    }
   ],
   "source": [
    "seqs = data[0]\n",
    "for ix in range(seqs.shape[0]):\n",
    "    plt.plot(seqs[ix])"
   ]
  },
  {
   "cell_type": "code",
   "execution_count": 55,
   "id": "0d1f12b7-4c4d-41c5-ba6a-596841bb64d1",
   "metadata": {
    "execution": {
     "iopub.execute_input": "2023-04-04T23:58:48.439599Z",
     "iopub.status.busy": "2023-04-04T23:58:48.438981Z",
     "iopub.status.idle": "2023-04-04T23:58:48.448673Z",
     "shell.execute_reply": "2023-04-04T23:58:48.447602Z",
     "shell.execute_reply.started": "2023-04-04T23:58:48.439554Z"
    },
    "tags": []
   },
   "outputs": [
    {
     "data": {
      "text/plain": [
       "(32, 568400)"
      ]
     },
     "execution_count": 55,
     "metadata": {},
     "output_type": "execute_result"
    }
   ],
   "source": [
    "seqs.shape"
   ]
  },
  {
   "cell_type": "code",
   "execution_count": 51,
   "id": "082e929b-5f4e-47c6-ab9f-38066a11d67f",
   "metadata": {
    "collapsed": true,
    "execution": {
     "iopub.execute_input": "2023-04-03T22:19:31.182250Z",
     "iopub.status.busy": "2023-04-03T22:19:31.181384Z",
     "iopub.status.idle": "2023-04-03T22:19:31.190110Z",
     "shell.execute_reply": "2023-04-03T22:19:31.189288Z",
     "shell.execute_reply.started": "2023-04-03T22:19:31.182207Z"
    },
    "jupyter": {
     "outputs_hidden": true
    },
    "tags": []
   },
   "outputs": [
    {
     "data": {
      "text/plain": [
       "['EEG FP1-REF',\n",
       " 'EEG FP2-REF',\n",
       " 'EEG F3-REF',\n",
       " 'EEG F4-REF',\n",
       " 'EEG C3-REF',\n",
       " 'EEG C4-REF',\n",
       " 'EEG P3-REF',\n",
       " 'EEG P4-REF',\n",
       " 'EEG O1-REF',\n",
       " 'EEG O2-REF',\n",
       " 'EEG F7-REF',\n",
       " 'EEG F8-REF',\n",
       " 'EEG T3-REF',\n",
       " 'EEG T4-REF',\n",
       " 'EEG T5-REF',\n",
       " 'EEG T6-REF',\n",
       " 'EEG FZ-REF',\n",
       " 'EEG CZ-REF',\n",
       " 'EEG PZ-REF',\n",
       " 'EEG 20-REF',\n",
       " 'EEG 21-REF',\n",
       " 'EEG 22-REF',\n",
       " 'EEG 23-REF',\n",
       " 'EEG 24-REF',\n",
       " 'EEG 25-REF',\n",
       " 'EEG 26-REF',\n",
       " 'EEG 27-REF',\n",
       " 'EEG 28-REF',\n",
       " 'EEG 29-REF',\n",
       " 'EEG 30-REF',\n",
       " 'EEG 31-REF',\n",
       " 'EEG 32-REF']"
      ]
     },
     "execution_count": 51,
     "metadata": {},
     "output_type": "execute_result"
    }
   ],
   "source": [
    "[ix['label'] for ix in data[1]]"
   ]
  },
  {
   "cell_type": "code",
   "execution_count": null,
   "id": "71ba9923-7056-450e-9800-00145648cd00",
   "metadata": {},
   "outputs": [],
   "source": []
  }
 ],
 "metadata": {
  "kernelspec": {
   "display_name": "Python 3 (ipykernel)",
   "language": "python",
   "name": "python3"
  },
  "language_info": {
   "codemirror_mode": {
    "name": "ipython",
    "version": 3
   },
   "file_extension": ".py",
   "mimetype": "text/x-python",
   "name": "python",
   "nbconvert_exporter": "python",
   "pygments_lexer": "ipython3",
   "version": "3.9.7"
  },
  "toc-autonumbering": true,
  "toc-showcode": false,
  "toc-showmarkdowntxt": true
 },
 "nbformat": 4,
 "nbformat_minor": 5
}
