{
 "cells": [
  {
   "cell_type": "markdown",
   "id": "65afc5c6-4f4d-4c8d-b6fc-2d5bd3dbd2fa",
   "metadata": {},
   "source": [
    "This file is to test my model on the TUH-EEG-seizure data\n",
    "\n",
    "Now my model is a VAR(k) model, where k is a move step.\n",
    "\n",
    "I do not use the SC layer. \n",
    "\n",
    "X_t+k = exp(A_t k*dlt)X_t for k =1, ldots, KX_t+k = exp(A_t k*dlt)X_t for k =1, ldots, K"
   ]
  },
  {
   "cell_type": "code",
   "execution_count": 1,
   "id": "145684f6-e426-480d-bad6-dd7d86f3b54b",
   "metadata": {
    "execution": {
     "iopub.execute_input": "2023-05-09T17:21:20.934025Z",
     "iopub.status.busy": "2023-05-09T17:21:20.933319Z",
     "iopub.status.idle": "2023-05-09T17:21:20.944313Z",
     "shell.execute_reply": "2023-05-09T17:21:20.943358Z",
     "shell.execute_reply.started": "2023-05-09T17:21:20.933985Z"
    },
    "tags": []
   },
   "outputs": [],
   "source": [
    "RUN_PYTHON_SCRIPT = False\n",
    "MODEL_NAME = \"mstep_dlt\"\n",
    "SAVED_MODEL = None\n",
    "#SAVED_MODEL = \"lay2_VARk_epoch1\""
   ]
  },
  {
   "cell_type": "code",
   "execution_count": 2,
   "id": "dc0c4737-aff1-41f8-a4ca-9c9659dd7512",
   "metadata": {
    "execution": {
     "iopub.execute_input": "2023-05-09T17:21:20.954104Z",
     "iopub.status.busy": "2023-05-09T17:21:20.953387Z",
     "iopub.status.idle": "2023-05-09T17:21:22.359861Z",
     "shell.execute_reply": "2023-05-09T17:21:22.358424Z",
     "shell.execute_reply.started": "2023-05-09T17:21:20.954062Z"
    },
    "tags": []
   },
   "outputs": [],
   "source": [
    "import sys\n",
    "sys.path.append(\"../mypkg\")\n",
    "from constants import RES_ROOT, FIG_ROOT, DATA_ROOT"
   ]
  },
  {
   "cell_type": "code",
   "execution_count": 3,
   "id": "fd0b2ec3-922a-40d5-ad69-4701aa9ad1fa",
   "metadata": {
    "execution": {
     "iopub.execute_input": "2023-05-09T17:21:22.362361Z",
     "iopub.status.busy": "2023-05-09T17:21:22.361579Z",
     "iopub.status.idle": "2023-05-09T17:21:26.697511Z",
     "shell.execute_reply": "2023-05-09T17:21:26.696081Z",
     "shell.execute_reply.started": "2023-05-09T17:21:22.362316Z"
    },
    "tags": []
   },
   "outputs": [],
   "source": [
    "import numpy as np\n",
    "import scipy\n",
    "import matplotlib.pyplot as plt\n",
    "import seaborn as sns\n",
    "from easydict import EasyDict as edict\n",
    "import time\n",
    "\n",
    "if not RUN_PYTHON_SCRIPT:\n",
    "    plt.style.use(FIG_ROOT/\"base.mplstyle\")"
   ]
  },
  {
   "cell_type": "code",
   "execution_count": 4,
   "id": "612a1577-8d0c-4c34-991f-aecadd00c783",
   "metadata": {
    "execution": {
     "iopub.execute_input": "2023-05-09T17:21:26.700179Z",
     "iopub.status.busy": "2023-05-09T17:21:26.699264Z",
     "iopub.status.idle": "2023-05-09T17:21:41.100407Z",
     "shell.execute_reply": "2023-05-09T17:21:41.099019Z",
     "shell.execute_reply.started": "2023-05-09T17:21:26.700125Z"
    },
    "tags": []
   },
   "outputs": [
    {
     "data": {
      "text/plain": [
       "<module 'data_utils.eeg_load' from '/data/rajlab1/user_data/jin/MyResearch/gTVDN-NN/notebooks/../mypkg/data_utils/eeg_load.py'>"
      ]
     },
     "execution_count": 4,
     "metadata": {},
     "output_type": "execute_result"
    }
   ],
   "source": [
    "import importlib\n",
    "import data_utils.eeg_load\n",
    "importlib.reload(data_utils.eeg_load)"
   ]
  },
  {
   "cell_type": "code",
   "execution_count": 15,
   "id": "870bf723-ebfa-4975-adad-53279ce21e0e",
   "metadata": {
    "execution": {
     "iopub.execute_input": "2023-05-09T17:22:14.997518Z",
     "iopub.status.busy": "2023-05-09T17:22:14.996896Z",
     "iopub.status.idle": "2023-05-09T17:22:15.004525Z",
     "shell.execute_reply": "2023-05-09T17:22:15.003378Z",
     "shell.execute_reply.started": "2023-05-09T17:22:14.997473Z"
    },
    "tags": [
     "mypkg"
    ]
   },
   "outputs": [],
   "source": [
    "from models.my_main_model import myNet\n",
    "from models.model_utils import generate_position_encode\n",
    "from models.netout2pred_fns import netout2loss_tvdn\n",
    "from data_utils.eeg_load import EEG_data, MyDataLoader\n",
    "from utils.misc import delta_time, load_pkl_folder2dict, save_pkl_dict2folder, truncated_mean_upper"
   ]
  },
  {
   "cell_type": "code",
   "execution_count": 6,
   "id": "1c0dd819-8b02-4c78-b283-633dd643a7a7",
   "metadata": {
    "execution": {
     "iopub.execute_input": "2023-05-09T17:21:41.287868Z",
     "iopub.status.busy": "2023-05-09T17:21:41.287135Z",
     "iopub.status.idle": "2023-05-09T17:21:41.296129Z",
     "shell.execute_reply": "2023-05-09T17:21:41.294927Z",
     "shell.execute_reply.started": "2023-05-09T17:21:41.287825Z"
    },
    "tags": []
   },
   "outputs": [],
   "source": [
    "# pkgs for pytorch (on Apr 3, 2023)\n",
    "import torch\n",
    "import torch.nn as nn\n",
    "from torch.functional import F\n",
    "from torch.optim.lr_scheduler import ExponentialLR\n",
    "from torch.utils.data import DataLoader\n",
    "\n",
    "torch.set_default_dtype(torch.float64)\n",
    "if torch.cuda.is_available():\n",
    "    torch.set_default_tensor_type(torch.cuda.DoubleTensor)\n",
    "    torch.backends.cudnn.benchmark = True\n",
    "    device = torch.device(\"cuda\")\n",
    "else:\n",
    "    torch.set_default_tensor_type(torch.DoubleTensor)\n",
    "    device = torch.device(\"cpu\")"
   ]
  },
  {
   "cell_type": "code",
   "execution_count": null,
   "id": "ee8a8444-1c37-4323-b1d9-bc033dcc584e",
   "metadata": {},
   "outputs": [],
   "source": []
  },
  {
   "cell_type": "markdown",
   "id": "6e86c794-a9ec-4239-8a21-e0369672fa9a",
   "metadata": {},
   "source": [
    "# training"
   ]
  },
  {
   "cell_type": "code",
   "execution_count": 8,
   "id": "44d38d87-d50a-45e9-97ff-c2cde38024ea",
   "metadata": {
    "execution": {
     "iopub.execute_input": "2023-05-09T17:21:44.783610Z",
     "iopub.status.busy": "2023-05-09T17:21:44.783010Z",
     "iopub.status.idle": "2023-05-09T17:21:44.795097Z",
     "shell.execute_reply": "2023-05-09T17:21:44.793815Z",
     "shell.execute_reply.started": "2023-05-09T17:21:44.783564Z"
    },
    "tags": []
   },
   "outputs": [],
   "source": [
    "if SAVED_MODEL is None:\n",
    "    config = edict()\n",
    "    config.nfeature = 19 # the dim of features at each time point\n",
    "    config.ndim = 256 # the output of the first FC layer\n",
    "    config.dropout = 0 # the dropout rate\n",
    "    config.n_layer = 1 # the number of self-attention layers\n",
    "    config.n_head = 8 # numher of heads for multi-head attention\n",
    "    config.is_mask = True # Use mask to make the attention causal\n",
    "    config.is_bias = True # Bias  for layernorm\n",
    "    config.block_size = 256 # the preset length of seq, \n",
    "    config.batch_size = 2 # the batch size\n",
    "    config.move_step = 32 # k, movestep\n",
    "    config.fs = 90\n",
    "    config.num_Bs = 45 # no use now (on May 9, 2023)\n",
    "    config.target_dim = 19**2\n",
    "    \n",
    "    paras_train = edict()\n",
    "    paras_train.nepoch= 2\n",
    "    paras_train.loss_out = 10\n",
    "    paras_train.clip = 1 # \n",
    "    paras_train.lr_step = 300\n",
    "    paras_train.test_loss_out = 50\n",
    "else:\n",
    "    saved_model_path = RES_ROOT/SAVED_MODEL\n",
    "    assert saved_model_path.exists(), \"No such model\"\n",
    "    saved_model = load_pkl_folder2dict(saved_model_path)\n",
    "    \n",
    "    config = saved_model.config\n",
    "    paras_train = saved_model.paras_train"
   ]
  },
  {
   "cell_type": "code",
   "execution_count": 9,
   "id": "01a6636d-568d-4c69-a777-2cf29c030332",
   "metadata": {
    "execution": {
     "iopub.execute_input": "2023-05-09T17:21:45.679970Z",
     "iopub.status.busy": "2023-05-09T17:21:45.679396Z",
     "iopub.status.idle": "2023-05-09T17:21:45.689993Z",
     "shell.execute_reply": "2023-05-09T17:21:45.688739Z",
     "shell.execute_reply.started": "2023-05-09T17:21:45.679924Z"
    },
    "tags": []
   },
   "outputs": [],
   "source": [
    "def trans_batch(batch):\n",
    "    \"\"\"transform the batch to make it easy for training\n",
    "    \"\"\"\n",
    "    batch = batch * 1e6\n",
    "    X, Y = batch[:, :config.block_size], batch[:, 1:]\n",
    "    Y_move = batch[:, :-1] # use X_t as prediction of X_t+1\n",
    "    return X, Y, Y_move\n",
    "\n",
    "\n",
    "def trun_MSE_loss(Y, Y_pred, quantile=0.5):\n",
    "    loss_fn1 = nn.MSELoss(reduction='none')\n",
    "    ls = loss_fn1(Y, Y_pred)\n",
    "    qv = torch.quantile(ls, quantile)\n",
    "    loss_v = ls[ls < qv].mean()\n",
    "    return loss_v"
   ]
  },
  {
   "cell_type": "code",
   "execution_count": 10,
   "id": "32453bd4-d9d9-4b3d-85bc-4b132e7e8a93",
   "metadata": {
    "execution": {
     "iopub.execute_input": "2023-05-09T17:21:46.137236Z",
     "iopub.status.busy": "2023-05-09T17:21:46.136710Z",
     "iopub.status.idle": "2023-05-09T17:21:46.521182Z",
     "shell.execute_reply": "2023-05-09T17:21:46.520666Z",
     "shell.execute_reply.started": "2023-05-09T17:21:46.137193Z"
    },
    "tags": []
   },
   "outputs": [
    {
     "name": "stdout",
     "output_type": "stream",
     "text": [
      "290300 12381\n"
     ]
    }
   ],
   "source": [
    "train_data = EEG_data(\"train_train\", \"AR\", \n",
    "                      move_dict=dict(winsize=config.block_size+config.move_step,\n",
    "                                     stepsize=config.block_size+config.move_step,\n",
    "                                     marginsize=None),\n",
    "                      preprocess_dict=dict(is_detrend=True, \n",
    "                                      is_drop=True,\n",
    "                                      target_fs=90, \n",
    "                                      filter_limit=[1, 45], \n",
    "                                      is_diff=False)\n",
    "                     )\n",
    "test_data = EEG_data(\"train_test\", \"AR\", \n",
    "                      move_dict=dict(winsize=config.block_size+config.move_step,\n",
    "                                     stepsize=config.block_size+config.move_step,\n",
    "                                     marginsize=None),\n",
    "                      preprocess_dict=dict(is_detrend=True, \n",
    "                                      is_drop=True,\n",
    "                                      target_fs=90, \n",
    "                                      filter_limit=[1, 45], \n",
    "                                      is_diff=False)\n",
    "                    )\n",
    "\n",
    "train_data_loader = MyDataLoader(train_data, batch_size=config.batch_size, shuffle=True)\n",
    "test_data_loader = MyDataLoader(test_data, batch_size=4, shuffle=False)\n",
    "print(len(train_data_loader), len(test_data_loader))"
   ]
  },
  {
   "cell_type": "code",
   "execution_count": 11,
   "id": "0ed6692b-f81b-4023-a3a5-a87e1b9a6913",
   "metadata": {
    "execution": {
     "iopub.execute_input": "2023-05-09T17:21:47.214571Z",
     "iopub.status.busy": "2023-05-09T17:21:47.213892Z",
     "iopub.status.idle": "2023-05-09T17:21:47.567415Z",
     "shell.execute_reply": "2023-05-09T17:21:47.566775Z",
     "shell.execute_reply.started": "2023-05-09T17:21:47.214507Z"
    },
    "tags": []
   },
   "outputs": [
    {
     "name": "stdout",
     "output_type": "stream",
     "text": [
      "number of parameters: 0.89M\n",
      "Adjusting learning rate of group 0 to 1.0000e-04.\n"
     ]
    },
    {
     "data": {
      "text/plain": [
       "<torch.optim.lr_scheduler.ExponentialLR at 0x7f1cfb44ebb0>"
      ]
     },
     "execution_count": 11,
     "metadata": {},
     "output_type": "execute_result"
    }
   ],
   "source": [
    "pos_enc = generate_position_encode(config.block_size, config.nfeature).unsqueeze(0)\n",
    "loss_fn = nn.HuberLoss()\n",
    "if SAVED_MODEL is None:\n",
    "    net = myNet(config)\n",
    "else:\n",
    "    net = saved_model.model\n",
    "    if torch.cuda.is_available():\n",
    "        net = net.cuda()\n",
    "optimizer = torch.optim.Adam(net.parameters(), lr=1e-4, weight_decay=0)\n",
    "scheduler = ExponentialLR(optimizer, gamma=0.1, verbose=True)"
   ]
  },
  {
   "cell_type": "code",
   "execution_count": 16,
   "id": "58954b1f-a643-4c19-a169-a0c84eeb8a03",
   "metadata": {
    "execution": {
     "iopub.execute_input": "2023-05-09T17:22:19.035497Z",
     "iopub.status.busy": "2023-05-09T17:22:19.034757Z",
     "iopub.status.idle": "2023-05-09T17:23:19.821176Z",
     "shell.execute_reply": "2023-05-09T17:23:19.820247Z",
     "shell.execute_reply.started": "2023-05-09T17:22:19.035447Z"
    },
    "tags": []
   },
   "outputs": [
    {
     "name": "stdout",
     "output_type": "stream",
     "text": [
      "At iter 10/290300, epoch 1, the losses are 10.050 (train). the base losses are 3.538 (train). The time used is 13.647s. \n",
      "At iter 20/290300, epoch 1, the losses are 13.412 (train). the base losses are 4.357 (train). The time used is 25.267s. \n",
      "At iter 30/290300, epoch 1, the losses are 8.700 (train). the base losses are 2.111 (train). The time used is 17.784s. \n"
     ]
    },
    {
     "ename": "KeyboardInterrupt",
     "evalue": "",
     "output_type": "error",
     "traceback": [
      "\u001b[0;31m---------------------------------------------------------------------------\u001b[0m",
      "\u001b[0;31mKeyboardInterrupt\u001b[0m                         Traceback (most recent call last)",
      "\u001b[0;32m/tmp/ipykernel_57371/4235666317.py\u001b[0m in \u001b[0;36m<module>\u001b[0;34m\u001b[0m\n\u001b[1;32m     31\u001b[0m     \u001b[0mtrain_data_loader\u001b[0m \u001b[0;34m=\u001b[0m \u001b[0mMyDataLoader\u001b[0m\u001b[0;34m(\u001b[0m\u001b[0mtrain_data\u001b[0m\u001b[0;34m,\u001b[0m \u001b[0mbatch_size\u001b[0m\u001b[0;34m=\u001b[0m\u001b[0mconfig\u001b[0m\u001b[0;34m.\u001b[0m\u001b[0mbatch_size\u001b[0m\u001b[0;34m,\u001b[0m \u001b[0mshuffle\u001b[0m\u001b[0;34m=\u001b[0m\u001b[0;32mTrue\u001b[0m\u001b[0;34m)\u001b[0m\u001b[0;34m\u001b[0m\u001b[0;34m\u001b[0m\u001b[0m\n\u001b[1;32m     32\u001b[0m     \u001b[0;32mfor\u001b[0m \u001b[0mix\u001b[0m \u001b[0;32min\u001b[0m \u001b[0mrange\u001b[0m\u001b[0;34m(\u001b[0m\u001b[0mlen\u001b[0m\u001b[0;34m(\u001b[0m\u001b[0mtrain_data_loader\u001b[0m\u001b[0;34m)\u001b[0m\u001b[0;34m)\u001b[0m\u001b[0;34m:\u001b[0m\u001b[0;34m\u001b[0m\u001b[0;34m\u001b[0m\u001b[0m\n\u001b[0;32m---> 33\u001b[0;31m         \u001b[0mbatch\u001b[0m \u001b[0;34m=\u001b[0m \u001b[0mtrain_data_loader\u001b[0m\u001b[0;34m(\u001b[0m\u001b[0mix\u001b[0m\u001b[0;34m)\u001b[0m\u001b[0;34m\u001b[0m\u001b[0;34m\u001b[0m\u001b[0m\n\u001b[0m\u001b[1;32m     34\u001b[0m         \u001b[0mX\u001b[0m\u001b[0;34m,\u001b[0m \u001b[0mY\u001b[0m\u001b[0;34m,\u001b[0m \u001b[0mY_move\u001b[0m \u001b[0;34m=\u001b[0m \u001b[0mtrans_batch\u001b[0m\u001b[0;34m(\u001b[0m\u001b[0mbatch\u001b[0m\u001b[0;34m)\u001b[0m\u001b[0;34m\u001b[0m\u001b[0;34m\u001b[0m\u001b[0m\n\u001b[1;32m     35\u001b[0m         \u001b[0mXp\u001b[0m \u001b[0;34m=\u001b[0m \u001b[0mX\u001b[0m \u001b[0;34m+\u001b[0m \u001b[0mpos_enc\u001b[0m\u001b[0;34m\u001b[0m\u001b[0;34m\u001b[0m\u001b[0m\n",
      "\u001b[0;32m/data/rajlab1/user_data/jin/MyResearch/gTVDN-NN/notebooks/../mypkg/data_utils/eeg_load.py\u001b[0m in \u001b[0;36m__call__\u001b[0;34m(self, ix)\u001b[0m\n\u001b[1;32m    428\u001b[0m         \u001b[0mbatch\u001b[0m \u001b[0;34m=\u001b[0m \u001b[0;34m[\u001b[0m\u001b[0;34m]\u001b[0m\u001b[0;34m\u001b[0m\u001b[0;34m\u001b[0m\u001b[0m\n\u001b[1;32m    429\u001b[0m         \u001b[0;32mfor\u001b[0m \u001b[0midx\u001b[0m \u001b[0;32min\u001b[0m \u001b[0mself\u001b[0m\u001b[0;34m.\u001b[0m\u001b[0mall_idxs\u001b[0m\u001b[0;34m[\u001b[0m\u001b[0mlow\u001b[0m\u001b[0;34m:\u001b[0m\u001b[0mup\u001b[0m\u001b[0;34m]\u001b[0m\u001b[0;34m:\u001b[0m\u001b[0;34m\u001b[0m\u001b[0;34m\u001b[0m\u001b[0m\n\u001b[0;32m--> 430\u001b[0;31m             \u001b[0mbatch\u001b[0m\u001b[0;34m.\u001b[0m\u001b[0mappend\u001b[0m\u001b[0;34m(\u001b[0m\u001b[0mself\u001b[0m\u001b[0;34m.\u001b[0m\u001b[0mdataset\u001b[0m\u001b[0;34m[\u001b[0m\u001b[0mint\u001b[0m\u001b[0;34m(\u001b[0m\u001b[0midx\u001b[0m\u001b[0;34m)\u001b[0m\u001b[0;34m]\u001b[0m\u001b[0;34m)\u001b[0m\u001b[0;34m\u001b[0m\u001b[0;34m\u001b[0m\u001b[0m\n\u001b[0m\u001b[1;32m    431\u001b[0m         \u001b[0mbatch\u001b[0m \u001b[0;34m=\u001b[0m \u001b[0mnp\u001b[0m\u001b[0;34m.\u001b[0m\u001b[0marray\u001b[0m\u001b[0;34m(\u001b[0m\u001b[0mbatch\u001b[0m\u001b[0;34m)\u001b[0m\u001b[0;34m\u001b[0m\u001b[0;34m\u001b[0m\u001b[0m\n\u001b[1;32m    432\u001b[0m         \u001b[0;32mreturn\u001b[0m \u001b[0mtorch\u001b[0m\u001b[0;34m.\u001b[0m\u001b[0mtensor\u001b[0m\u001b[0;34m(\u001b[0m\u001b[0mbatch\u001b[0m\u001b[0;34m)\u001b[0m\u001b[0;34m\u001b[0m\u001b[0;34m\u001b[0m\u001b[0m\n",
      "\u001b[0;32m/data/rajlab1/user_data/jin/MyResearch/gTVDN-NN/notebooks/../mypkg/data_utils/eeg_load.py\u001b[0m in \u001b[0;36m__getitem__\u001b[0;34m(self, idx)\u001b[0m\n\u001b[1;32m    258\u001b[0m \u001b[0;34m\u001b[0m\u001b[0m\n\u001b[1;32m    259\u001b[0m         \u001b[0mself\u001b[0m\u001b[0;34m.\u001b[0m\u001b[0mhook\u001b[0m\u001b[0;34m.\u001b[0m\u001b[0msub_idxs\u001b[0m\u001b[0;34m.\u001b[0m\u001b[0mappend\u001b[0m\u001b[0;34m(\u001b[0m\u001b[0msub_idx\u001b[0m\u001b[0;34m)\u001b[0m\u001b[0;34m\u001b[0m\u001b[0;34m\u001b[0m\u001b[0m\n\u001b[0;32m--> 260\u001b[0;31m         \u001b[0mdata\u001b[0m \u001b[0;34m=\u001b[0m \u001b[0mself\u001b[0m\u001b[0;34m.\u001b[0m\u001b[0mget_preprocess_data\u001b[0m\u001b[0;34m(\u001b[0m\u001b[0msub_idx\u001b[0m\u001b[0;34m)\u001b[0m\u001b[0;34m\u001b[0m\u001b[0;34m\u001b[0m\u001b[0m\n\u001b[0m\u001b[1;32m    261\u001b[0m         \u001b[0;31m# remove the first and last pts\u001b[0m\u001b[0;34m\u001b[0m\u001b[0;34m\u001b[0m\u001b[0m\n\u001b[1;32m    262\u001b[0m         \u001b[0mdata\u001b[0m \u001b[0;34m=\u001b[0m \u001b[0mdata\u001b[0m\u001b[0;34m[\u001b[0m\u001b[0;34m:\u001b[0m\u001b[0;34m,\u001b[0m \u001b[0mint\u001b[0m\u001b[0;34m(\u001b[0m\u001b[0mself\u001b[0m\u001b[0;34m.\u001b[0m\u001b[0mpreprocess_dict\u001b[0m\u001b[0;34m.\u001b[0m\u001b[0mtarget_fs\u001b[0m\u001b[0;34m*\u001b[0m\u001b[0mself\u001b[0m\u001b[0;34m.\u001b[0m\u001b[0mrm_len\u001b[0m\u001b[0;34m)\u001b[0m\u001b[0;34m:\u001b[0m\u001b[0;34m-\u001b[0m\u001b[0mint\u001b[0m\u001b[0;34m(\u001b[0m\u001b[0mself\u001b[0m\u001b[0;34m.\u001b[0m\u001b[0mpreprocess_dict\u001b[0m\u001b[0;34m.\u001b[0m\u001b[0mtarget_fs\u001b[0m\u001b[0;34m*\u001b[0m\u001b[0mself\u001b[0m\u001b[0;34m.\u001b[0m\u001b[0mrm_len\u001b[0m\u001b[0;34m)\u001b[0m\u001b[0;34m]\u001b[0m\u001b[0;34m\u001b[0m\u001b[0;34m\u001b[0m\u001b[0m\n",
      "\u001b[0;32m/data/rajlab1/user_data/jin/MyResearch/gTVDN-NN/notebooks/../mypkg/data_utils/eeg_load.py\u001b[0m in \u001b[0;36mget_preprocess_data\u001b[0;34m(self, sub_idx, verbose, regen)\u001b[0m\n\u001b[1;32m    356\u001b[0m             \u001b[0;32mif\u001b[0m \u001b[0mverbose\u001b[0m\u001b[0;34m:\u001b[0m\u001b[0;34m\u001b[0m\u001b[0;34m\u001b[0m\u001b[0m\n\u001b[1;32m    357\u001b[0m                 \u001b[0mprint\u001b[0m\u001b[0;34m(\u001b[0m\u001b[0;34mf\"{relative_path} is alreadly generated\"\u001b[0m\u001b[0;34m)\u001b[0m\u001b[0;34m\u001b[0m\u001b[0;34m\u001b[0m\u001b[0m\n\u001b[0;32m--> 358\u001b[0;31m             \u001b[0mdata\u001b[0m \u001b[0;34m=\u001b[0m \u001b[0mload_pkl\u001b[0m\u001b[0;34m(\u001b[0m\u001b[0mdata_path\u001b[0m\u001b[0;34m,\u001b[0m \u001b[0mverbose\u001b[0m\u001b[0;34m=\u001b[0m\u001b[0mverbose\u001b[0m\u001b[0;34m)\u001b[0m\u001b[0;34m\u001b[0m\u001b[0;34m\u001b[0m\u001b[0m\n\u001b[0m\u001b[1;32m    359\u001b[0m         \u001b[0;32mreturn\u001b[0m \u001b[0mdata\u001b[0m\u001b[0;34m\u001b[0m\u001b[0;34m\u001b[0m\u001b[0m\n\u001b[1;32m    360\u001b[0m \u001b[0;34m\u001b[0m\u001b[0m\n",
      "\u001b[0;32m/data/rajlab1/user_data/jin/MyResearch/gTVDN-NN/notebooks/../mypkg/utils/misc.py\u001b[0m in \u001b[0;36mload_pkl\u001b[0;34m(fil, verbose)\u001b[0m\n\u001b[1;32m     74\u001b[0m         \u001b[0mprint\u001b[0m\u001b[0;34m(\u001b[0m\u001b[0;34mf\"Load file {fil}\"\u001b[0m\u001b[0;34m)\u001b[0m\u001b[0;34m\u001b[0m\u001b[0;34m\u001b[0m\u001b[0m\n\u001b[1;32m     75\u001b[0m     \u001b[0;32mwith\u001b[0m \u001b[0mopen\u001b[0m\u001b[0;34m(\u001b[0m\u001b[0mfil\u001b[0m\u001b[0;34m,\u001b[0m \u001b[0;34m\"rb\"\u001b[0m\u001b[0;34m)\u001b[0m \u001b[0;32mas\u001b[0m \u001b[0mf\u001b[0m\u001b[0;34m:\u001b[0m\u001b[0;34m\u001b[0m\u001b[0;34m\u001b[0m\u001b[0m\n\u001b[0;32m---> 76\u001b[0;31m         \u001b[0mresult\u001b[0m \u001b[0;34m=\u001b[0m \u001b[0mpickle\u001b[0m\u001b[0;34m.\u001b[0m\u001b[0mload\u001b[0m\u001b[0;34m(\u001b[0m\u001b[0mf\u001b[0m\u001b[0;34m)\u001b[0m\u001b[0;34m\u001b[0m\u001b[0;34m\u001b[0m\u001b[0m\n\u001b[0m\u001b[1;32m     77\u001b[0m     \u001b[0;32mreturn\u001b[0m \u001b[0mresult\u001b[0m\u001b[0;34m\u001b[0m\u001b[0;34m\u001b[0m\u001b[0m\n\u001b[1;32m     78\u001b[0m \u001b[0;34m\u001b[0m\u001b[0m\n",
      "\u001b[0;31mKeyboardInterrupt\u001b[0m: "
     ]
    }
   ],
   "source": [
    "def evaluate(net):\n",
    "    sub_idxs = torch.randint(low=0, high=len(test_data_loader), size=(32, ))\n",
    "    losses = []\n",
    "    losses_base = []\n",
    "    for sub_idx in sub_idxs:\n",
    "        batch_test = test_data_loader(sub_idx.item())\n",
    "        X_test, Y_test, Y_test_move = trans_batch(batch_test)\n",
    "        X_testp = X_test + pos_enc;\n",
    "        net.eval()\n",
    "        with torch.no_grad():\n",
    "            netout = net(X_testp)\n",
    "            loss = netout2loss_tvdn(netout, X_test, Y_test, loss_fn, config, num_seg=None)\n",
    "            loss_base = loss_fn(Y_test, Y_test_move)\n",
    "        losses.append(loss.item())\n",
    "        losses_base.append(loss_base.item())\n",
    "    net.train()\n",
    "    return np.median(losses), np.median(losses_base)\n",
    "\n",
    "# training\n",
    "loss_cur = []\n",
    "loss_base_cur = []\n",
    "if SAVED_MODEL is None:\n",
    "    losses = []\n",
    "    losses_test = []\n",
    "else:\n",
    "    losses = saved_model.losses\n",
    "    losses_test = saved_model.losses_test\n",
    "\n",
    "t0 = time.time()\n",
    "for iep in range(paras_train.nepoch):\n",
    "    train_data_loader = MyDataLoader(train_data, batch_size=config.batch_size, shuffle=True)\n",
    "    for ix in range(len(train_data_loader)):\n",
    "        batch = train_data_loader(ix)\n",
    "        X, Y, Y_move = trans_batch(batch)\n",
    "        Xp = X + pos_enc\n",
    "        # Zero the gradients\n",
    "        optimizer.zero_grad()\n",
    "        \n",
    "        netout = net(Xp)\n",
    "        loss = netout2loss_tvdn(netout, X, Y, loss_fn, config, num_seg=None)\n",
    "        loss_base = loss_fn(Y, Y_move)\n",
    "        \n",
    "        # Perform backward pass\n",
    "        loss.backward()\n",
    "        \n",
    "        torch.nn.utils.clip_grad_norm_(net.parameters(), paras_train.clip)\n",
    "        # Perform optimization\n",
    "        optimizer.step()\n",
    "        \n",
    "        loss_cur.append(loss.item())\n",
    "        loss_base_cur.append(loss_base.item())\n",
    "        if ix % paras_train.loss_out == (paras_train.loss_out-1):\n",
    "            losses.append(np.median(loss_cur))\n",
    "            print(f\"At iter {ix+1}/{len(train_data_loader)}, epoch {iep+1}, \"\n",
    "                  f\"the losses are {losses[-1]:.3f} (train). \"\n",
    "                  f\"the base losses are {np.median(loss_base_cur):.3f} (train). \"\n",
    "                  f\"The time used is {delta_time(t0):.3f}s. \"\n",
    "                 )\n",
    "            loss_cur = []\n",
    "            loss_base_cur = []\n",
    "            t0 = time.time()\n",
    "            \n",
    "        if ix % paras_train.test_loss_out == (paras_train.test_loss_out-1):\n",
    "            test_loss = evaluate(net)\n",
    "            losses_test.append(test_loss[0])\n",
    "            print(f\"At iter {ix+1}/{len(train_data_loader)}, epoch {iep+1}, \"\n",
    "                  f\"the losses are {losses_test[-1]:.3f} (test). \"\n",
    "                  f\"the base losses are {test_loss[1]:.3f} (test). \"\n",
    "                 )\n",
    "        \n",
    "    #if ix % paras_train.lr_step == (paras_train.lr_step-1):\n",
    "    scheduler.step()\n",
    "    \n",
    "    # save the model \n",
    "    model_res = edict()\n",
    "    model_res.model = net.cpu()\n",
    "    model_res.config = config\n",
    "    model_res.loss_fn = loss_fn\n",
    "    model_res.losses = losses\n",
    "    model_res.losses_test = losses_test\n",
    "    model_res.paras_train = paras_train\n",
    "    \n",
    "    if SAVED_MODEL is None:\n",
    "        cur_model_name = f\"{MODEL_NAME}_epoch{iep+1}\"\n",
    "    else:\n",
    "        cur_model_name = f\"{MODEL_NAME}_epoch{iep+1}_w_{SAVED_MODEL}\"\n",
    "    save_pkl_dict2folder(RES_ROOT/cur_model_name, model_res, is_force=True)\n",
    "    net.cuda()"
   ]
  },
  {
   "cell_type": "code",
   "execution_count": 40,
   "id": "38f2fdc5-f998-4f9a-abce-cd3c553aeaef",
   "metadata": {
    "execution": {
     "iopub.execute_input": "2023-05-04T05:32:57.156148Z",
     "iopub.status.busy": "2023-05-04T05:32:57.155376Z",
     "iopub.status.idle": "2023-05-04T05:32:57.273795Z",
     "shell.execute_reply": "2023-05-04T05:32:57.272709Z",
     "shell.execute_reply.started": "2023-05-04T05:32:57.156100Z"
    },
    "tags": []
   },
   "outputs": [
    {
     "data": {
      "image/png": "[encoded data removed]",
      "text/plain": [
       "<Figure size 1000x500 with 1 Axes>"
      ]
     },
     "metadata": {
      "needs_background": "light"
     },
     "output_type": "display_data"
    }
   ],
   "source": [
    "if not RUN_PYTHON_SCRIPT:\n",
    "    #plt.plot(losses)\n",
    "    plt.plot(losses_test)\n",
    "    #plt.yscale(\"log\")"
   ]
  },
  {
   "cell_type": "code",
   "execution_count": null,
   "id": "b4cdaa40-024d-4616-a775-d0a3922e7ce6",
   "metadata": {},
   "outputs": [],
   "source": []
  },
  {
   "cell_type": "code",
   "execution_count": null,
   "id": "309d2d3b-651f-4793-8dbf-6872c928af4e",
   "metadata": {},
   "outputs": [],
   "source": []
  }
 ],
 "metadata": {
  "kernelspec": {
   "display_name": "Python 3 (ipykernel)",
   "language": "python",
   "name": "python3"
  },
  "language_info": {
   "codemirror_mode": {
    "name": "ipython",
    "version": 3
   },
   "file_extension": ".py",
   "mimetype": "text/x-python",
   "name": "python",
   "nbconvert_exporter": "python",
   "pygments_lexer": "ipython3",
   "version": "3.9.7"
  },
  "toc-autonumbering": false,
  "toc-showmarkdowntxt": false,
  "toc-showtags": true
 },
 "nbformat": 4,
 "nbformat_minor": 5
}
