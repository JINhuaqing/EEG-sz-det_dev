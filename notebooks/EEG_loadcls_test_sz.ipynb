{
 "cells": [
  {
   "cell_type": "markdown",
   "id": "61a75106-9d74-4deb-808b-9eb24a668f1f",
   "metadata": {},
   "source": [
    "This file is to clearn the TUH EEG seizure data\n",
    "\n",
    "1. Create a csv file to contains all edf and the labels\n",
    "\n",
    "2. A class to load data\n"
   ]
  },
  {
   "cell_type": "code",
   "execution_count": 3,
   "id": "823bb720-79ee-4373-af29-326790781f67",
   "metadata": {
    "execution": {
     "iopub.execute_input": "2024-06-05T23:22:19.230149Z",
     "iopub.status.busy": "2024-06-05T23:22:19.229634Z",
     "iopub.status.idle": "2024-06-05T23:22:19.803381Z",
     "shell.execute_reply": "2024-06-05T23:22:19.801870Z",
     "shell.execute_reply.started": "2024-06-05T23:22:19.230106Z"
    },
    "tags": []
   },
   "outputs": [],
   "source": [
    "import sys\n",
    "sys.path.append(\"../mypkg\")\n",
    "from constants import RES_ROOT, FIG_ROOT, DATA_ROOT"
   ]
  },
  {
   "cell_type": "code",
   "execution_count": 4,
   "id": "396a751c-5422-4374-87c2-a739dc7a866a",
   "metadata": {
    "execution": {
     "iopub.execute_input": "2024-06-05T23:22:19.809766Z",
     "iopub.status.busy": "2024-06-05T23:22:19.808772Z",
     "iopub.status.idle": "2024-06-05T23:22:30.643717Z",
     "shell.execute_reply": "2024-06-05T23:22:30.642086Z",
     "shell.execute_reply.started": "2024-06-05T23:22:19.809731Z"
    },
    "tags": []
   },
   "outputs": [],
   "source": [
    "import numpy as np\n",
    "import scipy\n",
    "import matplotlib.pyplot as plt\n",
    "import seaborn as sns\n",
    "from tqdm import tqdm, trange\n",
    "import pandas as pd\n",
    "from torch.utils.data import DataLoader, Dataset\n",
    "from easydict import EasyDict as edict\n",
    "import torch\n",
    "import mne\n",
    "\n",
    "%matplotlib inline\n",
    "plt.style.use(FIG_ROOT/\"base.mplstyle\")"
   ]
  },
  {
   "cell_type": "code",
   "execution_count": 5,
   "id": "7ec7d537-e3ee-405a-ae65-8a1f2cc4bc25",
   "metadata": {
    "execution": {
     "iopub.execute_input": "2024-06-05T23:22:30.651141Z",
     "iopub.status.busy": "2024-06-05T23:22:30.650340Z",
     "iopub.status.idle": "2024-06-05T23:22:30.721124Z",
     "shell.execute_reply": "2024-06-05T23:22:30.720362Z",
     "shell.execute_reply.started": "2024-06-05T23:22:30.651093Z"
    },
    "tags": []
   },
   "outputs": [],
   "source": [
    "%load_ext autoreload\n",
    "%autoreload 2\n",
    "# 0,1, 2, 3, be careful about the space"
   ]
  },
  {
   "cell_type": "code",
   "execution_count": 6,
   "id": "97553d16-f34c-45a5-be14-ba61af7ce992",
   "metadata": {
    "execution": {
     "iopub.execute_input": "2024-06-05T23:22:30.724078Z",
     "iopub.status.busy": "2024-06-05T23:22:30.723922Z",
     "iopub.status.idle": "2024-06-05T23:22:30.824619Z",
     "shell.execute_reply": "2024-06-05T23:22:30.823277Z",
     "shell.execute_reply.started": "2024-06-05T23:22:30.724066Z"
    },
    "tags": []
   },
   "outputs": [],
   "source": [
    "from data_utils.eeg_load import EEGData\n",
    "from data_utils.sz_utils import txt2labinfo, sz_lab_from_row_fn\n",
    "from data_utils.utils import get_triple, convert_to_type, rec_data, digitize_data\n",
    "from utils.misc import load_txt, save_pkl, load_pkl"
   ]
  },
  {
   "cell_type": "code",
   "execution_count": 7,
   "id": "5a69f35c-7790-4cff-b432-4475cab479d9",
   "metadata": {
    "execution": {
     "iopub.execute_input": "2024-06-05T23:22:30.830720Z",
     "iopub.status.busy": "2024-06-05T23:22:30.830034Z",
     "iopub.status.idle": "2024-06-05T23:22:30.892113Z",
     "shell.execute_reply": "2024-06-05T23:22:30.891584Z",
     "shell.execute_reply.started": "2024-06-05T23:22:30.830683Z"
    },
    "tags": []
   },
   "outputs": [
    {
     "data": {
      "text/plain": [
       "PosixPath('/data/rajlab1/user_data/jin/MyResearch/EEG-sz-det_dev/notebooks/../mypkg/../data/EEG_seizure')"
      ]
     },
     "execution_count": 7,
     "metadata": {},
     "output_type": "execute_result"
    }
   ],
   "source": [
    "root = list(DATA_ROOT.glob(\"EEG_seizure\"))[0]\n",
    "root"
   ]
  },
  {
   "cell_type": "code",
   "execution_count": null,
   "id": "beb30f3c-3635-44ec-9334-284702071b1d",
   "metadata": {},
   "outputs": [],
   "source": []
  },
  {
   "cell_type": "markdown",
   "id": "6818750c-cd23-4086-a7dc-bcf0f4696b2f",
   "metadata": {},
   "source": [
    "# Pre-analysis"
   ]
  },
  {
   "cell_type": "raw",
   "id": "6ddc06a9-eeb8-4be7-a145-dfe03c514ce0",
   "metadata": {
    "execution": {
     "iopub.execute_input": "2024-06-05T22:03:25.087011Z",
     "iopub.status.busy": "2024-06-05T22:03:25.086261Z",
     "iopub.status.idle": "2024-06-05T22:03:34.150059Z",
     "shell.execute_reply": "2024-06-05T22:03:34.149347Z",
     "shell.execute_reply.started": "2024-06-05T22:03:25.086962Z"
    },
    "tags": []
   },
   "source": [
    "# all session paths\n",
    "# count number of folder in each session\n",
    "nums = []\n",
    "for p in list(root.rglob(\"s0*\")):\n",
    "    num = len(list(p.glob(\"*\")))\n",
    "    nums.append(num)\n",
    "    if num > 1:\n",
    "        print(p)\n",
    "    \n",
    "nums = np.array(nums)\n",
    "print((nums==2).sum())\n",
    "print(np.max(nums))"
   ]
  },
  {
   "cell_type": "markdown",
   "id": "6d7ed02c-6103-4eaa-a8ef-315299135cca",
   "metadata": {
    "tags": []
   },
   "source": [
    "# Output csv file\n",
    "\n",
    "Csv file lists all files"
   ]
  },
  {
   "cell_type": "code",
   "execution_count": null,
   "id": "151c4646-c6be-4004-baa2-5cc988ee2a12",
   "metadata": {
    "execution": {
     "iopub.execute_input": "2024-06-05T23:35:19.164532Z",
     "iopub.status.busy": "2024-06-05T23:35:19.163928Z",
     "iopub.status.idle": "2024-06-05T23:35:22.137085Z",
     "shell.execute_reply": "2024-06-05T23:35:22.135764Z",
     "shell.execute_reply.started": "2024-06-05T23:35:19.164491Z"
    },
    "tags": []
   },
   "outputs": [],
   "source": [
    "names =[\"dataset\", \"sub\", \n",
    "        \"session\", \"montage\", \n",
    "        \"file_stem\", \n",
    "        \"relative_path\", \"is_seizure\", \"total_dur\", \n",
    "        \"lab\", \"all_chs\"]\n",
    "working_set = \"eval\" # train, eval, dev \n",
    "working_path = root/(\"edf/\"+working_set)"
   ]
  },
  {
   "cell_type": "code",
   "execution_count": null,
   "id": "edffca14-dcb4-498b-9e45-9556b5cf03d9",
   "metadata": {
    "execution": {
     "iopub.execute_input": "2024-06-05T23:35:22.140322Z",
     "iopub.status.busy": "2024-06-05T23:35:22.139446Z",
     "iopub.status.idle": "2024-06-05T23:35:22.202246Z",
     "shell.execute_reply": "2024-06-05T23:35:22.201313Z",
     "shell.execute_reply.started": "2024-06-05T23:35:22.140283Z"
    },
    "tags": []
   },
   "outputs": [],
   "source": [
    "def path2info(p):\n",
    "    p_dir = \"/\".join(str(p).split(\"/\")[-5:]).split('.')[0]\n",
    "    txt = load_txt(p.with_suffix(\".csv_bi\"))\n",
    "    infos = txt2labinfo(txt)\n",
    "    return str(p.parent).split(\"/\")[-4:] \\\n",
    "            + [p.stem]  \\\n",
    "            + [p_dir]  \\\n",
    "            + [infos[\"is_seizure\"]] \\\n",
    "            + [infos[\"total_dur\"]] \\\n",
    "            + [infos[\"labs\"]]"
   ]
  },
  {
   "cell_type": "code",
   "execution_count": null,
   "id": "9b5328b1-e7eb-446e-9846-ae91332eafe5",
   "metadata": {
    "execution": {
     "iopub.execute_input": "2024-06-05T23:35:22.203179Z",
     "iopub.status.busy": "2024-06-05T23:35:22.203012Z",
     "iopub.status.idle": "2024-06-05T23:36:19.527729Z",
     "shell.execute_reply": "2024-06-05T23:36:19.526307Z",
     "shell.execute_reply.started": "2024-06-05T23:35:22.203166Z"
    }
   },
   "outputs": [],
   "source": [
    "all_infos = []\n",
    "for p in tqdm(working_path.rglob(\"*.edf\")):\n",
    "    base_info = path2info(p)\n",
    "    dat = mne.io.read_raw_edf(p, verbose=False)\n",
    "    ch_names_simple = [ch_name.split(\" \")[-1].split(\"-\")[0].strip() for ch_name in dat.ch_names];\n",
    "    all_info = base_info + [';'.join(ch_names_simple)]\n",
    "    all_infos.append(all_info)"
   ]
  },
  {
   "cell_type": "code",
   "execution_count": null,
   "id": "95e76be7-1a2a-4047-ae79-dfb193e6d5a4",
   "metadata": {
    "execution": {
     "iopub.execute_input": "2024-06-05T23:36:19.532552Z",
     "iopub.status.busy": "2024-06-05T23:36:19.531795Z",
     "iopub.status.idle": "2024-06-05T23:36:22.632575Z",
     "shell.execute_reply": "2024-06-05T23:36:22.631029Z",
     "shell.execute_reply.started": "2024-06-05T23:36:19.532509Z"
    },
    "tags": []
   },
   "outputs": [],
   "source": [
    "df = pd.DataFrame(all_infos, columns=names)\n",
    "df.to_csv(root/f\"all_data_{working_set}.csv\");"
   ]
  },
  {
   "cell_type": "code",
   "execution_count": null,
   "id": "6700222f-822b-4f07-9970-4c1e38e97567",
   "metadata": {
    "execution": {
     "iopub.execute_input": "2024-06-06T07:13:23.946367Z",
     "iopub.status.busy": "2024-06-06T07:13:23.945758Z",
     "iopub.status.idle": "2024-06-06T07:13:27.511857Z",
     "shell.execute_reply": "2024-06-06T07:13:27.510531Z",
     "shell.execute_reply.started": "2024-06-06T07:13:23.946326Z"
    }
   },
   "outputs": [],
   "source": [
    "df = pd.read_csv(root/f\"all_data_{working_set}.csv\");"
   ]
  },
  {
   "cell_type": "code",
   "execution_count": null,
   "id": "d717148d-1eeb-4c7c-a8b3-a21ac8fcebaf",
   "metadata": {
    "execution": {
     "iopub.execute_input": "2024-06-06T07:14:46.432070Z",
     "iopub.status.busy": "2024-06-06T07:14:46.431454Z",
     "iopub.status.idle": "2024-06-06T07:14:49.817165Z",
     "shell.execute_reply": "2024-06-06T07:14:49.816216Z",
     "shell.execute_reply.started": "2024-06-06T07:14:46.432025Z"
    },
    "scrolled": true
   },
   "outputs": [],
   "source": [
    "import ast\n",
    "def _tmp_fn(x):\n",
    "    v = [vs[1] - vs[0] for \n",
    "         vs in ast.literal_eval(x) \n",
    "         if vs[2] == \"seiz\"]\n",
    "    return v\n",
    "    \n",
    "df[\"lab\"].map(_tmp_fn)"
   ]
  },
  {
   "cell_type": "code",
   "execution_count": null,
   "id": "c29f9cf2-ec46-45d8-90b6-9d33522dad65",
   "metadata": {
    "execution": {
     "iopub.execute_input": "2024-06-06T07:13:32.202601Z",
     "iopub.status.busy": "2024-06-06T07:13:32.202012Z",
     "iopub.status.idle": "2024-06-06T07:13:32.266417Z",
     "shell.execute_reply": "2024-06-06T07:13:32.265819Z",
     "shell.execute_reply.started": "2024-06-06T07:13:32.202558Z"
    }
   },
   "outputs": [],
   "source": [
    "tmp = df['lab'].iloc[0]"
   ]
  },
  {
   "cell_type": "code",
   "execution_count": null,
   "id": "59220613-9c72-43a5-9d50-848445af94f1",
   "metadata": {},
   "outputs": [],
   "source": []
  },
  {
   "cell_type": "markdown",
   "id": "71e31ef0-f007-47c4-9572-1bf9a6b3d3be",
   "metadata": {},
   "source": [
    "# Load and split data"
   ]
  },
  {
   "cell_type": "code",
   "execution_count": null,
   "id": "2b7b5a89-ff50-47e6-a391-55100f2522a0",
   "metadata": {
    "execution": {
     "iopub.execute_input": "2024-05-22T01:17:49.068286Z",
     "iopub.status.busy": "2024-05-22T01:17:49.067684Z",
     "iopub.status.idle": "2024-05-22T01:17:52.109532Z",
     "shell.execute_reply": "2024-05-22T01:17:52.108319Z",
     "shell.execute_reply.started": "2024-05-22T01:17:49.068242Z"
    },
    "tags": []
   },
   "outputs": [],
   "source": [
    "all_train = pd.read_csv(root/f\"all_data_train.csv\", index_col=0);"
   ]
  },
  {
   "cell_type": "code",
   "execution_count": null,
   "id": "22e33c70-42e7-4809-b0f1-a00ae57ac7c0",
   "metadata": {
    "execution": {
     "iopub.execute_input": "2024-05-22T01:17:53.000475Z",
     "iopub.status.busy": "2024-05-22T01:17:52.999922Z",
     "iopub.status.idle": "2024-05-22T01:17:53.059811Z",
     "shell.execute_reply": "2024-05-22T01:17:53.059049Z",
     "shell.execute_reply.started": "2024-05-22T01:17:53.000432Z"
    },
    "tags": []
   },
   "outputs": [],
   "source": [
    "def split_vec(vec, ratio=0.9):\n",
    "    vec = np.array(vec)\n",
    "    true_indices = np.where(vec)[0]\n",
    "    false_indices = np.where(~vec)[0]\n",
    "\n",
    "    np.random.shuffle(true_indices)\n",
    "    np.random.shuffle(false_indices)\n",
    "\n",
    "    true_count = len(true_indices)\n",
    "    false_count = len(false_indices)\n",
    "\n",
    "    true_split = int(true_count * ratio)\n",
    "    false_split = int(false_count * ratio)\n",
    "\n",
    "    vec1_indices = np.concatenate((true_indices[:true_split], false_indices[:false_split]))\n",
    "    vec2_indices = np.concatenate((true_indices[true_split:], false_indices[false_split:]))\n",
    "\n",
    "    return np.sort(vec1_indices), np.sort(vec2_indices)\n",
    "seizure_idxs = all_train[\"is_seizure\"]\n",
    "set1_idxs, set2_idxs = split_vec(seizure_idxs)"
   ]
  },
  {
   "cell_type": "code",
   "execution_count": null,
   "id": "5beb7863-8bfd-40a0-996d-00e5053a3200",
   "metadata": {
    "execution": {
     "iopub.execute_input": "2024-05-22T01:17:53.866500Z",
     "iopub.status.busy": "2024-05-22T01:17:53.865823Z",
     "iopub.status.idle": "2024-05-22T01:17:54.035704Z",
     "shell.execute_reply": "2024-05-22T01:17:54.034335Z",
     "shell.execute_reply.started": "2024-05-22T01:17:53.866455Z"
    },
    "tags": []
   },
   "outputs": [],
   "source": [
    "set1 = all_train.copy().iloc[set1_idxs]\n",
    "set2 = all_train.copy().iloc[set2_idxs]\n",
    "set1 = set1.reset_index(drop=True)\n",
    "set2 = set2.reset_index(drop=True);\n",
    "set1.to_csv(root/f\"all_data_train_train.csv\")\n",
    "set2.to_csv(root/f\"all_data_train_test.csv\")"
   ]
  },
  {
   "cell_type": "code",
   "execution_count": null,
   "id": "3875dac8-e051-4551-9e32-b2c6fff094af",
   "metadata": {
    "execution": {
     "iopub.execute_input": "2024-05-22T01:18:10.207669Z",
     "iopub.status.busy": "2024-05-22T01:18:10.206927Z",
     "iopub.status.idle": "2024-05-22T01:18:10.308031Z",
     "shell.execute_reply": "2024-05-22T01:18:10.307122Z",
     "shell.execute_reply.started": "2024-05-22T01:18:10.207624Z"
    },
    "tags": []
   },
   "outputs": [],
   "source": [
    "# output data without seizure. \n",
    "train_train_data = pd.read_csv(root/f\"all_data_train_train.csv\", index_col=0)\n",
    "train_test_data = pd.read_csv(root/f\"all_data_train_test.csv\", index_col=0);"
   ]
  },
  {
   "cell_type": "code",
   "execution_count": null,
   "id": "c011030e-82b3-4113-927b-1125f9349e76",
   "metadata": {
    "execution": {
     "iopub.execute_input": "2024-05-22T01:18:10.879776Z",
     "iopub.status.busy": "2024-05-22T01:18:10.879080Z",
     "iopub.status.idle": "2024-05-22T01:18:11.054903Z",
     "shell.execute_reply": "2024-05-22T01:18:11.053996Z",
     "shell.execute_reply.started": "2024-05-22T01:18:10.879726Z"
    },
    "tags": []
   },
   "outputs": [],
   "source": [
    "train_test_health = train_test_data[train_test_data[\"is_seizure\"] == False];\n",
    "train_test_health = train_test_health.reset_index(drop=True)\n",
    "train_train_health = train_train_data[train_train_data[\"is_seizure\"] == False];\n",
    "train_train_health = train_train_health.reset_index(drop=True)\n",
    "\n",
    "train_test_health.to_csv(root/\"all_data_train_test_health.csv\")\n",
    "train_train_health.to_csv(root/\"all_data_train_train_health.csv\")"
   ]
  },
  {
   "cell_type": "code",
   "execution_count": null,
   "id": "4daec5d2-7ba4-4e9f-99e5-4c423ef2b4d1",
   "metadata": {
    "execution": {
     "iopub.execute_input": "2024-05-22T01:18:11.686178Z",
     "iopub.status.busy": "2024-05-22T01:18:11.685509Z",
     "iopub.status.idle": "2024-05-22T01:18:11.775026Z",
     "shell.execute_reply": "2024-05-22T01:18:11.774333Z",
     "shell.execute_reply.started": "2024-05-22T01:18:11.686132Z"
    },
    "tags": []
   },
   "outputs": [],
   "source": [
    "# A small training set\n",
    "train_train_data_health = pd.read_csv(root/f\"all_data_train_train_health.csv\", index_col=0);\n",
    "total_num = len(train_train_data_health)\n",
    "sel_idxs = np.sort(np.random.choice(total_num, size=int(0.1*total_num), replace=False));\n",
    "train_train_data_health_small = train_train_data_health.iloc[sel_idxs].reset_index(drop=True);\n",
    "train_train_data_health_small.to_csv(root/\"all_data_train_train_health_small.csv\")"
   ]
  },
  {
   "cell_type": "markdown",
   "id": "f4532b1a-96a7-4eca-9b5b-afe7af96e21e",
   "metadata": {},
   "source": [
    "# Process data and save it"
   ]
  },
  {
   "cell_type": "code",
   "execution_count": null,
   "id": "e3cfcf0f-b541-45d4-8460-03bfcdaa4526",
   "metadata": {
    "execution": {
     "iopub.execute_input": "2024-05-22T00:34:50.318776Z",
     "iopub.status.busy": "2024-05-22T00:34:50.318179Z",
     "iopub.status.idle": "2024-05-22T00:34:53.477066Z",
     "shell.execute_reply": "2024-05-22T00:34:53.476267Z",
     "shell.execute_reply.started": "2024-05-22T00:34:50.318732Z"
    },
    "tags": []
   },
   "outputs": [],
   "source": [
    "dataset = EEGData(\"eval\", \"ALL\", \n",
    "                   pre_params=dict(is_detrend=True, \n",
    "                              is_drop=True,\n",
    "                              target_fs=90, \n",
    "                              filter_limit=[1, 45], \n",
    "                              is_diff=False)\n",
    "                  );"
   ]
  },
  {
   "cell_type": "code",
   "execution_count": null,
   "id": "93d8718e-6ce2-46f7-9ef1-6aa0a34af742",
   "metadata": {
    "execution": {
     "iopub.execute_input": "2024-05-22T00:34:54.165987Z",
     "iopub.status.busy": "2024-05-22T00:34:54.165399Z",
     "iopub.status.idle": "2024-05-22T00:44:59.214313Z",
     "shell.execute_reply": "2024-05-22T00:44:59.213112Z",
     "shell.execute_reply.started": "2024-05-22T00:34:54.165939Z"
    },
    "scrolled": true,
    "tags": []
   },
   "outputs": [],
   "source": [
    "from tqdm import trange\n",
    "for ix in trange(len(dataset.all_data)):\n",
    "    dataset.get_preprocess_data(ix, regen=False)"
   ]
  },
  {
   "cell_type": "markdown",
   "id": "f7124d6e-9fa8-4a09-9a27-b528bd9b8c56",
   "metadata": {},
   "source": [
    "# Test Data discretization"
   ]
  },
  {
   "cell_type": "code",
   "execution_count": 32,
   "id": "72118cec",
   "metadata": {},
   "outputs": [],
   "source": [
    "from data_utils.eeg_load_sz import EEGDataSZ\n",
    "from data_utils.eeg_load import EEGData\n",
    "from data_utils.utils import rec_data, digitize_data"
   ]
  },
  {
   "cell_type": "code",
   "execution_count": 66,
   "id": "32554be4",
   "metadata": {},
   "outputs": [],
   "source": [
    "dataset = EEGDataSZ(\"eval\", \"AR\",\n",
    "                  verbose=2,\n",
    "                  label=\"sz\",\n",
    "                  discrete_k = None,\n",
    "                   pre_params=dict(is_detrend=True, \n",
    "                              is_drop=True,\n",
    "                              target_fs=90, \n",
    "                              filter_limit=[1, 45], \n",
    "                              is_diff=False)\n",
    "                  );"
   ]
  },
  {
   "cell_type": "code",
   "execution_count": 67,
   "id": "a0b39204",
   "metadata": {},
   "outputs": [],
   "source": [
    "data  = dataset[2]\n",
    "data_dis = dataset._get_dis_data(data, k=8)\n",
    "data_rec = dataset._rec_dis_data(data_dis, k=8);"
   ]
  },
  {
   "cell_type": "code",
   "execution_count": 68,
   "id": "cfebc070",
   "metadata": {},
   "outputs": [
    {
     "data": {
      "text/plain": [
       "[<matplotlib.lines.Line2D at 0x7fef00393850>]"
      ]
     },
     "execution_count": 68,
     "metadata": {},
     "output_type": "execute_result"
    },
    {
     "data": {
      "image/png": "[encoded data removed]",
      "text/plain": [
       "<Figure size 1000x500 with 1 Axes>"
      ]
     },
     "metadata": {},
     "output_type": "display_data"
    }
   ],
   "source": [
    "seq_ix = 0\n",
    "plt.plot(data[:, seq_ix])\n",
    "plt.plot(data_rec[:, seq_ix])"
   ]
  },
  {
   "cell_type": "code",
   "execution_count": 69,
   "id": "6f24a720",
   "metadata": {},
   "outputs": [
    {
     "data": {
      "text/plain": [
       "[<matplotlib.lines.Line2D at 0x7fef0021a280>]"
      ]
     },
     "execution_count": 69,
     "metadata": {},
     "output_type": "execute_result"
    },
    {
     "data": {
      "image/png": "[encoded data removed]",
      "text/plain": [
       "<Figure size 1000x500 with 1 Axes>"
      ]
     },
     "metadata": {},
     "output_type": "display_data"
    }
   ],
   "source": [
    "seq_ix = 0\n",
    "plt.plot(data_dis[:, seq_ix])"
   ]
  },
  {
   "cell_type": "markdown",
   "id": "116be111-edd3-4117-a61c-1e5ae9a786c1",
   "metadata": {},
   "source": [
    "code is update above. \n",
    "Below is the old code date: 2024-06-23\n"
   ]
  },
  {
   "cell_type": "markdown",
   "id": "896100ba-0ba9-45d7-bf77-d7ce27fb49d1",
   "metadata": {},
   "source": [
    "# Remove saved `pkl` file"
   ]
  },
  {
   "cell_type": "code",
   "execution_count": null,
   "id": "d384fd0c",
   "metadata": {},
   "outputs": [],
   "source": []
  },
  {
   "cell_type": "code",
   "execution_count": null,
   "id": "7052011d-f600-4e6d-8d35-3481b82d7366",
   "metadata": {
    "execution": {
     "iopub.execute_input": "2023-05-12T07:05:58.256101Z",
     "iopub.status.busy": "2023-05-12T07:05:58.255493Z",
     "iopub.status.idle": "2023-05-12T07:06:17.145382Z",
     "shell.execute_reply": "2023-05-12T07:06:17.144509Z",
     "shell.execute_reply.started": "2023-05-12T07:05:58.256042Z"
    },
    "tags": []
   },
   "outputs": [],
   "source": [
    "working_set = \"train\" # train, eval and dev\n",
    "all_data = pd.read_csv(root/f\"all_data_{working_set}.csv\", index_col=0);\n",
    "pbar = trange(len(all_data))\n",
    "nfil = 0\n",
    "for ix in pbar:\n",
    "    dat_path = (root/\"edf\"/all_data[\"relative_path\"].iloc[ix])\n",
    "    # change the data name\n",
    "    pkl_fs = list(dat_path.parent.glob(\"*.pkl\"))\n",
    "    pbar.set_postfix({'n_removed_file': nfil}, refresh=True)\n",
    "    for pkl_f in pkl_fs:\n",
    "        if not pkl_f.stem.endswith(\"90\"):\n",
    "            pass\n",
    "            print(pkl_f)\n",
    "        nfil += 1\n",
    "        pbar.set_postfix({'n_removed_file': nfil}, refresh=True)\n",
    "        #pkl_f.unlink()"
   ]
  },
  {
   "cell_type": "code",
   "execution_count": null,
   "id": "657e7d84-4f44-4680-8b7a-575bf61be676",
   "metadata": {
    "execution": {
     "iopub.execute_input": "2023-05-12T06:53:58.130481Z",
     "iopub.status.busy": "2023-05-12T06:53:58.129900Z",
     "iopub.status.idle": "2023-05-12T06:53:58.138200Z",
     "shell.execute_reply": "2023-05-12T06:53:58.137131Z",
     "shell.execute_reply.started": "2023-05-12T06:53:58.130435Z"
    },
    "tags": []
   },
   "outputs": [],
   "source": []
  },
  {
   "cell_type": "code",
   "execution_count": null,
   "id": "e08730e7-86aa-48ca-81cd-0f0b82862172",
   "metadata": {},
   "outputs": [],
   "source": []
  },
  {
   "cell_type": "markdown",
   "id": "f6741243-3bab-4d97-8afa-a9b75c9706f2",
   "metadata": {},
   "source": [
    "# Check the edf data"
   ]
  },
  {
   "cell_type": "code",
   "execution_count": null,
   "id": "a39a307e-bc1d-4eed-bbc4-d4f512f407ad",
   "metadata": {
    "execution": {
     "iopub.execute_input": "2023-04-17T20:16:04.469915Z",
     "iopub.status.busy": "2023-04-17T20:16:04.469254Z",
     "iopub.status.idle": "2023-04-17T20:16:04.759414Z",
     "shell.execute_reply": "2023-04-17T20:16:04.758889Z",
     "shell.execute_reply.started": "2023-04-17T20:16:04.469871Z"
    },
    "tags": []
   },
   "outputs": [],
   "source": [
    "working_set = \"train\"\n",
    "all_data = pd.read_csv(root/f\"all_data_{working_set}.csv\", index_col=0);\n",
    "dat_path = (root/\"edf\"/all_data[\"relative_path\"].iloc[0]).with_suffix(\".edf\")\n",
    "dat = mne.io.read_raw_edf(dat_path, verbose=False, preload=True);\n",
    "dat.filter(l_freq=1, h_freq=45, verbose=False)\n",
    "dat.resample(90)"
   ]
  },
  {
   "cell_type": "code",
   "execution_count": null,
   "id": "ef7e76f3-ba41-49dc-a635-9b6aed539f6c",
   "metadata": {
    "execution": {
     "iopub.execute_input": "2023-04-17T20:16:12.391756Z",
     "iopub.status.busy": "2023-04-17T20:16:12.391333Z",
     "iopub.status.idle": "2023-04-17T20:16:12.522007Z",
     "shell.execute_reply": "2023-04-17T20:16:12.521380Z",
     "shell.execute_reply.started": "2023-04-17T20:16:12.391735Z"
    },
    "tags": []
   },
   "outputs": [],
   "source": [
    "data = dat.get_data();\n",
    "duration = 100\n",
    "start = 2000\n",
    "plt.plot(data[5, start:start+duration])"
   ]
  },
  {
   "cell_type": "markdown",
   "id": "e524d34a-5ab9-46bd-a27a-3d83cb4ebe30",
   "metadata": {},
   "source": [
    "# Parse seizure onset time info\n",
    "\n",
    "Test `seiz_lab_fn` and `seiz_lab_from_row_fn` "
   ]
  },
  {
   "cell_type": "code",
   "execution_count": null,
   "id": "9f57f3c8-ffc8-4a03-9caf-0f3a8cd23457",
   "metadata": {
    "execution": {
     "iopub.execute_input": "2023-04-23T00:16:14.709486Z",
     "iopub.status.busy": "2023-04-23T00:16:14.708716Z",
     "iopub.status.idle": "2023-04-23T00:16:14.747769Z",
     "shell.execute_reply": "2023-04-23T00:16:14.746547Z",
     "shell.execute_reply.started": "2023-04-23T00:16:14.709438Z"
    },
    "tags": []
   },
   "outputs": [],
   "source": [
    "all_data = pd.read_csv(root/f\"all_data_train.csv\", index_col=0);"
   ]
  },
  {
   "cell_type": "code",
   "execution_count": null,
   "id": "f3f314ae-43fd-4a3e-98b0-ed0e5912e2fb",
   "metadata": {
    "execution": {
     "iopub.execute_input": "2023-04-23T00:16:15.416577Z",
     "iopub.status.busy": "2023-04-23T00:16:15.415894Z",
     "iopub.status.idle": "2023-04-23T00:16:15.437802Z",
     "shell.execute_reply": "2023-04-23T00:16:15.436522Z",
     "shell.execute_reply.started": "2023-04-23T00:16:15.416528Z"
    },
    "tags": []
   },
   "outputs": [],
   "source": [
    "all_data.head()"
   ]
  },
  {
   "cell_type": "code",
   "execution_count": null,
   "id": "58881598-1156-44bc-98a2-6a2f3e2e17af",
   "metadata": {
    "execution": {
     "iopub.execute_input": "2023-04-23T00:16:20.975861Z",
     "iopub.status.busy": "2023-04-23T00:16:20.975198Z",
     "iopub.status.idle": "2023-04-23T00:16:20.990193Z",
     "shell.execute_reply": "2023-04-23T00:16:20.988895Z",
     "shell.execute_reply.started": "2023-04-23T00:16:20.975811Z"
    },
    "tags": []
   },
   "outputs": [],
   "source": [
    "seiz_lab_from_row_fn(all_data[all_data[\"is_seizure\"]].iloc[5])\n",
    "#seiz_lab_from_row_fn(all_data.iloc[4])"
   ]
  },
  {
   "cell_type": "code",
   "execution_count": null,
   "id": "dd7fa2a0-3c2c-4cfe-a0f3-3df40b39098d",
   "metadata": {},
   "outputs": [],
   "source": []
  }
 ],
 "metadata": {
  "kernelspec": {
   "display_name": "SSH titan.radiology.ucsf.edu titan-EEG",
   "language": "",
   "name": "rik_ssh_titan_radiology_ucsf_edu_titaneeg"
  },
  "language_info": {
   "codemirror_mode": {
    "name": "ipython",
    "version": 3
   },
   "file_extension": ".py",
   "mimetype": "text/x-python",
   "name": "python",
   "nbconvert_exporter": "python",
   "pygments_lexer": "ipython3",
   "version": "3.9.19"
  },
  "toc-autonumbering": true,
  "toc-showmarkdowntxt": false
 },
 "nbformat": 4,
 "nbformat_minor": 5
}
