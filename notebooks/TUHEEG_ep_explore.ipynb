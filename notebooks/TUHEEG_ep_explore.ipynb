{
 "cells": [
  {
   "cell_type": "code",
   "execution_count": 2,
   "id": "e1e0801c-10bc-4f3f-be3b-a55d7db0591a",
   "metadata": {
    "execution": {
     "iopub.execute_input": "2024-05-29T21:46:45.934590Z",
     "iopub.status.busy": "2024-05-29T21:46:45.933890Z",
     "iopub.status.idle": "2024-05-29T21:46:46.145611Z",
     "shell.execute_reply": "2024-05-29T21:46:46.144525Z",
     "shell.execute_reply.started": "2024-05-29T21:46:45.934539Z"
    }
   },
   "outputs": [],
   "source": [
    "import sys\n",
    "sys.path.append(\"../mypkg\")\n",
    "from constants import RES_ROOT, FIG_ROOT, DATA_ROOT"
   ]
  },
  {
   "cell_type": "code",
   "execution_count": 3,
   "id": "b223273a-fc3f-46ac-8510-23ce17f3ada2",
   "metadata": {
    "execution": {
     "iopub.execute_input": "2024-05-29T21:46:46.808769Z",
     "iopub.status.busy": "2024-05-29T21:46:46.808030Z",
     "iopub.status.idle": "2024-05-29T21:46:51.646566Z",
     "shell.execute_reply": "2024-05-29T21:46:51.645389Z",
     "shell.execute_reply.started": "2024-05-29T21:46:46.808721Z"
    }
   },
   "outputs": [],
   "source": [
    "import numpy as np\n",
    "import scipy\n",
    "import matplotlib.pyplot as plt\n",
    "import seaborn as sns\n",
    "from tqdm import tqdm, trange\n",
    "import pandas as pd\n",
    "from torch.utils.data import DataLoader, Dataset\n",
    "from easydict import EasyDict as edict\n",
    "import torch\n",
    "import mne\n",
    "\n",
    "%matplotlib inline\n",
    "plt.style.use(FIG_ROOT/\"base.mplstyle\")"
   ]
  },
  {
   "cell_type": "code",
   "execution_count": 5,
   "id": "1de87bf0-832c-43cd-a231-fd6e5f0e9e44",
   "metadata": {
    "execution": {
     "iopub.execute_input": "2024-05-29T21:52:15.580963Z",
     "iopub.status.busy": "2024-05-29T21:52:15.580271Z",
     "iopub.status.idle": "2024-05-29T21:52:16.054180Z",
     "shell.execute_reply": "2024-05-29T21:52:16.052903Z",
     "shell.execute_reply.started": "2024-05-29T21:52:15.580914Z"
    }
   },
   "outputs": [],
   "source": [
    "%load_ext autoreload\n",
    "%autoreload 2"
   ]
  },
  {
   "cell_type": "code",
   "execution_count": 6,
   "id": "744794b9-fb90-4163-8b9a-c36e6d71f873",
   "metadata": {
    "execution": {
     "iopub.execute_input": "2024-05-29T21:52:16.640865Z",
     "iopub.status.busy": "2024-05-29T21:52:16.639983Z",
     "iopub.status.idle": "2024-05-29T21:52:16.789689Z",
     "shell.execute_reply": "2024-05-29T21:52:16.788465Z",
     "shell.execute_reply.started": "2024-05-29T21:52:16.640818Z"
    }
   },
   "outputs": [],
   "source": [
    "from data_utils.eeg_load import txt2labinfo, montage_txt_parse, EEG_data, len2num, seiz_lab_from_row_fn\n",
    "from data_utils.utils import get_triple, rec_data, digitize_data, convert_to_type\n",
    "from utils.misc import load_txt, save_pkl, load_pkl"
   ]
  },
  {
   "cell_type": "code",
   "execution_count": 7,
   "id": "d9b879cb-cbf2-4be5-af2a-551d03baab4a",
   "metadata": {
    "execution": {
     "iopub.execute_input": "2024-05-29T21:52:17.278317Z",
     "iopub.status.busy": "2024-05-29T21:52:17.277470Z",
     "iopub.status.idle": "2024-05-29T21:52:17.315220Z",
     "shell.execute_reply": "2024-05-29T21:52:17.314664Z",
     "shell.execute_reply.started": "2024-05-29T21:52:17.278272Z"
    }
   },
   "outputs": [
    {
     "data": {
      "text/plain": [
       "PosixPath('/data/rajlab1/user_data/jin/MyResearch/EEG-sz-det_dev/notebooks/../mypkg/../data/EEG_ep')"
      ]
     },
     "execution_count": 7,
     "metadata": {},
     "output_type": "execute_result"
    }
   ],
   "source": [
    "root = list(DATA_ROOT.glob(\"EEG_ep\"))[0]\n",
    "root"
   ]
  },
  {
   "cell_type": "markdown",
   "id": "b98481b2-8d85-4f1b-92ec-2d0a588ca818",
   "metadata": {},
   "source": [
    "# Pre-analysis\n",
    "\n",
    "Check num of folder in each session"
   ]
  },
  {
   "cell_type": "code",
   "execution_count": 6,
   "id": "14fe38a0-5895-4b16-8ffa-f0f87c3763d6",
   "metadata": {
    "execution": {
     "iopub.execute_input": "2024-05-29T18:43:22.941757Z",
     "iopub.status.busy": "2024-05-29T18:43:22.941106Z",
     "iopub.status.idle": "2024-05-29T18:43:24.469408Z",
     "shell.execute_reply": "2024-05-29T18:43:24.468107Z",
     "shell.execute_reply.started": "2024-05-29T18:43:22.941710Z"
    }
   },
   "outputs": [
    {
     "name": "stdout",
     "output_type": "stream",
     "text": [
      "0\n",
      "1\n"
     ]
    }
   ],
   "source": [
    "# all session paths\n",
    "# count number of folder in each session\n",
    "nums = []\n",
    "for p in list(root.rglob(\"s0*\")):\n",
    "    num = len(list(p.glob(\"*\")))\n",
    "    nums.append(num)\n",
    "    if num > 1:\n",
    "        print(p)\n",
    "    \n",
    "nums = np.array(nums)\n",
    "print((nums==2).sum())\n",
    "print(np.max(nums))\n",
    "# all session only have one data"
   ]
  },
  {
   "cell_type": "markdown",
   "id": "3f9b7bde-169f-4f1e-bee6-5f0b049cd9d5",
   "metadata": {},
   "source": [
    "# Output `csv` file \n",
    "\n"
   ]
  },
  {
   "cell_type": "code",
   "execution_count": 36,
   "id": "37698acc-ea34-447d-baf3-24c80b95ca5c",
   "metadata": {
    "execution": {
     "iopub.execute_input": "2024-05-29T19:00:45.121574Z",
     "iopub.status.busy": "2024-05-29T19:00:45.120868Z",
     "iopub.status.idle": "2024-05-29T19:00:45.175674Z",
     "shell.execute_reply": "2024-05-29T19:00:45.175054Z",
     "shell.execute_reply.started": "2024-05-29T19:00:45.121523Z"
    }
   },
   "outputs": [],
   "source": [
    "names =[\"dataset\", \"sub\", \"session\", \"montage\", \"file_stem\", \"relative_path\"]\n",
    "working_set = \"00_epilepsy\" # 00_epilepsy\n",
    "#working_set = \"01_no_epilepsy\" # 00_epilepsy\n",
    "working_path = root/working_set\n",
    "sel_chs_raw = \"Fp1, Fp2, F7, F3, Fz, F4, F8, T3, T4, T5, T6, C3, Cz, C4, P3, Pz, P4, O1, O2\"\n",
    "SEL_CHS = [ch.strip().upper() for ch in sel_chs_raw.split(\",\")];"
   ]
  },
  {
   "cell_type": "code",
   "execution_count": 37,
   "id": "cac6ff4b-0997-41ae-9901-7c79934b72d1",
   "metadata": {
    "execution": {
     "iopub.execute_input": "2024-05-29T19:00:47.839715Z",
     "iopub.status.busy": "2024-05-29T19:00:47.838798Z",
     "iopub.status.idle": "2024-05-29T19:00:47.878998Z",
     "shell.execute_reply": "2024-05-29T19:00:47.878477Z",
     "shell.execute_reply.started": "2024-05-29T19:00:47.839666Z"
    }
   },
   "outputs": [],
   "source": [
    "def path2info(p):\n",
    "    p_dir = \"/\".join(str(p).split(\"/\")[-5:]).split('.')[0]\n",
    "    return str(p.parent).split(\"/\")[-4:] + [p.stem] + [p_dir] "
   ]
  },
  {
   "cell_type": "code",
   "execution_count": 38,
   "id": "4938e40e-813f-4af3-8e21-f98c7db1d842",
   "metadata": {
    "execution": {
     "iopub.execute_input": "2024-05-29T19:00:48.595710Z",
     "iopub.status.busy": "2024-05-29T19:00:48.595107Z",
     "iopub.status.idle": "2024-05-29T19:00:49.129629Z",
     "shell.execute_reply": "2024-05-29T19:00:49.128381Z",
     "shell.execute_reply.started": "2024-05-29T19:00:48.595666Z"
    }
   },
   "outputs": [
    {
     "name": "stderr",
     "output_type": "stream",
     "text": [
      "1785it [00:00, 3644.29it/s]\n"
     ]
    }
   ],
   "source": [
    "all_infos = []\n",
    "for p in tqdm(working_path.rglob(\"*.edf\")):\n",
    "    all_infos.append(path2info(p))\n",
    "df = pd.DataFrame(all_infos, columns=names);"
   ]
  },
  {
   "cell_type": "code",
   "execution_count": 39,
   "id": "20104cec-4469-44a1-976a-81f797450785",
   "metadata": {
    "execution": {
     "iopub.execute_input": "2024-05-29T19:00:50.134133Z",
     "iopub.status.busy": "2024-05-29T19:00:50.133530Z",
     "iopub.status.idle": "2024-05-29T19:01:00.635539Z",
     "shell.execute_reply": "2024-05-29T19:01:00.635002Z",
     "shell.execute_reply.started": "2024-05-29T19:00:50.134088Z"
    }
   },
   "outputs": [
    {
     "name": "stderr",
     "output_type": "stream",
     "text": [
      "100%|██████████████████████████████████████| 1785/1785 [00:10<00:00, 170.60it/s]\n"
     ]
    }
   ],
   "source": [
    "# save the ch names for each data in csv\n",
    "from tqdm import trange\n",
    "all_chs = []\n",
    "durs = []\n",
    "for ix in trange(len(df)):\n",
    "    dat_path = (root/df[\"relative_path\"].iloc[ix]).with_suffix(\".edf\")\n",
    "    dat = mne.io.read_raw_edf(dat_path, verbose=False)\n",
    "    dur = dat.times[-1]- dat.times[0]\n",
    "    ch_names_simple = [ch_name.split(\" \")[-1].split(\"-\")[0].strip() \n",
    "                       for ch_name in dat.ch_names];\n",
    "    all_chs.append(';'.join(ch_names_simple))\n",
    "    durs.append(dur)\n",
    "    #diff_chs = np.setdiff1d(SEL_CHS, ch_names_simple)"
   ]
  },
  {
   "cell_type": "code",
   "execution_count": 40,
   "id": "f0298e15-f8f5-4a34-9caf-57fd49f4e9a6",
   "metadata": {
    "execution": {
     "iopub.execute_input": "2024-05-29T19:01:01.457713Z",
     "iopub.status.busy": "2024-05-29T19:01:01.457063Z",
     "iopub.status.idle": "2024-05-29T19:01:01.999747Z",
     "shell.execute_reply": "2024-05-29T19:01:01.999238Z",
     "shell.execute_reply.started": "2024-05-29T19:01:01.457665Z"
    }
   },
   "outputs": [],
   "source": [
    "df[\"all_chs\"] = all_chs\n",
    "df[\"total_dur\"] = durs\n",
    "df[\"is_ep\"] = True if working_set.startswith(\"00\") else False\n",
    "df.to_csv(root/f\"all_data_{working_set}.csv\");"
   ]
  },
  {
   "cell_type": "markdown",
   "id": "abc9c942-6a7e-41fc-a9f9-360a66564dae",
   "metadata": {},
   "source": [
    "# Split data"
   ]
  },
  {
   "cell_type": "code",
   "execution_count": 31,
   "id": "8ddd643c-6667-4bce-822c-4218d74683fe",
   "metadata": {
    "execution": {
     "iopub.execute_input": "2024-05-29T22:15:10.156550Z",
     "iopub.status.busy": "2024-05-29T22:15:10.155548Z",
     "iopub.status.idle": "2024-05-29T22:15:10.693294Z",
     "shell.execute_reply": "2024-05-29T22:15:10.692791Z",
     "shell.execute_reply.started": "2024-05-29T22:15:10.156498Z"
    }
   },
   "outputs": [],
   "source": [
    "# get small data to test\n",
    "all_ep = pd.read_csv(DATA_ROOT/\"EEG_ep/all_data_00_epilepsy.csv\", index_col=0);\n",
    "all_noep = pd.read_csv(DATA_ROOT/\"EEG_ep/all_data_01_no_epilepsy.csv\", index_col=0);\n",
    "len(all_ep), len(all_noep)\n",
    "n_half = 100\n",
    "\n",
    "np.random.seed(0)\n",
    "noep_idxs = np.random.choice(len(all_noep), size=n_half, replace=False)\n",
    "ep_idxs = np.random.choice(len(all_ep), size=n_half, replace=False)\n",
    "subset_noep= all_noep.copy().iloc[noep_idxs]\n",
    "subset_ep = all_ep.copy().iloc[ep_idxs]\n",
    "\n",
    "subset_ep.index = np.arange(n_half)\n",
    "subset_noep.index = np.arange(n_half);\n",
    "subset_ep.to_csv(root/f\"all_data_00_epilepsy_small.csv\");\n",
    "subset_noep.to_csv(root/f\"all_data_01_no_epilepsy_small.csv\");"
   ]
  },
  {
   "cell_type": "markdown",
   "id": "5ac0ffaf-9867-4fb4-bf2b-d008acfeafc7",
   "metadata": {},
   "source": [
    "# Preprocess "
   ]
  },
  {
   "cell_type": "code",
   "execution_count": 35,
   "id": "78dee812-3255-4b5a-a26d-9ab7665218a5",
   "metadata": {
    "execution": {
     "iopub.execute_input": "2024-05-29T22:19:03.588481Z",
     "iopub.status.busy": "2024-05-29T22:19:03.587427Z",
     "iopub.status.idle": "2024-05-29T22:19:04.190673Z",
     "shell.execute_reply": "2024-05-29T22:19:04.190154Z",
     "shell.execute_reply.started": "2024-05-29T22:19:03.588427Z"
    }
   },
   "outputs": [],
   "source": [
    "dataset = EEG_data(\"01_no_epilepsy_small\", \"ALL\", \n",
    "                   root=DATA_ROOT/\"EEG_ep\",\n",
    "                   preprocess_dict=dict(is_detrend=True, \n",
    "                                      is_drop=True,\n",
    "                                      target_fs=90, \n",
    "                                      filter_limit=[1, 45], \n",
    "                                      is_diff=False)\n",
    "                  );"
   ]
  },
  {
   "cell_type": "code",
   "execution_count": 36,
   "id": "63ea8032-10f7-47ed-a270-8ad50fac2a38",
   "metadata": {
    "execution": {
     "iopub.execute_input": "2024-05-29T22:19:05.028624Z",
     "iopub.status.busy": "2024-05-29T22:19:05.027725Z",
     "iopub.status.idle": "2024-05-29T22:20:20.634002Z",
     "shell.execute_reply": "2024-05-29T22:20:20.633477Z",
     "shell.execute_reply.started": "2024-05-29T22:19:05.028575Z"
    }
   },
   "outputs": [
    {
     "name": "stderr",
     "output_type": "stream",
     "text": [
      "100%|███████████████████████████████████████████| 79/79 [01:15<00:00,  1.05it/s]\n"
     ]
    }
   ],
   "source": [
    "from tqdm import trange\n",
    "for ix in trange(len(dataset.all_data)):\n",
    "    dataset.get_preprocess_data(ix, regen=False)"
   ]
  },
  {
   "cell_type": "code",
   "execution_count": null,
   "id": "2ccf776b-6a44-4d77-8d21-b71b48835239",
   "metadata": {},
   "outputs": [],
   "source": []
  }
 ],
 "metadata": {
  "kernelspec": {
   "display_name": "SSH hyperion.radiology.ucsf.edu hyperion-EEG",
   "language": "",
   "name": "rik_ssh_hyperion_radiology_ucsf_edu_hyperioneeg"
  },
  "language_info": {
   "codemirror_mode": {
    "name": "ipython",
    "version": 3
   },
   "file_extension": ".py",
   "mimetype": "text/x-python",
   "name": "python",
   "nbconvert_exporter": "python",
   "pygments_lexer": "ipython3",
   "version": "3.9.19"
  }
 },
 "nbformat": 4,
 "nbformat_minor": 5
}
