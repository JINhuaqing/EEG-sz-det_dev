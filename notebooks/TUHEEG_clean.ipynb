{
 "cells": [
  {
   "cell_type": "markdown",
   "id": "61a75106-9d74-4deb-808b-9eb24a668f1f",
   "metadata": {},
   "source": [
    "This file is to clearn the TUH EEG seizure data\n",
    "\n",
    "1. Create a csv file to contains all edf and the labels\n",
    "\n",
    "2. A class to load data\n"
   ]
  },
  {
   "cell_type": "code",
   "execution_count": 1,
   "id": "823bb720-79ee-4373-af29-326790781f67",
   "metadata": {
    "execution": {
     "iopub.execute_input": "2023-04-07T18:07:15.773947Z",
     "iopub.status.busy": "2023-04-07T18:07:15.773391Z",
     "iopub.status.idle": "2023-04-07T18:07:15.933580Z",
     "shell.execute_reply": "2023-04-07T18:07:15.932473Z",
     "shell.execute_reply.started": "2023-04-07T18:07:15.773901Z"
    },
    "tags": []
   },
   "outputs": [],
   "source": [
    "import sys\n",
    "sys.path.append(\"../mypkg\")\n",
    "from constants import RES_ROOT, FIG_ROOT, DATA_ROOT"
   ]
  },
  {
   "cell_type": "code",
   "execution_count": 7,
   "id": "396a751c-5422-4374-87c2-a739dc7a866a",
   "metadata": {
    "execution": {
     "iopub.execute_input": "2023-04-07T18:08:11.830189Z",
     "iopub.status.busy": "2023-04-07T18:08:11.829550Z",
     "iopub.status.idle": "2023-04-07T18:08:11.844879Z",
     "shell.execute_reply": "2023-04-07T18:08:11.843919Z",
     "shell.execute_reply.started": "2023-04-07T18:08:11.830142Z"
    },
    "tags": []
   },
   "outputs": [],
   "source": [
    "import numpy as np\n",
    "import scipy\n",
    "import matplotlib.pyplot as plt\n",
    "import seaborn as sns\n",
    "from tqdm import tqdm\n",
    "import pandas as pd\n",
    "from torch.utils.data import DataLoader, Dataset\n",
    "from easydict import EasyDict as edict\n",
    "import torch\n",
    "import mne\n",
    "\n",
    "%matplotlib inline\n",
    "plt.style.use(FIG_ROOT/\"base.mplstyle\")"
   ]
  },
  {
   "cell_type": "code",
   "execution_count": 3,
   "id": "97553d16-f34c-45a5-be14-ba61af7ce992",
   "metadata": {
    "execution": {
     "iopub.execute_input": "2023-04-07T18:07:24.620346Z",
     "iopub.status.busy": "2023-04-07T18:07:24.619598Z",
     "iopub.status.idle": "2023-04-07T18:07:24.626102Z",
     "shell.execute_reply": "2023-04-07T18:07:24.625033Z",
     "shell.execute_reply.started": "2023-04-07T18:07:24.620293Z"
    },
    "tags": []
   },
   "outputs": [],
   "source": [
    "from data_utils.eeg_load import txt2labinfo, len2_numsps, montage_txt_parse, EEG_data\n",
    "from utils.misc import load_txt"
   ]
  },
  {
   "cell_type": "code",
   "execution_count": null,
   "id": "96b01ddb-22dc-4ce6-97be-2df971b05c07",
   "metadata": {},
   "outputs": [],
   "source": []
  },
  {
   "cell_type": "code",
   "execution_count": 4,
   "id": "5a69f35c-7790-4cff-b432-4475cab479d9",
   "metadata": {
    "execution": {
     "iopub.execute_input": "2023-04-07T18:07:25.607717Z",
     "iopub.status.busy": "2023-04-07T18:07:25.607182Z",
     "iopub.status.idle": "2023-04-07T18:07:25.618956Z",
     "shell.execute_reply": "2023-04-07T18:07:25.617952Z",
     "shell.execute_reply.started": "2023-04-07T18:07:25.607672Z"
    },
    "tags": []
   },
   "outputs": [
    {
     "data": {
      "text/plain": [
       "PosixPath('/data/rajlab1/user_data/jin/MyResearch/gTVDN-NN/notebooks/../mypkg/../data/EEG_seizure')"
      ]
     },
     "execution_count": 4,
     "metadata": {},
     "output_type": "execute_result"
    }
   ],
   "source": [
    "root = list(DATA_ROOT.glob(\"EEG_seizure\"))[0]\n",
    "root"
   ]
  },
  {
   "cell_type": "code",
   "execution_count": null,
   "id": "beb30f3c-3635-44ec-9334-284702071b1d",
   "metadata": {},
   "outputs": [],
   "source": []
  },
  {
   "cell_type": "markdown",
   "id": "6818750c-cd23-4086-a7dc-bcf0f4696b2f",
   "metadata": {},
   "source": [
    "# Pre-analysis"
   ]
  },
  {
   "cell_type": "code",
   "execution_count": 23,
   "id": "5da6a08a-8c5a-4667-b46f-496f84cdbeaf",
   "metadata": {
    "execution": {
     "iopub.execute_input": "2023-04-05T22:55:19.555633Z",
     "iopub.status.busy": "2023-04-05T22:55:19.554849Z",
     "iopub.status.idle": "2023-04-05T22:55:45.728725Z",
     "shell.execute_reply": "2023-04-05T22:55:45.727520Z",
     "shell.execute_reply.started": "2023-04-05T22:55:19.555577Z"
    },
    "tags": []
   },
   "outputs": [
    {
     "name": "stdout",
     "output_type": "stream",
     "text": [
      "/data/rajlab1/user_data/jin/MyResearch/gTVDN-NN/notebooks/../mypkg/../data/EEG_seizure/edf/eval/aaaaaqvx/s003_2015_08_24\n",
      "/data/rajlab1/user_data/jin/MyResearch/gTVDN-NN/notebooks/../mypkg/../data/EEG_seizure/edf/eval/aaaaaqvx/s010_2015_08_27\n",
      "2\n",
      "2\n"
     ]
    }
   ],
   "source": [
    "# all session paths\n",
    "# count number of folder in each session\n",
    "nums = []\n",
    "for p in list(root.rglob(\"s0*\")):\n",
    "    num = len(list(p.glob(\"*\")))\n",
    "    nums.append(num)\n",
    "    if num > 1:\n",
    "        print(p)\n",
    "    \n",
    "nums = np.array(nums)\n",
    "print((nums==2).sum())\n",
    "print(np.max(nums))"
   ]
  },
  {
   "cell_type": "markdown",
   "id": "6d7ed02c-6103-4eaa-a8ef-315299135cca",
   "metadata": {
    "tags": []
   },
   "source": [
    "# Output csv file\n",
    "\n",
    "Csv file lists all files"
   ]
  },
  {
   "cell_type": "code",
   "execution_count": 5,
   "id": "151c4646-c6be-4004-baa2-5cc988ee2a12",
   "metadata": {
    "execution": {
     "iopub.execute_input": "2023-04-07T18:02:38.096784Z",
     "iopub.status.busy": "2023-04-07T18:02:38.096193Z",
     "iopub.status.idle": "2023-04-07T18:02:38.103275Z",
     "shell.execute_reply": "2023-04-07T18:02:38.102034Z",
     "shell.execute_reply.started": "2023-04-07T18:02:38.096738Z"
    },
    "tags": []
   },
   "outputs": [],
   "source": [
    "names =[\"dataset\", \"sub\", \"session\", \"montage\", \"file_stem\", \"relative_path\", \"is_seizure\", \"total_dur\"]\n",
    "working_set = \"dev\" # train, eval, dev \n",
    "working_path = root/(\"edf/\"+working_set)"
   ]
  },
  {
   "cell_type": "code",
   "execution_count": 7,
   "id": "edffca14-dcb4-498b-9e45-9556b5cf03d9",
   "metadata": {
    "execution": {
     "iopub.execute_input": "2023-04-07T18:03:13.645827Z",
     "iopub.status.busy": "2023-04-07T18:03:13.645220Z",
     "iopub.status.idle": "2023-04-07T18:03:13.654324Z",
     "shell.execute_reply": "2023-04-07T18:03:13.653201Z",
     "shell.execute_reply.started": "2023-04-07T18:03:13.645782Z"
    },
    "tags": []
   },
   "outputs": [],
   "source": [
    "def path2info(p):\n",
    "    p_dir = \"/\".join(str(p).split(\"/\")[-5:]).split('.')[0]\n",
    "    txt = load_txt(p.with_suffix(\".csv_bi\"))\n",
    "    infos = txt2labinfo(txt)\n",
    "    return str(p.parent).split(\"/\")[-4:] + [p.stem] + [p_dir] + [infos[\"is_seizure\"]] + [infos[\"total_dur\"]]"
   ]
  },
  {
   "cell_type": "code",
   "execution_count": null,
   "id": "9a6841eb-ca00-4150-938a-08e0f588987d",
   "metadata": {
    "execution": {
     "iopub.execute_input": "2023-04-07T18:03:41.845866Z",
     "iopub.status.busy": "2023-04-07T18:03:41.845285Z",
     "iopub.status.idle": "2023-04-07T18:03:41.890159Z",
     "shell.execute_reply": "2023-04-07T18:03:41.888842Z",
     "shell.execute_reply.started": "2023-04-07T18:03:41.845821Z"
    },
    "tags": []
   },
   "outputs": [],
   "source": [
    "all_infos = []\n",
    "for p in tqdm(working_path.rglob(\"*.edf\")):\n",
    "    all_infos.append(path2info(p))"
   ]
  },
  {
   "cell_type": "code",
   "execution_count": 21,
   "id": "681751be-2fb9-483d-a13b-2c4242987427",
   "metadata": {
    "execution": {
     "iopub.execute_input": "2023-04-06T22:40:32.470524Z",
     "iopub.status.busy": "2023-04-06T22:40:32.469740Z",
     "iopub.status.idle": "2023-04-06T22:40:32.578915Z",
     "shell.execute_reply": "2023-04-06T22:40:32.577848Z",
     "shell.execute_reply.started": "2023-04-06T22:40:32.470479Z"
    },
    "tags": []
   },
   "outputs": [],
   "source": [
    "df = pd.DataFrame(all_infos, columns=names)\n",
    "df.to_csv(root/f\"all_data_{working_set}.csv\")"
   ]
  },
  {
   "cell_type": "code",
   "execution_count": null,
   "id": "5dff390f-9a6b-400f-af3b-02df5324e386",
   "metadata": {},
   "outputs": [],
   "source": []
  },
  {
   "cell_type": "markdown",
   "id": "f4532b1a-96a7-4eca-9b5b-afe7af96e21e",
   "metadata": {},
   "source": [
    "# Load the data"
   ]
  },
  {
   "cell_type": "code",
   "execution_count": 133,
   "id": "080c5e7f-9b84-4e8c-b7ff-61c83eb5e4dc",
   "metadata": {
    "execution": {
     "iopub.execute_input": "2023-04-07T18:58:11.807856Z",
     "iopub.status.busy": "2023-04-07T18:58:11.807253Z",
     "iopub.status.idle": "2023-04-07T18:58:11.851099Z",
     "shell.execute_reply": "2023-04-07T18:58:11.850245Z",
     "shell.execute_reply.started": "2023-04-07T18:58:11.807809Z"
    },
    "tags": []
   },
   "outputs": [],
   "source": [
    "import time\n",
    "from utils.misc import delta_time\n",
    "all_data = pd.read_csv(root/\"all_data_train.csv\")\n",
    "class EEG_data(Dataset):\n",
    "    \"\"\"The main data class\n",
    "    \"\"\"\n",
    "    def __init__(self, dataset, subset, \n",
    "                 move_dict=dict(winsize=256, stepsize=64, paddingsize=None),\n",
    "                 preprocess_dict=dict(is_detrend=True, \n",
    "                                      is_drop=True,\n",
    "                                      target_fs=100, \n",
    "                                      filter_limit=[2, 45], \n",
    "                                      is_diff=True), \n",
    "                 root=None):\n",
    "        \"\"\"\n",
    "        Initializes a new instance of the EEG data class.\n",
    "        The EEG data with sampling freq 250\n",
    "\n",
    "        Args:\n",
    "            dataset: The data set we want to load, train, dev or eval\n",
    "            subset: the subset to choose: LE, AR, AR_A, ALL\n",
    "            move_dict: the moving parameters\n",
    "            root: The root of dataset,\n",
    "        \"\"\"\n",
    "        if root is None:\n",
    "            root = list(DATA_ROOT.glob(\"EEG_seizure\"))[0]\n",
    "        self.root = root\n",
    "        self.move_dict = edict(move_dict)\n",
    "        self.preprocess_dict = edict(preprocess_dict)\n",
    "        if self.preprocess_dict.target_fs is None:\n",
    "            self.preprocess_dict.target_fs = 250\n",
    "        \n",
    "        if subset.lower().startswith(\"all\"):\n",
    "            montage_p = list((root/\"DOCS\").glob(f\"*ar_montage*\"))[0]\n",
    "        else:\n",
    "            montage_p = list((root/\"DOCS\").glob(f\"*{subset.lower()}_montage*\"))[0]\n",
    "        montage_txt = load_txt(montage_p)\n",
    "        self.montage = montage_txt_parse(montage_txt)\n",
    "            \n",
    "\n",
    "        all_data = pd.read_csv(self.root/f\"all_data_{dataset}.csv\")\n",
    "        if subset.lower().endswith(\"all\"):\n",
    "            self.all_data = all_data\n",
    "        else:\n",
    "            self.all_data = all_data[all_data[\"montage\"].str.endswith(subset.lower())]\n",
    "        self.num_sps_persub = np.array(len2_numsps(\n",
    "                                          np.array(self.all_data[\"total_dur\"])*self.preprocess_dict.target_fs, \n",
    "                                          self.move_dict.winsize, \n",
    "                                          self.move_dict.stepsize, \n",
    "                                          self.move_dict.paddingsize), dtype=int)\n",
    "            \n",
    "    def __len__(self):\n",
    "        \"\"\"\n",
    "        Returns the length of the dataset.\n",
    "\n",
    "        Returns:\n",
    "            int: The length of the dataset.\n",
    "        \"\"\"\n",
    "        return int(self.num_sps_persub.sum())\n",
    "\n",
    "    def __getitem__(self, idx):\n",
    "        \"\"\"\n",
    "        Gets the item at the specified index.\n",
    "\n",
    "        Args:\n",
    "            idx (int or str): The index of the item to get.\n",
    "\n",
    "        Returns:\n",
    "            tuple: A tuple containing the input data and target data.\n",
    "        \"\"\"\n",
    "        if isinstance(idx, int):\n",
    "            if idx < 0:\n",
    "                idx = self.__len__() + idx\n",
    "            num_cumsum = np.cumsum(self.num_sps_persub)\n",
    "            sub_idx = np.sum(num_cumsum < (idx+1))\n",
    "            if sub_idx != 0:\n",
    "                loc_idx = idx - num_cumsum[sub_idx-1]\n",
    "            else:\n",
    "                loc_idx = idx\n",
    "                \n",
    "            _, low_idxs = len2_numsps(np.array(self.all_data[\"total_dur\"])[sub_idx] * self.preprocess_dict.target_fs, \n",
    "                                                      self.move_dict.winsize, \n",
    "                                                      self.move_dict.stepsize, \n",
    "                                                      self.move_dict.paddingsize, True)\n",
    "            loc_idx_low, loc_idx_up = int(low_idxs[loc_idx]), int(low_idxs[loc_idx] + self.move_dict.stepsize)\n",
    "            if sub_idx > (self.__len__()-1):\n",
    "                raise IndexError\n",
    "        elif isinstance(idx, str) and idx.lower().startswith(\"sub\"):\n",
    "            sub_idx = int(idx.split(\"sub\")[-1])\n",
    "            if sub_idx < 0:\n",
    "                sub_idx = len(self.all_data) + sub_idx\n",
    "            if sub_idx > (self.__len__()-1):\n",
    "                raise IndexError\n",
    "            loc_idx_low = loc_idx_up = None\n",
    "        else:\n",
    "            raise NotImplementedError\n",
    "            \n",
    "        #print(idx)\n",
    "        t0 = time.time()\n",
    "        relative_path = self.all_data[\"relative_path\"].iloc[sub_idx]\n",
    "        data_path = (self.root/\"edf\"/relative_path).with_suffix(\".edf\")\n",
    "        data = mne.io.read_raw_edf(data_path, preload=True, verbose=False)\n",
    "        print(delta_time(t0))\n",
    "        \n",
    "        \n",
    "        if self.preprocess_dict.is_drop:\n",
    "            # only keep some channels\n",
    "            pick_names = np.unique(np.concatenate([i[1:] for i in self.montage]))\n",
    "            data.pick_channels(pick_names)\n",
    "        print(delta_time(t0))\n",
    "        \n",
    "        # to make sure the order is the same\n",
    "        data.reorder_channels(np.sort(data.ch_names))\n",
    "        print(delta_time(t0))\n",
    "        \n",
    "        if self.preprocess_dict.is_detrend:\n",
    "            data.apply_function(mne.epochs.detrend, verbose=False)\n",
    "        #print(delta_time(t0))\n",
    "        if self.preprocess_dict.target_fs < 250:\n",
    "            data.resample(self.preprocess_dict.target_fs, verbose=False)\n",
    "        #print(delta_time(t0))\n",
    "        if self.preprocess_dict.filter_limit is not None:\n",
    "            data.filter(\n",
    "                self.preprocess_dict.filter_limit[0], \n",
    "                self.preprocess_dict.filter_limit[1], \n",
    "                verbose=False);\n",
    "        #print(delta_time(t0))\n",
    "            \n",
    "        if self.preprocess_dict.is_diff:\n",
    "            # to be down\n",
    "            # it is the very bad way to do it, below\n",
    "            #final_data = []\n",
    "            #for chs in self.montage:\n",
    "            #    final_data.append(data[chs[1]][0] - data[chs[2]][0])\n",
    "            #final_data = np.array(final_data).squeeze()\n",
    "            pass\n",
    "        final_data = data.get_data()\n",
    "        \n",
    "        \n",
    "        if loc_idx_low is not None:\n",
    "            final_data = final_data[:, loc_idx_low:loc_idx_up]\n",
    "            \n",
    "            if final_data.shape[1] < self.move_dict.winsize:\n",
    "                padding = np.zeros((final_data.shape[0], self.move_dict.winsize-final_data.shape[1]))\n",
    "                final_data = np.concatenate([final_data, padding], axis=1)\n",
    "        #final_data = torch.tensor(final_data)\n",
    "        return final_data, delta_time(t0)\n"
   ]
  },
  {
   "cell_type": "code",
   "execution_count": 134,
   "id": "28096eb3-b242-43c1-9f10-f94679d9b542",
   "metadata": {
    "execution": {
     "iopub.execute_input": "2023-04-07T18:58:15.265763Z",
     "iopub.status.busy": "2023-04-07T18:58:15.265152Z",
     "iopub.status.idle": "2023-04-07T18:58:15.305108Z",
     "shell.execute_reply": "2023-04-07T18:58:15.304047Z",
     "shell.execute_reply.started": "2023-04-07T18:58:15.265716Z"
    },
    "tags": []
   },
   "outputs": [],
   "source": [
    "dataset = EEG_data(\"train\", \"AR\")\n",
    "sel_idxs = torch.randint(len(dataset), (10, ))"
   ]
  },
  {
   "cell_type": "code",
   "execution_count": 122,
   "id": "1c92b280-5971-444e-a1a0-0e0924d1c819",
   "metadata": {
    "execution": {
     "iopub.execute_input": "2023-04-07T18:51:00.647507Z",
     "iopub.status.busy": "2023-04-07T18:51:00.646947Z",
     "iopub.status.idle": "2023-04-07T18:51:25.335680Z",
     "shell.execute_reply": "2023-04-07T18:51:25.334938Z",
     "shell.execute_reply.started": "2023-04-07T18:51:00.647438Z"
    },
    "tags": []
   },
   "outputs": [
    {
     "name": "stdout",
     "output_type": "stream",
     "text": [
      "0.8026406764984131\n",
      "0.8099970817565918\n",
      "0.822756290435791\n",
      "0.5480399131774902\n",
      "0.5567238330841064\n",
      "0.571345329284668\n",
      "2.7495172023773193\n",
      "2.9382686614990234\n",
      "3.0391335487365723\n",
      "1.9453749656677246\n",
      "2.059147596359253\n",
      "2.12428617477417\n",
      "2.8434648513793945\n",
      "2.9734740257263184\n",
      "3.0479319095611572\n",
      "0.3380880355834961\n",
      "0.3424191474914551\n",
      "0.34598493576049805\n",
      "0.2935616970062256\n",
      "0.2979850769042969\n",
      "0.3018782138824463\n",
      "0.3481316566467285\n",
      "0.3536057472229004\n",
      "0.3583061695098877\n",
      "1.5088706016540527\n",
      "1.6061220169067383\n",
      "1.6584367752075195\n",
      "0.43761372566223145\n",
      "0.45499730110168457\n",
      "0.47007226943969727\n"
     ]
    }
   ],
   "source": [
    "\n",
    "xys = [dataset[int(sel_idx)] for sel_idx in sel_idxs]"
   ]
  },
  {
   "cell_type": "code",
   "execution_count": 139,
   "id": "de74a34a-6dab-49ae-899f-9333327f75e9",
   "metadata": {
    "execution": {
     "iopub.execute_input": "2023-04-07T18:58:31.835914Z",
     "iopub.status.busy": "2023-04-07T18:58:31.835352Z",
     "iopub.status.idle": "2023-04-07T18:58:32.259557Z",
     "shell.execute_reply": "2023-04-07T18:58:32.258918Z",
     "shell.execute_reply.started": "2023-04-07T18:58:31.835868Z"
    },
    "tags": []
   },
   "outputs": [
    {
     "name": "stdout",
     "output_type": "stream",
     "text": [
      "0.1362752914428711\n",
      "0.14113140106201172\n",
      "0.14530014991760254\n"
     ]
    },
    {
     "data": {
      "text/plain": [
       "(array([[-2.18655180e-05, -2.98165904e-05, -3.29547472e-05, ...,\n",
       "          0.00000000e+00,  0.00000000e+00,  0.00000000e+00],\n",
       "        [-7.82147995e-06, -1.59295348e-05, -2.26337967e-05, ...,\n",
       "          0.00000000e+00,  0.00000000e+00,  0.00000000e+00],\n",
       "        [-1.97709514e-05, -3.72925996e-05, -3.40308934e-05, ...,\n",
       "          0.00000000e+00,  0.00000000e+00,  0.00000000e+00],\n",
       "        ...,\n",
       "        [-1.17672496e-05, -1.12363095e-05, -6.99736349e-06, ...,\n",
       "          0.00000000e+00,  0.00000000e+00,  0.00000000e+00],\n",
       "        [-2.72709212e-05, -3.29669608e-05, -3.13457087e-05, ...,\n",
       "          0.00000000e+00,  0.00000000e+00,  0.00000000e+00],\n",
       "        [-2.24227245e-05, -2.11237724e-05, -1.68677652e-05, ...,\n",
       "          0.00000000e+00,  0.00000000e+00,  0.00000000e+00]]),\n",
       " 0.4170417785644531)"
      ]
     },
     "execution_count": 139,
     "metadata": {},
     "output_type": "execute_result"
    }
   ],
   "source": [
    "dataset[1284004]"
   ]
  },
  {
   "cell_type": "code",
   "execution_count": 126,
   "id": "3ad88b6d-d2ff-4e83-ad9d-63b997a4e1d5",
   "metadata": {
    "execution": {
     "iopub.execute_input": "2023-04-07T18:51:52.236528Z",
     "iopub.status.busy": "2023-04-07T18:51:52.235917Z",
     "iopub.status.idle": "2023-04-07T18:52:08.178671Z",
     "shell.execute_reply": "2023-04-07T18:52:08.178173Z",
     "shell.execute_reply.started": "2023-04-07T18:51:52.236479Z"
    },
    "tags": []
   },
   "outputs": [
    {
     "name": "stdout",
     "output_type": "stream",
     "text": [
      "0.1902787685394287\n",
      "0.2045285701751709\n",
      "0.21631622314453125\n",
      "111 0.6177456378936768\n",
      "0.1729292869567871\n",
      "0.18406128883361816\n",
      "0.1946849822998047\n",
      "111 0.6610822677612305\n",
      "0.7353293895721436\n",
      "0.9052433967590332\n",
      "1.0120396614074707\n",
      "111 5.085727214813232\n",
      "0.4490933418273926\n",
      "0.5526070594787598\n",
      "0.616865873336792\n",
      "111 2.452368974685669\n",
      "0.9417798519134521\n",
      "1.0656518936157227\n",
      "1.1403999328613281\n",
      "111 3.5400137901306152\n",
      "0.08037066459655762\n",
      "0.08384490013122559\n",
      "0.08682894706726074\n",
      "111 0.2931504249572754\n",
      "0.07173657417297363\n",
      "0.07697582244873047\n",
      "0.08193111419677734\n",
      "111 0.3412809371948242\n",
      "0.07332444190979004\n",
      "0.07773685455322266\n",
      "0.08175182342529297\n",
      "111 0.33588314056396484\n",
      "0.3206064701080322\n",
      "0.38570404052734375\n",
      "0.4312303066253662\n",
      "111 2.102715253829956\n",
      "0.09549140930175781\n",
      "0.10964226722717285\n",
      "0.1216118335723877\n",
      "111 0.49719905853271484\n"
     ]
    }
   ],
   "source": [
    "for sel_idx in sel_idxs:\n",
    "    tt =  int(sel_idx)\n",
    "    print(111, dataset[tt][1])\n",
    "    #print(tt)"
   ]
  },
  {
   "cell_type": "code",
   "execution_count": 38,
   "id": "3a842aad-d965-4521-abf9-d362c83ca0cc",
   "metadata": {
    "execution": {
     "iopub.execute_input": "2023-04-07T18:35:59.626456Z",
     "iopub.status.busy": "2023-04-07T18:35:59.625895Z",
     "iopub.status.idle": "2023-04-07T18:35:59.633922Z",
     "shell.execute_reply": "2023-04-07T18:35:59.632832Z",
     "shell.execute_reply.started": "2023-04-07T18:35:59.626401Z"
    },
    "tags": []
   },
   "outputs": [
    {
     "data": {
      "text/plain": [
       "1811789"
      ]
     },
     "execution_count": 38,
     "metadata": {},
     "output_type": "execute_result"
    }
   ],
   "source": []
  },
  {
   "cell_type": "code",
   "execution_count": null,
   "id": "37a330cd-08e9-452a-b80e-351d4e57c487",
   "metadata": {
    "execution": {
     "iopub.execute_input": "2023-04-07T18:10:35.903667Z",
     "iopub.status.busy": "2023-04-07T18:10:35.903016Z",
     "iopub.status.idle": "2023-04-07T18:12:36.897337Z",
     "shell.execute_reply": "2023-04-07T18:12:36.896105Z",
     "shell.execute_reply.started": "2023-04-07T18:10:35.903617Z"
    },
    "tags": []
   },
   "outputs": [],
   "source": [
    "\n",
    "train_data_loader = DataLoader(dataset, batch_size=10, shuffle=True)\n",
    "for ix in train_data_loader:\n",
    "    print(ix.shape)"
   ]
  },
  {
   "cell_type": "code",
   "execution_count": null,
   "id": "d761ec9a-9cac-421c-b43c-87e6e3da12dc",
   "metadata": {},
   "outputs": [],
   "source": []
  },
  {
   "cell_type": "code",
   "execution_count": null,
   "id": "b48ca856-41c2-4cc7-8b24-f82f74e771a3",
   "metadata": {},
   "outputs": [],
   "source": []
  }
 ],
 "metadata": {
  "kernelspec": {
   "display_name": "Python 3 (ipykernel)",
   "language": "python",
   "name": "python3"
  },
  "language_info": {
   "codemirror_mode": {
    "name": "ipython",
    "version": 3
   },
   "file_extension": ".py",
   "mimetype": "text/x-python",
   "name": "python",
   "nbconvert_exporter": "python",
   "pygments_lexer": "ipython3",
   "version": "3.9.7"
  },
  "toc-autonumbering": false,
  "toc-showmarkdowntxt": false
 },
 "nbformat": 4,
 "nbformat_minor": 5
}
