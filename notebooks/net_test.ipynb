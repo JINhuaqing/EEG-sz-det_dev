{
 "cells": [
  {
   "cell_type": "markdown",
   "id": "65afc5c6-4f4d-4c8d-b6fc-2d5bd3dbd2fa",
   "metadata": {},
   "source": [
    "This file is to test my model on the TUH-EEG-seizure data\n",
    "\n",
    "Here I predict X(t+1)-X(t) from GPT directly. (on Apr 13, 2023)\n",
    "\n",
    "And I also change the network a bit.\n",
    "\n",
    "1. add spatial attention\n",
    "\n",
    "2. v = v + s(v)"
   ]
  },
  {
   "cell_type": "code",
   "execution_count": 1,
   "id": "145684f6-e426-480d-bad6-dd7d86f3b54b",
   "metadata": {
    "execution": {
     "iopub.execute_input": "2023-05-21T03:09:19.654437Z",
     "iopub.status.busy": "2023-05-21T03:09:19.653974Z",
     "iopub.status.idle": "2023-05-21T03:09:19.667968Z",
     "shell.execute_reply": "2023-05-21T03:09:19.667314Z",
     "shell.execute_reply.started": "2023-05-21T03:09:19.654398Z"
    },
    "tags": []
   },
   "outputs": [
    {
     "data": {
      "text/plain": [
       "'Lay2_dis_1step_latent_epoch1'"
      ]
     },
     "execution_count": 1,
     "metadata": {},
     "output_type": "execute_result"
    }
   ],
   "source": [
    "run_python_script = False\n",
    "model_name = \"Lay2_dis_1step_latent_epoch1\""
   ]
  },
  {
   "cell_type": "code",
   "execution_count": 2,
   "id": "dc0c4737-aff1-41f8-a4ca-9c9659dd7512",
   "metadata": {
    "execution": {
     "iopub.execute_input": "2023-05-21T03:09:19.671145Z",
     "iopub.status.busy": "2023-05-21T03:09:19.670908Z",
     "iopub.status.idle": "2023-05-21T03:09:20.461365Z",
     "shell.execute_reply": "2023-05-21T03:09:20.459990Z",
     "shell.execute_reply.started": "2023-05-21T03:09:19.671124Z"
    },
    "tags": []
   },
   "outputs": [],
   "source": [
    "import sys\n",
    "sys.path.append(\"../mypkg\")\n",
    "from constants import RES_ROOT, FIG_ROOT, DATA_ROOT, MODEL_ROOT"
   ]
  },
  {
   "cell_type": "code",
   "execution_count": 3,
   "id": "fd0b2ec3-922a-40d5-ad69-4701aa9ad1fa",
   "metadata": {
    "execution": {
     "iopub.execute_input": "2023-05-21T03:09:20.463961Z",
     "iopub.status.busy": "2023-05-21T03:09:20.462969Z",
     "iopub.status.idle": "2023-05-21T03:09:24.601700Z",
     "shell.execute_reply": "2023-05-21T03:09:24.600516Z",
     "shell.execute_reply.started": "2023-05-21T03:09:20.463913Z"
    },
    "tags": []
   },
   "outputs": [],
   "source": [
    "import numpy as np\n",
    "import scipy\n",
    "import matplotlib.pyplot as plt\n",
    "import seaborn as sns\n",
    "from easydict import EasyDict as edict\n",
    "import time\n",
    "\n",
    "if not run_python_script:\n",
    "    plt.style.use(FIG_ROOT/\"base.mplstyle\")"
   ]
  },
  {
   "cell_type": "code",
   "execution_count": 4,
   "id": "612a1577-8d0c-4c34-991f-aecadd00c783",
   "metadata": {
    "execution": {
     "iopub.execute_input": "2023-05-21T03:09:24.612938Z",
     "iopub.status.busy": "2023-05-21T03:09:24.612090Z",
     "iopub.status.idle": "2023-05-21T03:09:38.912951Z",
     "shell.execute_reply": "2023-05-21T03:09:38.911658Z",
     "shell.execute_reply.started": "2023-05-21T03:09:24.612892Z"
    },
    "tags": []
   },
   "outputs": [
    {
     "data": {
      "text/plain": [
       "<module 'data_utils.eeg_load' from '/data/rajlab1/user_data/jin/MyResearch/gTVDN-NN/notebooks/../mypkg/data_utils/eeg_load.py'>"
      ]
     },
     "execution_count": 4,
     "metadata": {},
     "output_type": "execute_result"
    }
   ],
   "source": [
    "import importlib\n",
    "import data_utils.eeg_load\n",
    "importlib.reload(data_utils.eeg_load)"
   ]
  },
  {
   "cell_type": "code",
   "execution_count": 5,
   "id": "28bb4761-e50b-419d-bb0b-04644775f0ac",
   "metadata": {
    "execution": {
     "iopub.execute_input": "2023-05-21T03:09:38.915291Z",
     "iopub.status.busy": "2023-05-21T03:09:38.914571Z",
     "iopub.status.idle": "2023-05-21T03:09:39.018735Z",
     "shell.execute_reply": "2023-05-21T03:09:39.017524Z",
     "shell.execute_reply.started": "2023-05-21T03:09:38.915242Z"
    },
    "tags": []
   },
   "outputs": [
    {
     "data": {
      "text/plain": [
       "<module 'models.my_main_model_dis_latent' from '/data/rajlab1/user_data/jin/MyResearch/gTVDN-NN/notebooks/../mypkg/models/my_main_model_dis_latent.py'>"
      ]
     },
     "execution_count": 5,
     "metadata": {},
     "output_type": "execute_result"
    }
   ],
   "source": [
    "import models.my_main_model_dis_latent\n",
    "importlib.reload(models.my_main_model_dis_latent)"
   ]
  },
  {
   "cell_type": "code",
   "execution_count": 6,
   "id": "870bf723-ebfa-4975-adad-53279ce21e0e",
   "metadata": {
    "execution": {
     "iopub.execute_input": "2023-05-21T03:09:39.021287Z",
     "iopub.status.busy": "2023-05-21T03:09:39.020294Z",
     "iopub.status.idle": "2023-05-21T03:09:39.048940Z",
     "shell.execute_reply": "2023-05-21T03:09:39.047714Z",
     "shell.execute_reply.started": "2023-05-21T03:09:39.021240Z"
    },
    "tags": [
     "mypkg"
    ]
   },
   "outputs": [],
   "source": [
    "from models.my_main_model_dis_latent import myNet\n",
    "from models.losses import ordinal_mse_loss, my_nllloss\n",
    "from models.model_utils import generate_position_encode, load_model_class, snorm_cdf\n",
    "from data_utils.eeg_load import EEG_data, MyDataLoader, digitize_data\n",
    "from utils.misc import delta_time, load_pkl_folder2dict, save_pkl_dict2folder, truncated_mean_upper"
   ]
  },
  {
   "cell_type": "code",
   "execution_count": 7,
   "id": "1c0dd819-8b02-4c78-b283-633dd643a7a7",
   "metadata": {
    "execution": {
     "iopub.execute_input": "2023-05-21T03:09:39.051157Z",
     "iopub.status.busy": "2023-05-21T03:09:39.050390Z",
     "iopub.status.idle": "2023-05-21T03:09:39.059491Z",
     "shell.execute_reply": "2023-05-21T03:09:39.058266Z",
     "shell.execute_reply.started": "2023-05-21T03:09:39.051113Z"
    },
    "tags": []
   },
   "outputs": [],
   "source": [
    "# pkgs for pytorch (on Apr 3, 2023)\n",
    "import torch\n",
    "import torch.nn as nn\n",
    "from torch.functional import F\n",
    "from torch.optim.lr_scheduler import ExponentialLR\n",
    "from torch.utils.data import DataLoader\n",
    "\n",
    "torch.set_default_dtype(torch.float64)\n",
    "if torch.cuda.is_available():\n",
    "    torch.set_default_tensor_type(torch.cuda.DoubleTensor)\n",
    "    torch.backends.cudnn.benchmark = True\n",
    "    device = torch.device(\"cuda\")\n",
    "else:\n",
    "    torch.set_default_tensor_type(torch.DoubleTensor)\n",
    "    device = torch.device(\"cpu\")"
   ]
  },
  {
   "cell_type": "code",
   "execution_count": null,
   "id": "ee8a8444-1c37-4323-b1d9-bc033dcc584e",
   "metadata": {},
   "outputs": [],
   "source": []
  },
  {
   "cell_type": "markdown",
   "id": "6e86c794-a9ec-4239-8a21-e0369672fa9a",
   "metadata": {},
   "source": [
    "# training"
   ]
  },
  {
   "cell_type": "code",
   "execution_count": 8,
   "id": "01a6636d-568d-4c69-a777-2cf29c030332",
   "metadata": {
    "execution": {
     "iopub.execute_input": "2023-05-21T03:09:43.177463Z",
     "iopub.status.busy": "2023-05-21T03:09:43.176914Z",
     "iopub.status.idle": "2023-05-21T03:09:43.185800Z",
     "shell.execute_reply": "2023-05-21T03:09:43.184768Z",
     "shell.execute_reply.started": "2023-05-21T03:09:43.177418Z"
    },
    "tags": []
   },
   "outputs": [],
   "source": [
    "def trans_batch(batch, is_std=False):\n",
    "    \"\"\"transform the batch to make it easy for training\n",
    "    \"\"\"\n",
    "    X, Y = batch[:, :-config.move_step], batch[:, config.move_step:]\n",
    "    if is_std:\n",
    "        Xstd = X.std(axis=(1, 2), keepdims=True)\n",
    "        X = X/Xstd\n",
    "    if is_std:\n",
    "        return X, Y, Xstd\n",
    "    else:\n",
    "        return X, Y"
   ]
  },
  {
   "cell_type": "code",
   "execution_count": 9,
   "id": "44d38d87-d50a-45e9-97ff-c2cde38024ea",
   "metadata": {
    "execution": {
     "iopub.execute_input": "2023-05-21T03:09:43.852406Z",
     "iopub.status.busy": "2023-05-21T03:09:43.851477Z",
     "iopub.status.idle": "2023-05-21T03:09:43.862761Z",
     "shell.execute_reply": "2023-05-21T03:09:43.861528Z",
     "shell.execute_reply.started": "2023-05-21T03:09:43.852360Z"
    },
    "tags": []
   },
   "outputs": [],
   "source": [
    "paras = edict()\n",
    "paras.nroi = 19\n",
    "\n",
    "config = edict()\n",
    "config.nfeature = paras.nroi # the dim of features at each time point\n",
    "config.ndim = 256 # the output of the first FC layer\n",
    "config.dropout = 0.5 # the dropout rate\n",
    "config.n_layer = 2 # the number of self-attention layers\n",
    "config.n_head = 8 # numher of heads for multi-head attention\n",
    "config.is_mask = True # Use mask to make the attention causal\n",
    "config.is_bias = True # Bias  for layernorm\n",
    "config.block_size = 256 # the preset length of seq, \n",
    "config.batch_size = 1 # the batch size\n",
    "config.move_step = 90 * 2 # from X_t to predict X_t+move_step\n",
    "config.fs = 90\n",
    "config.k = 8 # discretize to 2^k levels\n",
    "config.target_dim = paras.nroi ** 2  # the target dim \n",
    "\n",
    "paras_train = edict()\n",
    "paras_train.nepoch= 2\n",
    "paras_train.loss_out = 10\n",
    "paras_train.clip = 1 # \n",
    "paras_train.lr_step = 300\n",
    "paras_train.test_loss_out = 50"
   ]
  },
  {
   "cell_type": "code",
   "execution_count": 10,
   "id": "32453bd4-d9d9-4b3d-85bc-4b132e7e8a93",
   "metadata": {
    "execution": {
     "iopub.execute_input": "2023-05-21T03:09:44.532021Z",
     "iopub.status.busy": "2023-05-21T03:09:44.531506Z",
     "iopub.status.idle": "2023-05-21T03:09:44.720685Z",
     "shell.execute_reply": "2023-05-21T03:09:44.720246Z",
     "shell.execute_reply.started": "2023-05-21T03:09:44.531978Z"
    },
    "tags": []
   },
   "outputs": [
    {
     "name": "stdout",
     "output_type": "stream",
     "text": [
      "545639 11490\n"
     ]
    }
   ],
   "source": [
    "train_data = EEG_data(\"train_train_health\", \"AR\", \n",
    "                      move_dict=dict(winsize=config.block_size,\n",
    "                                     stepsize=config.block_size,\n",
    "                                     marginsize=None),\n",
    "                      preprocess_dict=dict(is_detrend=True, \n",
    "                                      is_drop=True,\n",
    "                                      target_fs=90, \n",
    "                                      filter_limit=[1, 45], \n",
    "                                      is_diff=False), \n",
    "                      scale_fct=None\n",
    "                     )\n",
    "test_data = EEG_data(\"train_test_health\", \"AR\", \n",
    "                      move_dict=dict(winsize=config.block_size,\n",
    "                                     stepsize=config.block_size,\n",
    "                                     marginsize=None),\n",
    "                      preprocess_dict=dict(is_detrend=True, \n",
    "                                      is_drop=True,\n",
    "                                      target_fs=90, \n",
    "                                      filter_limit=[1, 45], \n",
    "                                      is_diff=False), \n",
    "                      scale_fct=None\n",
    "                    )\n",
    "\n",
    "train_data_loader = MyDataLoader(train_data, batch_size=config.batch_size, shuffle=True)\n",
    "test_data_loader = MyDataLoader(test_data, batch_size=4, shuffle=False)\n",
    "print(len(train_data_loader), len(test_data_loader))"
   ]
  },
  {
   "cell_type": "code",
   "execution_count": 11,
   "id": "48de9651-ae0e-46f8-b5f7-8e117b981a6a",
   "metadata": {
    "execution": {
     "iopub.execute_input": "2023-05-21T03:09:51.445894Z",
     "iopub.status.busy": "2023-05-21T03:09:51.445299Z",
     "iopub.status.idle": "2023-05-21T03:09:52.101323Z",
     "shell.execute_reply": "2023-05-21T03:09:52.100766Z",
     "shell.execute_reply.started": "2023-05-21T03:09:51.445845Z"
    },
    "tags": []
   },
   "outputs": [
    {
     "name": "stdout",
     "output_type": "stream",
     "text": [
      "number of parameters: 1.69M\n"
     ]
    }
   ],
   "source": [
    "data = train_data[10]\n",
    "data_dis = digitize_data(data, config.k);\n",
    "data = torch.tensor(data[None]).double();\n",
    "data_dis = torch.tensor(data_dis[None]);\n",
    "\n",
    "net = myNet(config);\n",
    "output = net(data, data);"
   ]
  },
  {
   "cell_type": "code",
   "execution_count": 36,
   "id": "cc02885e-3ff7-4473-8845-c62dbad97b2b",
   "metadata": {
    "execution": {
     "iopub.execute_input": "2023-05-19T22:49:42.305250Z",
     "iopub.status.busy": "2023-05-19T22:49:42.304614Z",
     "iopub.status.idle": "2023-05-19T22:49:42.328011Z",
     "shell.execute_reply": "2023-05-19T22:49:42.326894Z",
     "shell.execute_reply.started": "2023-05-19T22:49:42.305200Z"
    },
    "tags": []
   },
   "outputs": [
    {
     "data": {
      "text/plain": [
       "<All keys matched successfully>"
      ]
     },
     "execution_count": 36,
     "metadata": {},
     "output_type": "execute_result"
    }
   ],
   "source": []
  },
  {
   "cell_type": "code",
   "execution_count": null,
   "id": "2eccd38d-c32a-4b5f-9934-fe6b1d96e460",
   "metadata": {},
   "outputs": [],
   "source": []
  }
 ],
 "metadata": {
  "kernelspec": {
   "display_name": "Python 3 (ipykernel)",
   "language": "python",
   "name": "python3"
  },
  "language_info": {
   "codemirror_mode": {
    "name": "ipython",
    "version": 3
   },
   "file_extension": ".py",
   "mimetype": "text/x-python",
   "name": "python",
   "nbconvert_exporter": "python",
   "pygments_lexer": "ipython3",
   "version": "3.9.7"
  },
  "toc-autonumbering": false,
  "toc-showmarkdowntxt": false,
  "toc-showtags": true
 },
 "nbformat": 4,
 "nbformat_minor": 5
}
