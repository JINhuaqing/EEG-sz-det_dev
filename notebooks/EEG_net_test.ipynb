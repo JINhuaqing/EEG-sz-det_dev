{
 "cells": [
  {
   "cell_type": "markdown",
   "id": "65afc5c6-4f4d-4c8d-b6fc-2d5bd3dbd2fa",
   "metadata": {},
   "source": [
    "This file is to test my model on the TUH-EEG-seizure data"
   ]
  },
  {
   "cell_type": "code",
   "execution_count": 1,
   "id": "145684f6-e426-480d-bad6-dd7d86f3b54b",
   "metadata": {
    "execution": {
     "iopub.execute_input": "2023-04-07T18:31:51.900702Z",
     "iopub.status.busy": "2023-04-07T18:31:51.898631Z",
     "iopub.status.idle": "2023-04-07T18:31:51.915381Z",
     "shell.execute_reply": "2023-04-07T18:31:51.912391Z",
     "shell.execute_reply.started": "2023-04-07T18:31:51.900648Z"
    },
    "tags": []
   },
   "outputs": [],
   "source": [
    "run_python_script = False"
   ]
  },
  {
   "cell_type": "code",
   "execution_count": 2,
   "id": "dc0c4737-aff1-41f8-a4ca-9c9659dd7512",
   "metadata": {
    "execution": {
     "iopub.execute_input": "2023-04-07T18:31:51.918569Z",
     "iopub.status.busy": "2023-04-07T18:31:51.917633Z",
     "iopub.status.idle": "2023-04-07T18:31:52.079984Z",
     "shell.execute_reply": "2023-04-07T18:31:52.079455Z",
     "shell.execute_reply.started": "2023-04-07T18:31:51.918519Z"
    },
    "tags": []
   },
   "outputs": [],
   "source": [
    "import sys\n",
    "sys.path.append(\"../mypkg\")\n",
    "from constants import RES_ROOT, FIG_ROOT, DATA_ROOT"
   ]
  },
  {
   "cell_type": "code",
   "execution_count": 3,
   "id": "fd0b2ec3-922a-40d5-ad69-4701aa9ad1fa",
   "metadata": {
    "execution": {
     "iopub.execute_input": "2023-04-07T18:31:52.081424Z",
     "iopub.status.busy": "2023-04-07T18:31:52.081084Z",
     "iopub.status.idle": "2023-04-07T18:31:52.852934Z",
     "shell.execute_reply": "2023-04-07T18:31:52.851912Z",
     "shell.execute_reply.started": "2023-04-07T18:31:52.081407Z"
    },
    "tags": []
   },
   "outputs": [],
   "source": [
    "import numpy as np\n",
    "import scipy\n",
    "import matplotlib.pyplot as plt\n",
    "import seaborn as sns\n",
    "from easydict import EasyDict as edict\n",
    "import time\n",
    "\n",
    "if not run_python_script:\n",
    "    plt.style.use(FIG_ROOT/\"base.mplstyle\")\n",
    "    %matplotlib inline"
   ]
  },
  {
   "cell_type": "code",
   "execution_count": 4,
   "id": "612a1577-8d0c-4c34-991f-aecadd00c783",
   "metadata": {
    "execution": {
     "iopub.execute_input": "2023-04-07T18:31:54.996268Z",
     "iopub.status.busy": "2023-04-07T18:31:54.995539Z",
     "iopub.status.idle": "2023-04-07T18:31:59.922135Z",
     "shell.execute_reply": "2023-04-07T18:31:59.920828Z",
     "shell.execute_reply.started": "2023-04-07T18:31:54.996217Z"
    },
    "tags": []
   },
   "outputs": [
    {
     "data": {
      "text/plain": [
       "<module 'data_utils.eeg_load' from '/data/rajlab1/user_data/jin/MyResearch/gTVDN-NN/notebooks/../mypkg/data_utils/eeg_load.py'>"
      ]
     },
     "execution_count": 4,
     "metadata": {},
     "output_type": "execute_result"
    }
   ],
   "source": [
    "import importlib\n",
    "import data_utils.eeg_load\n",
    "importlib.reload(data_utils.eeg_load)"
   ]
  },
  {
   "cell_type": "code",
   "execution_count": 5,
   "id": "870bf723-ebfa-4975-adad-53279ce21e0e",
   "metadata": {
    "execution": {
     "iopub.execute_input": "2023-04-07T18:31:59.925180Z",
     "iopub.status.busy": "2023-04-07T18:31:59.924315Z",
     "iopub.status.idle": "2023-04-07T18:31:59.939242Z",
     "shell.execute_reply": "2023-04-07T18:31:59.938193Z",
     "shell.execute_reply.started": "2023-04-07T18:31:59.925130Z"
    },
    "tags": [
     "mypkg"
    ]
   },
   "outputs": [],
   "source": [
    "from models.main_model import myNet\n",
    "from data_utils.eeg_load import EEG_data\n",
    "from utils.misc import delta_time, load_pkl_folder2dict, save_pkl_dict2folder"
   ]
  },
  {
   "cell_type": "code",
   "execution_count": 6,
   "id": "1c0dd819-8b02-4c78-b283-633dd643a7a7",
   "metadata": {
    "execution": {
     "iopub.execute_input": "2023-04-07T18:31:59.941329Z",
     "iopub.status.busy": "2023-04-07T18:31:59.940712Z",
     "iopub.status.idle": "2023-04-07T18:31:59.968057Z",
     "shell.execute_reply": "2023-04-07T18:31:59.966820Z",
     "shell.execute_reply.started": "2023-04-07T18:31:59.941285Z"
    },
    "tags": []
   },
   "outputs": [],
   "source": [
    "# pkgs for pytorch (on Apr 3, 2023)\n",
    "import torch\n",
    "import torch.nn as nn\n",
    "from torch.functional import F\n",
    "from torch.optim.lr_scheduler import ExponentialLR\n",
    "\n",
    "torch.set_default_dtype(torch.float64)\n",
    "if torch.cuda.is_available():\n",
    "    torch.cuda.set_device(2)\n",
    "    torch.set_default_tensor_type(torch.cuda.DoubleTensor)\n",
    "    torch.backends.cudnn.benchmark = True\n",
    "    device = torch.device(\"cuda\")\n",
    "else:\n",
    "    torch.set_default_tensor_type(torch.DoubleTensor)\n",
    "    device = torch.device(\"cpu\")"
   ]
  },
  {
   "cell_type": "code",
   "execution_count": null,
   "id": "ee8a8444-1c37-4323-b1d9-bc033dcc584e",
   "metadata": {},
   "outputs": [],
   "source": []
  },
  {
   "cell_type": "markdown",
   "id": "6e86c794-a9ec-4239-8a21-e0369672fa9a",
   "metadata": {},
   "source": [
    "# training"
   ]
  },
  {
   "cell_type": "code",
   "execution_count": 12,
   "id": "ded80283-4710-4e1b-a29e-e2d90c600984",
   "metadata": {
    "execution": {
     "iopub.execute_input": "2023-04-04T22:13:20.726282Z",
     "iopub.status.busy": "2023-04-04T22:13:20.726057Z",
     "iopub.status.idle": "2023-04-04T22:13:20.753512Z",
     "shell.execute_reply": "2023-04-04T22:13:20.752638Z",
     "shell.execute_reply.started": "2023-04-04T22:13:20.726263Z"
    },
    "tags": [
     "fns"
    ]
   },
   "outputs": [],
   "source": [
    "def generate_position_encode(block_size, nfeature):\n",
    "    # create a matrix with shape (blocksize, nfeature)\n",
    "    position = torch.arange(block_size, dtype=torch.float).unsqueeze(1)\n",
    "    div_term = torch.exp(torch.arange(0, nfeature, 2).float() * (-np.log(10000.0) / nfeature))\n",
    "    # apply sine to even indices in the array\n",
    "    pos_enc = torch.zeros((block_size, nfeature))\n",
    "    pos_enc[:, 0::2] = torch.sin(position * div_term)\n",
    "    # apply cosine to odd indices in the array\n",
    "    pos_enc[:, 1::2] = torch.cos(position * div_term)\n",
    "    return pos_enc"
   ]
  },
  {
   "cell_type": "code",
   "execution_count": 16,
   "id": "01a6636d-568d-4c69-a777-2cf29c030332",
   "metadata": {
    "execution": {
     "iopub.execute_input": "2023-04-04T22:14:46.598020Z",
     "iopub.status.busy": "2023-04-04T22:14:46.597381Z",
     "iopub.status.idle": "2023-04-04T22:14:46.608123Z",
     "shell.execute_reply": "2023-04-04T22:14:46.606901Z",
     "shell.execute_reply.started": "2023-04-04T22:14:46.597972Z"
    },
    "tags": []
   },
   "outputs": [],
   "source": [
    "def out2pred(net_out, X):\n",
    "    A_mats = net_out.reshape(config.batch_size, config.block_size, paras.nroi, -1)\n",
    "    Y_pred = (A_mats @ X.unsqueeze(-1)).squeeze()\n",
    "    return Y_pred\n",
    "\n",
    "def evaluate(net):\n",
    "    X_test, Y_test = get_batch(test_data, \n",
    "                     batch_size=config.batch_size,  \n",
    "                     block_size=config.block_size)\n",
    "    X_test = X_test + pos_enc\n",
    "    net.eval()\n",
    "    net_out = net(X_test)\n",
    "    Y_pred = out2pred(net_out, X_test)\n",
    "    loss = loss_fn(Y_test, Y_pred)\n",
    "    net.train()\n",
    "    return loss.item()"
   ]
  },
  {
   "cell_type": "code",
   "execution_count": 7,
   "id": "44d38d87-d50a-45e9-97ff-c2cde38024ea",
   "metadata": {
    "execution": {
     "iopub.execute_input": "2023-04-07T18:32:02.604391Z",
     "iopub.status.busy": "2023-04-07T18:32:02.603861Z",
     "iopub.status.idle": "2023-04-07T18:32:02.614247Z",
     "shell.execute_reply": "2023-04-07T18:32:02.613162Z",
     "shell.execute_reply.started": "2023-04-07T18:32:02.604345Z"
    },
    "tags": []
   },
   "outputs": [],
   "source": [
    "paras = edict()\n",
    "paras.nroi = 19\n",
    "\n",
    "config = edict()\n",
    "config.nfeature = paras.nroi # the dim of features at each time point\n",
    "config.ndim = 256 # the output of the first FC layer\n",
    "config.target_dim = paras.nroi * paras.nroi # the target dim \n",
    "config.dropout = 0.5 # the dropout rate\n",
    "config.n_layer = 1 # the number of self-attention layers\n",
    "config.n_head = 8 # numher of heads for multi-head attention\n",
    "config.is_mask = True # Use mask to make the attention causal\n",
    "config.is_bias = True # Bias  for layernorm\n",
    "config.block_size = 256 # the preset length of seq, \n",
    "config.batch_size = 32 # the batch size\n",
    "\n",
    "paras_train = edict()\n",
    "paras_train.niter = 500\n",
    "paras_train.loss_out = 10\n",
    "paras_train.clip = 1 # \n",
    "paras_train.lr_step = 200"
   ]
  },
  {
   "cell_type": "code",
   "execution_count": 61,
   "id": "32453bd4-d9d9-4b3d-85bc-4b132e7e8a93",
   "metadata": {
    "execution": {
     "iopub.execute_input": "2023-04-07T19:00:52.943378Z",
     "iopub.status.busy": "2023-04-07T19:00:52.942773Z",
     "iopub.status.idle": "2023-04-07T19:00:52.996220Z",
     "shell.execute_reply": "2023-04-07T19:00:52.995116Z",
     "shell.execute_reply.started": "2023-04-07T19:00:52.943328Z"
    },
    "tags": []
   },
   "outputs": [],
   "source": [
    "train_data = EEG_data(\"train\", \"AR\", \n",
    "                      move_dict=dict(winsize=config.block_size+1, stepsize=128, paddingsize=None),\n",
    "                      preprocess_dict=dict(is_detrend=True, \n",
    "                                      is_drop=True,\n",
    "                                      target_fs=None, \n",
    "                                      filter_limit=[2, 25],\n",
    "                                      is_diff=False)\n",
    "                     )\n",
    "test_data = EEG_data(\"eval\", \"AR\", \n",
    "                      move_dict=dict(winsize=config.block_size+1, stepsize=128, paddingsize=None)\n",
    "                    )"
   ]
  },
  {
   "cell_type": "code",
   "execution_count": 62,
   "id": "97b4f59b-7544-465a-9cf5-68091ecc2198",
   "metadata": {
    "execution": {
     "iopub.execute_input": "2023-04-07T19:00:53.511013Z",
     "iopub.status.busy": "2023-04-07T19:00:53.510466Z",
     "iopub.status.idle": "2023-04-07T19:00:53.522151Z",
     "shell.execute_reply": "2023-04-07T19:00:53.520945Z",
     "shell.execute_reply.started": "2023-04-07T19:00:53.510965Z"
    },
    "tags": [
     "fns"
    ]
   },
   "outputs": [],
   "source": [
    "def get_batch(dataset, batch_size, block_size):\n",
    "    sub_ix = torch.randint(len(dataset), (1, ))\n",
    "    ix = torch.randint(len(dataset[sub_ix]) - block_size, (batch_size,))\n",
    "    x = torch.stack([torch.from_numpy((dataset[sub_ix, i:i+block_size])) for i in ix])\n",
    "    y = torch.stack([torch.from_numpy((dataset[sub_ix, i+1:i+1+block_size])) for i in ix])\n",
    "    if device.type == 'cuda':\n",
    "        # pin arrays x,y, which allows us to move them to GPU asynchronously (non_blocking=True)\n",
    "        x, y = x.pin_memory().to(device, non_blocking=True), y.pin_memory().to(device, non_blocking=True)\n",
    "    else:\n",
    "        x, y = x.to(device), y.to(device)\n",
    "    return x.double(), y.double()"
   ]
  },
  {
   "cell_type": "code",
   "execution_count": 73,
   "id": "6a4a0179-1769-497b-979f-521abdd836e1",
   "metadata": {
    "execution": {
     "iopub.execute_input": "2023-04-07T19:04:50.786348Z",
     "iopub.status.busy": "2023-04-07T19:04:50.785760Z",
     "iopub.status.idle": "2023-04-07T19:06:14.424221Z",
     "shell.execute_reply": "2023-04-07T19:06:14.423686Z",
     "shell.execute_reply.started": "2023-04-07T19:04:50.786299Z"
    },
    "tags": []
   },
   "outputs": [],
   "source": [
    "batch_size = config.batch_size\n",
    "dataset = train_data\n",
    "sel_idxs = torch.randint(len(dataset), (batch_size, ))\n",
    "xys = [dataset[int(sel_idx)] for sel_idx in sel_idxs]"
   ]
  },
  {
   "cell_type": "code",
   "execution_count": 72,
   "id": "e1d2d87c-b86c-4857-9fec-a94011c96543",
   "metadata": {
    "execution": {
     "iopub.execute_input": "2023-04-07T19:04:46.411265Z",
     "iopub.status.busy": "2023-04-07T19:04:46.410706Z",
     "iopub.status.idle": "2023-04-07T19:04:46.889486Z",
     "shell.execute_reply": "2023-04-07T19:04:46.888874Z",
     "shell.execute_reply.started": "2023-04-07T19:04:46.411219Z"
    },
    "tags": []
   },
   "outputs": [
    {
     "data": {
      "text/plain": [
       "array([[ 1.75756623e-06, -1.89458291e-06, -4.90475671e-06, ...,\n",
       "         0.00000000e+00,  0.00000000e+00,  0.00000000e+00],\n",
       "       [-1.03998679e-05, -5.58748657e-06,  9.81805145e-08, ...,\n",
       "         0.00000000e+00,  0.00000000e+00,  0.00000000e+00],\n",
       "       [ 6.30897556e-06,  5.99319304e-06,  5.16190938e-06, ...,\n",
       "         0.00000000e+00,  0.00000000e+00,  0.00000000e+00],\n",
       "       ...,\n",
       "       [-6.30702488e-06, -4.71400487e-06, -2.56049562e-06, ...,\n",
       "         0.00000000e+00,  0.00000000e+00,  0.00000000e+00],\n",
       "       [ 5.81996230e-06,  6.77181267e-06,  7.24634577e-06, ...,\n",
       "         0.00000000e+00,  0.00000000e+00,  0.00000000e+00],\n",
       "       [-5.74045870e-06, -3.22509534e-06, -8.93542587e-07, ...,\n",
       "         0.00000000e+00,  0.00000000e+00,  0.00000000e+00]])"
      ]
     },
     "execution_count": 72,
     "metadata": {},
     "output_type": "execute_result"
    }
   ],
   "source": [
    "sel_idx = int(sel_idxs[0])\n",
    "dataset[1284005]"
   ]
  },
  {
   "cell_type": "code",
   "execution_count": 34,
   "id": "d43c092d-c37f-4021-bb53-5946fd6faaeb",
   "metadata": {
    "execution": {
     "iopub.execute_input": "2023-04-07T18:55:32.399850Z",
     "iopub.status.busy": "2023-04-07T18:55:32.399217Z",
     "iopub.status.idle": "2023-04-07T18:55:32.408250Z",
     "shell.execute_reply": "2023-04-07T18:55:32.406876Z",
     "shell.execute_reply.started": "2023-04-07T18:55:32.399799Z"
    },
    "tags": []
   },
   "outputs": [
    {
     "data": {
      "text/plain": [
       "1569919"
      ]
     },
     "execution_count": 34,
     "metadata": {},
     "output_type": "execute_result"
    }
   ],
   "source": [
    "sel_idx"
   ]
  },
  {
   "cell_type": "code",
   "execution_count": 60,
   "id": "742fc5d8-8a60-410f-9e60-5048b0249788",
   "metadata": {
    "execution": {
     "iopub.execute_input": "2023-04-07T18:29:16.715906Z",
     "iopub.status.busy": "2023-04-07T18:29:16.715293Z",
     "iopub.status.idle": "2023-04-07T18:30:14.942008Z",
     "shell.execute_reply": "2023-04-07T18:30:14.940991Z",
     "shell.execute_reply.started": "2023-04-07T18:29:16.715859Z"
    },
    "tags": []
   },
   "outputs": [
    {
     "ename": "KeyboardInterrupt",
     "evalue": "",
     "output_type": "error",
     "traceback": [
      "\u001b[0;31m---------------------------------------------------------------------------\u001b[0m",
      "\u001b[0;31mKeyboardInterrupt\u001b[0m                         Traceback (most recent call last)",
      "\u001b[0;32m/tmp/ipykernel_13429/3278228135.py\u001b[0m in \u001b[0;36m<module>\u001b[0;34m\u001b[0m\n\u001b[0;32m----> 1\u001b[0;31m \u001b[0mget_ipython\u001b[0m\u001b[0;34m(\u001b[0m\u001b[0;34m)\u001b[0m\u001b[0;34m.\u001b[0m\u001b[0mrun_line_magic\u001b[0m\u001b[0;34m(\u001b[0m\u001b[0;34m'timeit'\u001b[0m\u001b[0;34m,\u001b[0m \u001b[0;34m'dataset[int(sel_idx)]'\u001b[0m\u001b[0;34m)\u001b[0m\u001b[0;34m\u001b[0m\u001b[0;34m\u001b[0m\u001b[0m\n\u001b[0m",
      "\u001b[0;32m/opt/conda/lib/python3.9/site-packages/IPython/core/interactiveshell.py\u001b[0m in \u001b[0;36mrun_line_magic\u001b[0;34m(self, magic_name, line, _stack_depth)\u001b[0m\n\u001b[1;32m   2349\u001b[0m                 \u001b[0mkwargs\u001b[0m\u001b[0;34m[\u001b[0m\u001b[0;34m'local_ns'\u001b[0m\u001b[0;34m]\u001b[0m \u001b[0;34m=\u001b[0m \u001b[0mself\u001b[0m\u001b[0;34m.\u001b[0m\u001b[0mget_local_scope\u001b[0m\u001b[0;34m(\u001b[0m\u001b[0mstack_depth\u001b[0m\u001b[0;34m)\u001b[0m\u001b[0;34m\u001b[0m\u001b[0;34m\u001b[0m\u001b[0m\n\u001b[1;32m   2350\u001b[0m             \u001b[0;32mwith\u001b[0m \u001b[0mself\u001b[0m\u001b[0;34m.\u001b[0m\u001b[0mbuiltin_trap\u001b[0m\u001b[0;34m:\u001b[0m\u001b[0;34m\u001b[0m\u001b[0;34m\u001b[0m\u001b[0m\n\u001b[0;32m-> 2351\u001b[0;31m                 \u001b[0mresult\u001b[0m \u001b[0;34m=\u001b[0m \u001b[0mfn\u001b[0m\u001b[0;34m(\u001b[0m\u001b[0;34m*\u001b[0m\u001b[0margs\u001b[0m\u001b[0;34m,\u001b[0m \u001b[0;34m**\u001b[0m\u001b[0mkwargs\u001b[0m\u001b[0;34m)\u001b[0m\u001b[0;34m\u001b[0m\u001b[0;34m\u001b[0m\u001b[0m\n\u001b[0m\u001b[1;32m   2352\u001b[0m             \u001b[0;32mreturn\u001b[0m \u001b[0mresult\u001b[0m\u001b[0;34m\u001b[0m\u001b[0;34m\u001b[0m\u001b[0m\n\u001b[1;32m   2353\u001b[0m \u001b[0;34m\u001b[0m\u001b[0m\n",
      "\u001b[0;32m/opt/conda/lib/python3.9/site-packages/decorator.py\u001b[0m in \u001b[0;36mfun\u001b[0;34m(*args, **kw)\u001b[0m\n\u001b[1;32m    230\u001b[0m             \u001b[0;32mif\u001b[0m \u001b[0;32mnot\u001b[0m \u001b[0mkwsyntax\u001b[0m\u001b[0;34m:\u001b[0m\u001b[0;34m\u001b[0m\u001b[0;34m\u001b[0m\u001b[0m\n\u001b[1;32m    231\u001b[0m                 \u001b[0margs\u001b[0m\u001b[0;34m,\u001b[0m \u001b[0mkw\u001b[0m \u001b[0;34m=\u001b[0m \u001b[0mfix\u001b[0m\u001b[0;34m(\u001b[0m\u001b[0margs\u001b[0m\u001b[0;34m,\u001b[0m \u001b[0mkw\u001b[0m\u001b[0;34m,\u001b[0m \u001b[0msig\u001b[0m\u001b[0;34m)\u001b[0m\u001b[0;34m\u001b[0m\u001b[0;34m\u001b[0m\u001b[0m\n\u001b[0;32m--> 232\u001b[0;31m             \u001b[0;32mreturn\u001b[0m \u001b[0mcaller\u001b[0m\u001b[0;34m(\u001b[0m\u001b[0mfunc\u001b[0m\u001b[0;34m,\u001b[0m \u001b[0;34m*\u001b[0m\u001b[0;34m(\u001b[0m\u001b[0mextras\u001b[0m \u001b[0;34m+\u001b[0m \u001b[0margs\u001b[0m\u001b[0;34m)\u001b[0m\u001b[0;34m,\u001b[0m \u001b[0;34m**\u001b[0m\u001b[0mkw\u001b[0m\u001b[0;34m)\u001b[0m\u001b[0;34m\u001b[0m\u001b[0;34m\u001b[0m\u001b[0m\n\u001b[0m\u001b[1;32m    233\u001b[0m     \u001b[0mfun\u001b[0m\u001b[0;34m.\u001b[0m\u001b[0m__name__\u001b[0m \u001b[0;34m=\u001b[0m \u001b[0mfunc\u001b[0m\u001b[0;34m.\u001b[0m\u001b[0m__name__\u001b[0m\u001b[0;34m\u001b[0m\u001b[0;34m\u001b[0m\u001b[0m\n\u001b[1;32m    234\u001b[0m     \u001b[0mfun\u001b[0m\u001b[0;34m.\u001b[0m\u001b[0m__doc__\u001b[0m \u001b[0;34m=\u001b[0m \u001b[0mfunc\u001b[0m\u001b[0;34m.\u001b[0m\u001b[0m__doc__\u001b[0m\u001b[0;34m\u001b[0m\u001b[0;34m\u001b[0m\u001b[0m\n",
      "\u001b[0;32m/opt/conda/lib/python3.9/site-packages/IPython/core/magic.py\u001b[0m in \u001b[0;36m<lambda>\u001b[0;34m(f, *a, **k)\u001b[0m\n\u001b[1;32m    185\u001b[0m     \u001b[0;31m# but it's overkill for just that one bit of state.\u001b[0m\u001b[0;34m\u001b[0m\u001b[0;34m\u001b[0m\u001b[0m\n\u001b[1;32m    186\u001b[0m     \u001b[0;32mdef\u001b[0m \u001b[0mmagic_deco\u001b[0m\u001b[0;34m(\u001b[0m\u001b[0marg\u001b[0m\u001b[0;34m)\u001b[0m\u001b[0;34m:\u001b[0m\u001b[0;34m\u001b[0m\u001b[0;34m\u001b[0m\u001b[0m\n\u001b[0;32m--> 187\u001b[0;31m         \u001b[0mcall\u001b[0m \u001b[0;34m=\u001b[0m \u001b[0;32mlambda\u001b[0m \u001b[0mf\u001b[0m\u001b[0;34m,\u001b[0m \u001b[0;34m*\u001b[0m\u001b[0ma\u001b[0m\u001b[0;34m,\u001b[0m \u001b[0;34m**\u001b[0m\u001b[0mk\u001b[0m\u001b[0;34m:\u001b[0m \u001b[0mf\u001b[0m\u001b[0;34m(\u001b[0m\u001b[0;34m*\u001b[0m\u001b[0ma\u001b[0m\u001b[0;34m,\u001b[0m \u001b[0;34m**\u001b[0m\u001b[0mk\u001b[0m\u001b[0;34m)\u001b[0m\u001b[0;34m\u001b[0m\u001b[0;34m\u001b[0m\u001b[0m\n\u001b[0m\u001b[1;32m    188\u001b[0m \u001b[0;34m\u001b[0m\u001b[0m\n\u001b[1;32m    189\u001b[0m         \u001b[0;32mif\u001b[0m \u001b[0mcallable\u001b[0m\u001b[0;34m(\u001b[0m\u001b[0marg\u001b[0m\u001b[0;34m)\u001b[0m\u001b[0;34m:\u001b[0m\u001b[0;34m\u001b[0m\u001b[0;34m\u001b[0m\u001b[0m\n",
      "\u001b[0;32m/opt/conda/lib/python3.9/site-packages/IPython/core/magics/execution.py\u001b[0m in \u001b[0;36mtimeit\u001b[0;34m(self, line, cell, local_ns)\u001b[0m\n\u001b[1;32m   1171\u001b[0m                     \u001b[0;32mbreak\u001b[0m\u001b[0;34m\u001b[0m\u001b[0;34m\u001b[0m\u001b[0m\n\u001b[1;32m   1172\u001b[0m \u001b[0;34m\u001b[0m\u001b[0m\n\u001b[0;32m-> 1173\u001b[0;31m         \u001b[0mall_runs\u001b[0m \u001b[0;34m=\u001b[0m \u001b[0mtimer\u001b[0m\u001b[0;34m.\u001b[0m\u001b[0mrepeat\u001b[0m\u001b[0;34m(\u001b[0m\u001b[0mrepeat\u001b[0m\u001b[0;34m,\u001b[0m \u001b[0mnumber\u001b[0m\u001b[0;34m)\u001b[0m\u001b[0;34m\u001b[0m\u001b[0;34m\u001b[0m\u001b[0m\n\u001b[0m\u001b[1;32m   1174\u001b[0m         \u001b[0mbest\u001b[0m \u001b[0;34m=\u001b[0m \u001b[0mmin\u001b[0m\u001b[0;34m(\u001b[0m\u001b[0mall_runs\u001b[0m\u001b[0;34m)\u001b[0m \u001b[0;34m/\u001b[0m \u001b[0mnumber\u001b[0m\u001b[0;34m\u001b[0m\u001b[0;34m\u001b[0m\u001b[0m\n\u001b[1;32m   1175\u001b[0m         \u001b[0mworst\u001b[0m \u001b[0;34m=\u001b[0m \u001b[0mmax\u001b[0m\u001b[0;34m(\u001b[0m\u001b[0mall_runs\u001b[0m\u001b[0;34m)\u001b[0m \u001b[0;34m/\u001b[0m \u001b[0mnumber\u001b[0m\u001b[0;34m\u001b[0m\u001b[0;34m\u001b[0m\u001b[0m\n",
      "\u001b[0;32m/opt/conda/lib/python3.9/timeit.py\u001b[0m in \u001b[0;36mrepeat\u001b[0;34m(self, repeat, number)\u001b[0m\n\u001b[1;32m    203\u001b[0m         \u001b[0mr\u001b[0m \u001b[0;34m=\u001b[0m \u001b[0;34m[\u001b[0m\u001b[0;34m]\u001b[0m\u001b[0;34m\u001b[0m\u001b[0;34m\u001b[0m\u001b[0m\n\u001b[1;32m    204\u001b[0m         \u001b[0;32mfor\u001b[0m \u001b[0mi\u001b[0m \u001b[0;32min\u001b[0m \u001b[0mrange\u001b[0m\u001b[0;34m(\u001b[0m\u001b[0mrepeat\u001b[0m\u001b[0;34m)\u001b[0m\u001b[0;34m:\u001b[0m\u001b[0;34m\u001b[0m\u001b[0;34m\u001b[0m\u001b[0m\n\u001b[0;32m--> 205\u001b[0;31m             \u001b[0mt\u001b[0m \u001b[0;34m=\u001b[0m \u001b[0mself\u001b[0m\u001b[0;34m.\u001b[0m\u001b[0mtimeit\u001b[0m\u001b[0;34m(\u001b[0m\u001b[0mnumber\u001b[0m\u001b[0;34m)\u001b[0m\u001b[0;34m\u001b[0m\u001b[0;34m\u001b[0m\u001b[0m\n\u001b[0m\u001b[1;32m    206\u001b[0m             \u001b[0mr\u001b[0m\u001b[0;34m.\u001b[0m\u001b[0mappend\u001b[0m\u001b[0;34m(\u001b[0m\u001b[0mt\u001b[0m\u001b[0;34m)\u001b[0m\u001b[0;34m\u001b[0m\u001b[0;34m\u001b[0m\u001b[0m\n\u001b[1;32m    207\u001b[0m         \u001b[0;32mreturn\u001b[0m \u001b[0mr\u001b[0m\u001b[0;34m\u001b[0m\u001b[0;34m\u001b[0m\u001b[0m\n",
      "\u001b[0;32m/opt/conda/lib/python3.9/site-packages/IPython/core/magics/execution.py\u001b[0m in \u001b[0;36mtimeit\u001b[0;34m(self, number)\u001b[0m\n\u001b[1;32m    167\u001b[0m         \u001b[0mgc\u001b[0m\u001b[0;34m.\u001b[0m\u001b[0mdisable\u001b[0m\u001b[0;34m(\u001b[0m\u001b[0;34m)\u001b[0m\u001b[0;34m\u001b[0m\u001b[0;34m\u001b[0m\u001b[0m\n\u001b[1;32m    168\u001b[0m         \u001b[0;32mtry\u001b[0m\u001b[0;34m:\u001b[0m\u001b[0;34m\u001b[0m\u001b[0;34m\u001b[0m\u001b[0m\n\u001b[0;32m--> 169\u001b[0;31m             \u001b[0mtiming\u001b[0m \u001b[0;34m=\u001b[0m \u001b[0mself\u001b[0m\u001b[0;34m.\u001b[0m\u001b[0minner\u001b[0m\u001b[0;34m(\u001b[0m\u001b[0mit\u001b[0m\u001b[0;34m,\u001b[0m \u001b[0mself\u001b[0m\u001b[0;34m.\u001b[0m\u001b[0mtimer\u001b[0m\u001b[0;34m)\u001b[0m\u001b[0;34m\u001b[0m\u001b[0;34m\u001b[0m\u001b[0m\n\u001b[0m\u001b[1;32m    170\u001b[0m         \u001b[0;32mfinally\u001b[0m\u001b[0;34m:\u001b[0m\u001b[0;34m\u001b[0m\u001b[0;34m\u001b[0m\u001b[0m\n\u001b[1;32m    171\u001b[0m             \u001b[0;32mif\u001b[0m \u001b[0mgcold\u001b[0m\u001b[0;34m:\u001b[0m\u001b[0;34m\u001b[0m\u001b[0;34m\u001b[0m\u001b[0m\n",
      "\u001b[0;32m<magic-timeit>\u001b[0m in \u001b[0;36minner\u001b[0;34m(_it, _timer)\u001b[0m\n",
      "\u001b[0;32m/data/rajlab1/user_data/jin/MyResearch/gTVDN-NN/notebooks/../mypkg/data_utils/eeg_load.py\u001b[0m in \u001b[0;36m__getitem__\u001b[0;34m(self, idx)\u001b[0m\n\u001b[1;32m    175\u001b[0m             \u001b[0mdata\u001b[0m\u001b[0;34m.\u001b[0m\u001b[0mapply_function\u001b[0m\u001b[0;34m(\u001b[0m\u001b[0mmne\u001b[0m\u001b[0;34m.\u001b[0m\u001b[0mepochs\u001b[0m\u001b[0;34m.\u001b[0m\u001b[0mdetrend\u001b[0m\u001b[0;34m,\u001b[0m \u001b[0mverbose\u001b[0m\u001b[0;34m=\u001b[0m\u001b[0;32mFalse\u001b[0m\u001b[0;34m)\u001b[0m\u001b[0;34m\u001b[0m\u001b[0;34m\u001b[0m\u001b[0m\n\u001b[1;32m    176\u001b[0m         \u001b[0;32mif\u001b[0m \u001b[0mself\u001b[0m\u001b[0;34m.\u001b[0m\u001b[0mpreprocess_dict\u001b[0m\u001b[0;34m.\u001b[0m\u001b[0mtarget_fs\u001b[0m \u001b[0;34m<\u001b[0m \u001b[0;36m250\u001b[0m\u001b[0;34m:\u001b[0m\u001b[0;34m\u001b[0m\u001b[0;34m\u001b[0m\u001b[0m\n\u001b[0;32m--> 177\u001b[0;31m             \u001b[0mdata\u001b[0m\u001b[0;34m.\u001b[0m\u001b[0mresample\u001b[0m\u001b[0;34m(\u001b[0m\u001b[0mself\u001b[0m\u001b[0;34m.\u001b[0m\u001b[0mpreprocess_dict\u001b[0m\u001b[0;34m.\u001b[0m\u001b[0mtarget_fs\u001b[0m\u001b[0;34m,\u001b[0m \u001b[0mverbose\u001b[0m\u001b[0;34m=\u001b[0m\u001b[0;32mFalse\u001b[0m\u001b[0;34m)\u001b[0m\u001b[0;34m\u001b[0m\u001b[0;34m\u001b[0m\u001b[0m\n\u001b[0m\u001b[1;32m    178\u001b[0m         \u001b[0;32mif\u001b[0m \u001b[0mself\u001b[0m\u001b[0;34m.\u001b[0m\u001b[0mpreprocess_dict\u001b[0m\u001b[0;34m.\u001b[0m\u001b[0mfilter_limit\u001b[0m \u001b[0;32mis\u001b[0m \u001b[0;32mnot\u001b[0m \u001b[0;32mNone\u001b[0m\u001b[0;34m:\u001b[0m\u001b[0;34m\u001b[0m\u001b[0;34m\u001b[0m\u001b[0m\n\u001b[1;32m    179\u001b[0m             data.filter(\n",
      "\u001b[0;32m<decorator-gen-215>\u001b[0m in \u001b[0;36mresample\u001b[0;34m(self, sfreq, npad, window, stim_picks, n_jobs, events, pad, verbose)\u001b[0m\n",
      "\u001b[0;32m~/.local/lib/python3.9/site-packages/mne/io/base.py\u001b[0m in \u001b[0;36mresample\u001b[0;34m(self, sfreq, npad, window, stim_picks, n_jobs, events, pad, verbose)\u001b[0m\n\u001b[1;32m   1169\u001b[0m             \u001b[0;32mif\u001b[0m \u001b[0mself\u001b[0m\u001b[0;34m.\u001b[0m\u001b[0mpreload\u001b[0m\u001b[0;34m:\u001b[0m\u001b[0;34m\u001b[0m\u001b[0;34m\u001b[0m\u001b[0m\n\u001b[1;32m   1170\u001b[0m                 \u001b[0mdata_chunk\u001b[0m \u001b[0;34m=\u001b[0m \u001b[0mself\u001b[0m\u001b[0;34m.\u001b[0m\u001b[0m_data\u001b[0m\u001b[0;34m[\u001b[0m\u001b[0;34m:\u001b[0m\u001b[0;34m,\u001b[0m \u001b[0moffsets\u001b[0m\u001b[0;34m[\u001b[0m\u001b[0mri\u001b[0m\u001b[0;34m]\u001b[0m\u001b[0;34m:\u001b[0m\u001b[0moffsets\u001b[0m\u001b[0;34m[\u001b[0m\u001b[0mri\u001b[0m \u001b[0;34m+\u001b[0m \u001b[0;36m1\u001b[0m\u001b[0;34m]\u001b[0m\u001b[0;34m]\u001b[0m\u001b[0;34m\u001b[0m\u001b[0;34m\u001b[0m\u001b[0m\n\u001b[0;32m-> 1171\u001b[0;31m                 \u001b[0mnew_data\u001b[0m\u001b[0;34m[\u001b[0m\u001b[0;34m:\u001b[0m\u001b[0;34m,\u001b[0m \u001b[0mthis_sl\u001b[0m\u001b[0;34m]\u001b[0m \u001b[0;34m=\u001b[0m \u001b[0mresample\u001b[0m\u001b[0;34m(\u001b[0m\u001b[0mdata_chunk\u001b[0m\u001b[0;34m,\u001b[0m \u001b[0;34m**\u001b[0m\u001b[0mkwargs\u001b[0m\u001b[0;34m)\u001b[0m\u001b[0;34m\u001b[0m\u001b[0;34m\u001b[0m\u001b[0m\n\u001b[0m\u001b[1;32m   1172\u001b[0m                 \u001b[0;31m# In empirical testing, it was faster to resample all channels\u001b[0m\u001b[0;34m\u001b[0m\u001b[0;34m\u001b[0m\u001b[0m\n\u001b[1;32m   1173\u001b[0m                 \u001b[0;31m# (above) and then replace the stim channels than it was to\u001b[0m\u001b[0;34m\u001b[0m\u001b[0;34m\u001b[0m\u001b[0m\n",
      "\u001b[0;32m<decorator-gen-117>\u001b[0m in \u001b[0;36mresample\u001b[0;34m(x, up, down, npad, axis, window, n_jobs, pad, verbose)\u001b[0m\n",
      "\u001b[0;32m~/.local/lib/python3.9/site-packages/mne/filter.py\u001b[0m in \u001b[0;36mresample\u001b[0;34m(***failed resolving arguments***)\u001b[0m\n\u001b[1;32m   1516\u001b[0m         \u001b[0my\u001b[0m \u001b[0;34m=\u001b[0m \u001b[0mnp\u001b[0m\u001b[0;34m.\u001b[0m\u001b[0mzeros\u001b[0m\u001b[0;34m(\u001b[0m\u001b[0;34m(\u001b[0m\u001b[0mlen\u001b[0m\u001b[0;34m(\u001b[0m\u001b[0mx_flat\u001b[0m\u001b[0;34m)\u001b[0m\u001b[0;34m,\u001b[0m \u001b[0mnew_len\u001b[0m \u001b[0;34m-\u001b[0m \u001b[0mto_removes\u001b[0m\u001b[0;34m.\u001b[0m\u001b[0msum\u001b[0m\u001b[0;34m(\u001b[0m\u001b[0;34m)\u001b[0m\u001b[0;34m)\u001b[0m\u001b[0;34m,\u001b[0m \u001b[0mdtype\u001b[0m\u001b[0;34m=\u001b[0m\u001b[0mx\u001b[0m\u001b[0;34m.\u001b[0m\u001b[0mdtype\u001b[0m\u001b[0;34m)\u001b[0m\u001b[0;34m\u001b[0m\u001b[0;34m\u001b[0m\u001b[0m\n\u001b[1;32m   1517\u001b[0m         \u001b[0;32mfor\u001b[0m \u001b[0mxi\u001b[0m\u001b[0;34m,\u001b[0m \u001b[0mx_\u001b[0m \u001b[0;32min\u001b[0m \u001b[0menumerate\u001b[0m\u001b[0;34m(\u001b[0m\u001b[0mx_flat\u001b[0m\u001b[0;34m)\u001b[0m\u001b[0;34m:\u001b[0m\u001b[0;34m\u001b[0m\u001b[0;34m\u001b[0m\u001b[0m\n\u001b[0;32m-> 1518\u001b[0;31m             y[xi] = _fft_resample(x_, new_len, npads, to_removes,\n\u001b[0m\u001b[1;32m   1519\u001b[0m                                   cuda_dict, pad)\n\u001b[1;32m   1520\u001b[0m     \u001b[0;32melse\u001b[0m\u001b[0;34m:\u001b[0m\u001b[0;34m\u001b[0m\u001b[0;34m\u001b[0m\u001b[0m\n",
      "\u001b[0;32m~/.local/lib/python3.9/site-packages/mne/cuda.py\u001b[0m in \u001b[0;36m_fft_resample\u001b[0;34m(x, new_len, npads, to_removes, cuda_dict, pad)\u001b[0m\n\u001b[1;32m    333\u001b[0m         \u001b[0mx_fft\u001b[0m\u001b[0;34m[\u001b[0m\u001b[0mnyq\u001b[0m\u001b[0;34m:\u001b[0m\u001b[0mnyq\u001b[0m \u001b[0;34m+\u001b[0m \u001b[0;36m1\u001b[0m\u001b[0;34m]\u001b[0m \u001b[0;34m*=\u001b[0m \u001b[0;36m2\u001b[0m \u001b[0;32mif\u001b[0m \u001b[0mshorter\u001b[0m \u001b[0;32melse\u001b[0m \u001b[0;36m0.5\u001b[0m\u001b[0;34m\u001b[0m\u001b[0;34m\u001b[0m\u001b[0m\n\u001b[1;32m    334\u001b[0m     \u001b[0mx_fft\u001b[0m \u001b[0;34m*=\u001b[0m \u001b[0mcuda_dict\u001b[0m\u001b[0;34m[\u001b[0m\u001b[0;34m'W'\u001b[0m\u001b[0;34m]\u001b[0m\u001b[0;34m\u001b[0m\u001b[0;34m\u001b[0m\u001b[0m\n\u001b[0;32m--> 335\u001b[0;31m     \u001b[0my\u001b[0m \u001b[0;34m=\u001b[0m \u001b[0mcuda_dict\u001b[0m\u001b[0;34m[\u001b[0m\u001b[0;34m'irfft'\u001b[0m\u001b[0;34m]\u001b[0m\u001b[0;34m(\u001b[0m\u001b[0mx_fft\u001b[0m\u001b[0;34m,\u001b[0m \u001b[0mnew_len\u001b[0m\u001b[0;34m)\u001b[0m\u001b[0;34m\u001b[0m\u001b[0;34m\u001b[0m\u001b[0m\n\u001b[0m\u001b[1;32m    336\u001b[0m \u001b[0;34m\u001b[0m\u001b[0m\n\u001b[1;32m    337\u001b[0m     \u001b[0;31m# now let's trim it back to the correct size (if there was padding)\u001b[0m\u001b[0;34m\u001b[0m\u001b[0;34m\u001b[0m\u001b[0m\n",
      "\u001b[0;32m/opt/conda/lib/python3.9/site-packages/scipy/fft/_backend.py\u001b[0m in \u001b[0;36m__ua_function__\u001b[0;34m(method, args, kwargs)\u001b[0m\n\u001b[1;32m     21\u001b[0m         \u001b[0;32mif\u001b[0m \u001b[0mfn\u001b[0m \u001b[0;32mis\u001b[0m \u001b[0;32mNone\u001b[0m\u001b[0;34m:\u001b[0m\u001b[0;34m\u001b[0m\u001b[0;34m\u001b[0m\u001b[0m\n\u001b[1;32m     22\u001b[0m             \u001b[0;32mreturn\u001b[0m \u001b[0mNotImplemented\u001b[0m\u001b[0;34m\u001b[0m\u001b[0;34m\u001b[0m\u001b[0m\n\u001b[0;32m---> 23\u001b[0;31m         \u001b[0;32mreturn\u001b[0m \u001b[0mfn\u001b[0m\u001b[0;34m(\u001b[0m\u001b[0;34m*\u001b[0m\u001b[0margs\u001b[0m\u001b[0;34m,\u001b[0m \u001b[0;34m**\u001b[0m\u001b[0mkwargs\u001b[0m\u001b[0;34m)\u001b[0m\u001b[0;34m\u001b[0m\u001b[0;34m\u001b[0m\u001b[0m\n\u001b[0m\u001b[1;32m     24\u001b[0m \u001b[0;34m\u001b[0m\u001b[0m\n\u001b[1;32m     25\u001b[0m \u001b[0;34m\u001b[0m\u001b[0m\n",
      "\u001b[0;32m/opt/conda/lib/python3.9/site-packages/scipy/fft/_pocketfft/basic.py\u001b[0m in \u001b[0;36mc2r\u001b[0;34m(forward, x, n, axis, norm, overwrite_x, workers, plan)\u001b[0m\n\u001b[1;32m     95\u001b[0m \u001b[0;34m\u001b[0m\u001b[0m\n\u001b[1;32m     96\u001b[0m     \u001b[0;31m# Note: overwrite_x is not utilized\u001b[0m\u001b[0;34m\u001b[0m\u001b[0;34m\u001b[0m\u001b[0m\n\u001b[0;32m---> 97\u001b[0;31m     \u001b[0;32mreturn\u001b[0m \u001b[0mpfft\u001b[0m\u001b[0;34m.\u001b[0m\u001b[0mc2r\u001b[0m\u001b[0;34m(\u001b[0m\u001b[0mtmp\u001b[0m\u001b[0;34m,\u001b[0m \u001b[0;34m(\u001b[0m\u001b[0maxis\u001b[0m\u001b[0;34m,\u001b[0m\u001b[0;34m)\u001b[0m\u001b[0;34m,\u001b[0m \u001b[0mn\u001b[0m\u001b[0;34m,\u001b[0m \u001b[0mforward\u001b[0m\u001b[0;34m,\u001b[0m \u001b[0mnorm\u001b[0m\u001b[0;34m,\u001b[0m \u001b[0;32mNone\u001b[0m\u001b[0;34m,\u001b[0m \u001b[0mworkers\u001b[0m\u001b[0;34m)\u001b[0m\u001b[0;34m\u001b[0m\u001b[0;34m\u001b[0m\u001b[0m\n\u001b[0m\u001b[1;32m     98\u001b[0m \u001b[0;34m\u001b[0m\u001b[0m\n\u001b[1;32m     99\u001b[0m \u001b[0;34m\u001b[0m\u001b[0m\n",
      "\u001b[0;31mKeyboardInterrupt\u001b[0m: "
     ]
    }
   ],
   "source": [
    "%timeit dataset[int(sel_idx)]"
   ]
  },
  {
   "cell_type": "code",
   "execution_count": 53,
   "id": "c0c12c74-ec6d-4cc5-b58c-a98f9aebdb53",
   "metadata": {
    "execution": {
     "iopub.execute_input": "2023-04-07T18:27:53.263946Z",
     "iopub.status.busy": "2023-04-07T18:27:53.263337Z",
     "iopub.status.idle": "2023-04-07T18:28:08.879681Z",
     "shell.execute_reply": "2023-04-07T18:28:08.879099Z",
     "shell.execute_reply.started": "2023-04-07T18:27:53.263897Z"
    },
    "tags": []
   },
   "outputs": [
    {
     "name": "stderr",
     "output_type": "stream",
     "text": [
      "  0%|                                                                                                                                                   | 0/32 [00:15<?, ?it/s]\n"
     ]
    },
    {
     "ename": "KeyboardInterrupt",
     "evalue": "",
     "output_type": "error",
     "traceback": [
      "\u001b[0;31m---------------------------------------------------------------------------\u001b[0m",
      "\u001b[0;31mKeyboardInterrupt\u001b[0m                         Traceback (most recent call last)",
      "\u001b[0;32m/tmp/ipykernel_13429/3093105554.py\u001b[0m in \u001b[0;36m<module>\u001b[0;34m\u001b[0m\n\u001b[1;32m      1\u001b[0m \u001b[0;32mfrom\u001b[0m \u001b[0mtqdm\u001b[0m \u001b[0;32mimport\u001b[0m \u001b[0mtqdm\u001b[0m\u001b[0;34m\u001b[0m\u001b[0;34m\u001b[0m\u001b[0m\n\u001b[1;32m      2\u001b[0m \u001b[0;32mfor\u001b[0m \u001b[0msel_idx\u001b[0m \u001b[0;32min\u001b[0m \u001b[0mtqdm\u001b[0m\u001b[0;34m(\u001b[0m\u001b[0msel_idxs\u001b[0m\u001b[0;34m)\u001b[0m\u001b[0;34m:\u001b[0m\u001b[0;34m\u001b[0m\u001b[0;34m\u001b[0m\u001b[0m\n\u001b[0;32m----> 3\u001b[0;31m     \u001b[0mdataset\u001b[0m\u001b[0;34m[\u001b[0m\u001b[0mint\u001b[0m\u001b[0;34m(\u001b[0m\u001b[0msel_idx\u001b[0m\u001b[0;34m)\u001b[0m\u001b[0;34m]\u001b[0m\u001b[0;34m\u001b[0m\u001b[0;34m\u001b[0m\u001b[0m\n\u001b[0m",
      "\u001b[0;32m/data/rajlab1/user_data/jin/MyResearch/gTVDN-NN/notebooks/../mypkg/data_utils/eeg_load.py\u001b[0m in \u001b[0;36m__getitem__\u001b[0;34m(self, idx)\u001b[0m\n\u001b[1;32m    173\u001b[0m \u001b[0;34m\u001b[0m\u001b[0m\n\u001b[1;32m    174\u001b[0m         \u001b[0;32mif\u001b[0m \u001b[0mself\u001b[0m\u001b[0;34m.\u001b[0m\u001b[0mpreprocess_dict\u001b[0m\u001b[0;34m.\u001b[0m\u001b[0mis_detrend\u001b[0m\u001b[0;34m:\u001b[0m\u001b[0;34m\u001b[0m\u001b[0;34m\u001b[0m\u001b[0m\n\u001b[0;32m--> 175\u001b[0;31m             \u001b[0mdata\u001b[0m\u001b[0;34m.\u001b[0m\u001b[0mapply_function\u001b[0m\u001b[0;34m(\u001b[0m\u001b[0mmne\u001b[0m\u001b[0;34m.\u001b[0m\u001b[0mepochs\u001b[0m\u001b[0;34m.\u001b[0m\u001b[0mdetrend\u001b[0m\u001b[0;34m,\u001b[0m \u001b[0mverbose\u001b[0m\u001b[0;34m=\u001b[0m\u001b[0;32mFalse\u001b[0m\u001b[0;34m)\u001b[0m\u001b[0;34m\u001b[0m\u001b[0;34m\u001b[0m\u001b[0m\n\u001b[0m\u001b[1;32m    176\u001b[0m         \u001b[0;32mif\u001b[0m \u001b[0mself\u001b[0m\u001b[0;34m.\u001b[0m\u001b[0mpreprocess_dict\u001b[0m\u001b[0;34m.\u001b[0m\u001b[0mtarget_fs\u001b[0m \u001b[0;34m<\u001b[0m \u001b[0;36m250\u001b[0m\u001b[0;34m:\u001b[0m\u001b[0;34m\u001b[0m\u001b[0;34m\u001b[0m\u001b[0m\n\u001b[1;32m    177\u001b[0m             \u001b[0mdata\u001b[0m\u001b[0;34m.\u001b[0m\u001b[0mresample\u001b[0m\u001b[0;34m(\u001b[0m\u001b[0mself\u001b[0m\u001b[0;34m.\u001b[0m\u001b[0mpreprocess_dict\u001b[0m\u001b[0;34m.\u001b[0m\u001b[0mtarget_fs\u001b[0m\u001b[0;34m,\u001b[0m \u001b[0mverbose\u001b[0m\u001b[0;34m=\u001b[0m\u001b[0;32mFalse\u001b[0m\u001b[0;34m)\u001b[0m\u001b[0;34m\u001b[0m\u001b[0;34m\u001b[0m\u001b[0m\n",
      "\u001b[0;32m<decorator-gen-213>\u001b[0m in \u001b[0;36mapply_function\u001b[0;34m(self, fun, picks, dtype, n_jobs, channel_wise, verbose, **kwargs)\u001b[0m\n",
      "\u001b[0;32m~/.local/lib/python3.9/site-packages/mne/io/base.py\u001b[0m in \u001b[0;36mapply_function\u001b[0;34m(self, fun, picks, dtype, n_jobs, channel_wise, verbose, **kwargs)\u001b[0m\n\u001b[1;32m    952\u001b[0m                 \u001b[0;31m# modify data inplace to save memory\u001b[0m\u001b[0;34m\u001b[0m\u001b[0;34m\u001b[0m\u001b[0m\n\u001b[1;32m    953\u001b[0m                 \u001b[0;32mfor\u001b[0m \u001b[0midx\u001b[0m \u001b[0;32min\u001b[0m \u001b[0mpicks\u001b[0m\u001b[0;34m:\u001b[0m\u001b[0;34m\u001b[0m\u001b[0;34m\u001b[0m\u001b[0m\n\u001b[0;32m--> 954\u001b[0;31m                     self._data[idx, :] = _check_fun(fun, data_in[idx, :],\n\u001b[0m\u001b[1;32m    955\u001b[0m                                                     **kwargs)\n\u001b[1;32m    956\u001b[0m             \u001b[0;32melse\u001b[0m\u001b[0;34m:\u001b[0m\u001b[0;34m\u001b[0m\u001b[0;34m\u001b[0m\u001b[0m\n",
      "\u001b[0;32m~/.local/lib/python3.9/site-packages/mne/filter.py\u001b[0m in \u001b[0;36m_check_fun\u001b[0;34m(fun, d, *args, **kwargs)\u001b[0m\n\u001b[1;32m   2200\u001b[0m     \u001b[0;34m\"\"\"Check shapes.\"\"\"\u001b[0m\u001b[0;34m\u001b[0m\u001b[0;34m\u001b[0m\u001b[0m\n\u001b[1;32m   2201\u001b[0m     \u001b[0mwant_shape\u001b[0m \u001b[0;34m=\u001b[0m \u001b[0md\u001b[0m\u001b[0;34m.\u001b[0m\u001b[0mshape\u001b[0m\u001b[0;34m\u001b[0m\u001b[0;34m\u001b[0m\u001b[0m\n\u001b[0;32m-> 2202\u001b[0;31m     \u001b[0md\u001b[0m \u001b[0;34m=\u001b[0m \u001b[0mfun\u001b[0m\u001b[0;34m(\u001b[0m\u001b[0md\u001b[0m\u001b[0;34m,\u001b[0m \u001b[0;34m*\u001b[0m\u001b[0margs\u001b[0m\u001b[0;34m,\u001b[0m \u001b[0;34m**\u001b[0m\u001b[0mkwargs\u001b[0m\u001b[0;34m)\u001b[0m\u001b[0;34m\u001b[0m\u001b[0;34m\u001b[0m\u001b[0m\n\u001b[0m\u001b[1;32m   2203\u001b[0m     \u001b[0;32mif\u001b[0m \u001b[0;32mnot\u001b[0m \u001b[0misinstance\u001b[0m\u001b[0;34m(\u001b[0m\u001b[0md\u001b[0m\u001b[0;34m,\u001b[0m \u001b[0mnp\u001b[0m\u001b[0;34m.\u001b[0m\u001b[0mndarray\u001b[0m\u001b[0;34m)\u001b[0m\u001b[0;34m:\u001b[0m\u001b[0;34m\u001b[0m\u001b[0;34m\u001b[0m\u001b[0m\n\u001b[1;32m   2204\u001b[0m         \u001b[0;32mraise\u001b[0m \u001b[0mTypeError\u001b[0m\u001b[0;34m(\u001b[0m\u001b[0;34m'Return value must be an ndarray'\u001b[0m\u001b[0;34m)\u001b[0m\u001b[0;34m\u001b[0m\u001b[0;34m\u001b[0m\u001b[0m\n",
      "\u001b[0;32m~/.local/lib/python3.9/site-packages/mne/filter.py\u001b[0m in \u001b[0;36mdetrend\u001b[0;34m(x, order, axis)\u001b[0m\n\u001b[1;32m   1624\u001b[0m         \u001b[0;32mraise\u001b[0m \u001b[0mValueError\u001b[0m\u001b[0;34m(\u001b[0m\u001b[0;34m'order must be 0 or 1'\u001b[0m\u001b[0;34m)\u001b[0m\u001b[0;34m\u001b[0m\u001b[0;34m\u001b[0m\u001b[0m\n\u001b[1;32m   1625\u001b[0m \u001b[0;34m\u001b[0m\u001b[0m\n\u001b[0;32m-> 1626\u001b[0;31m     \u001b[0my\u001b[0m \u001b[0;34m=\u001b[0m \u001b[0mdetrend\u001b[0m\u001b[0;34m(\u001b[0m\u001b[0mx\u001b[0m\u001b[0;34m,\u001b[0m \u001b[0maxis\u001b[0m\u001b[0;34m=\u001b[0m\u001b[0maxis\u001b[0m\u001b[0;34m,\u001b[0m \u001b[0mtype\u001b[0m\u001b[0;34m=\u001b[0m\u001b[0mfit\u001b[0m\u001b[0;34m)\u001b[0m\u001b[0;34m\u001b[0m\u001b[0;34m\u001b[0m\u001b[0m\n\u001b[0m\u001b[1;32m   1627\u001b[0m \u001b[0;34m\u001b[0m\u001b[0m\n\u001b[1;32m   1628\u001b[0m     \u001b[0;32mreturn\u001b[0m \u001b[0my\u001b[0m\u001b[0;34m\u001b[0m\u001b[0;34m\u001b[0m\u001b[0m\n",
      "\u001b[0;32m/opt/conda/lib/python3.9/site-packages/scipy/signal/signaltools.py\u001b[0m in \u001b[0;36mdetrend\u001b[0;34m(data, axis, type, bp, overwrite_data)\u001b[0m\n\u001b[1;32m   3482\u001b[0m             \u001b[0mA\u001b[0m\u001b[0;34m[\u001b[0m\u001b[0;34m:\u001b[0m\u001b[0;34m,\u001b[0m \u001b[0;36m0\u001b[0m\u001b[0;34m]\u001b[0m \u001b[0;34m=\u001b[0m \u001b[0mnp\u001b[0m\u001b[0;34m.\u001b[0m\u001b[0mcast\u001b[0m\u001b[0;34m[\u001b[0m\u001b[0mdtype\u001b[0m\u001b[0;34m]\u001b[0m\u001b[0;34m(\u001b[0m\u001b[0mnp\u001b[0m\u001b[0;34m.\u001b[0m\u001b[0marange\u001b[0m\u001b[0;34m(\u001b[0m\u001b[0;36m1\u001b[0m\u001b[0;34m,\u001b[0m \u001b[0mNpts\u001b[0m \u001b[0;34m+\u001b[0m \u001b[0;36m1\u001b[0m\u001b[0;34m)\u001b[0m \u001b[0;34m*\u001b[0m \u001b[0;36m1.0\u001b[0m \u001b[0;34m/\u001b[0m \u001b[0mNpts\u001b[0m\u001b[0;34m)\u001b[0m\u001b[0;34m\u001b[0m\u001b[0;34m\u001b[0m\u001b[0m\n\u001b[1;32m   3483\u001b[0m             \u001b[0msl\u001b[0m \u001b[0;34m=\u001b[0m \u001b[0mslice\u001b[0m\u001b[0;34m(\u001b[0m\u001b[0mbp\u001b[0m\u001b[0;34m[\u001b[0m\u001b[0mm\u001b[0m\u001b[0;34m]\u001b[0m\u001b[0;34m,\u001b[0m \u001b[0mbp\u001b[0m\u001b[0;34m[\u001b[0m\u001b[0mm\u001b[0m \u001b[0;34m+\u001b[0m \u001b[0;36m1\u001b[0m\u001b[0;34m]\u001b[0m\u001b[0;34m)\u001b[0m\u001b[0;34m\u001b[0m\u001b[0;34m\u001b[0m\u001b[0m\n\u001b[0;32m-> 3484\u001b[0;31m             \u001b[0mcoef\u001b[0m\u001b[0;34m,\u001b[0m \u001b[0mresids\u001b[0m\u001b[0;34m,\u001b[0m \u001b[0mrank\u001b[0m\u001b[0;34m,\u001b[0m \u001b[0ms\u001b[0m \u001b[0;34m=\u001b[0m \u001b[0mlinalg\u001b[0m\u001b[0;34m.\u001b[0m\u001b[0mlstsq\u001b[0m\u001b[0;34m(\u001b[0m\u001b[0mA\u001b[0m\u001b[0;34m,\u001b[0m \u001b[0mnewdata\u001b[0m\u001b[0;34m[\u001b[0m\u001b[0msl\u001b[0m\u001b[0;34m]\u001b[0m\u001b[0;34m)\u001b[0m\u001b[0;34m\u001b[0m\u001b[0;34m\u001b[0m\u001b[0m\n\u001b[0m\u001b[1;32m   3485\u001b[0m             \u001b[0mnewdata\u001b[0m\u001b[0;34m[\u001b[0m\u001b[0msl\u001b[0m\u001b[0;34m]\u001b[0m \u001b[0;34m=\u001b[0m \u001b[0mnewdata\u001b[0m\u001b[0;34m[\u001b[0m\u001b[0msl\u001b[0m\u001b[0;34m]\u001b[0m \u001b[0;34m-\u001b[0m \u001b[0mnp\u001b[0m\u001b[0;34m.\u001b[0m\u001b[0mdot\u001b[0m\u001b[0;34m(\u001b[0m\u001b[0mA\u001b[0m\u001b[0;34m,\u001b[0m \u001b[0mcoef\u001b[0m\u001b[0;34m)\u001b[0m\u001b[0;34m\u001b[0m\u001b[0;34m\u001b[0m\u001b[0m\n\u001b[1;32m   3486\u001b[0m         \u001b[0;31m# Put data back in original shape.\u001b[0m\u001b[0;34m\u001b[0m\u001b[0;34m\u001b[0m\u001b[0m\n",
      "\u001b[0;32m/opt/conda/lib/python3.9/site-packages/scipy/linalg/basic.py\u001b[0m in \u001b[0;36mlstsq\u001b[0;34m(a, b, cond, overwrite_a, overwrite_b, check_finite, lapack_driver)\u001b[0m\n\u001b[1;32m   1202\u001b[0m             \u001b[0;32mif\u001b[0m \u001b[0mreal_data\u001b[0m\u001b[0;34m:\u001b[0m\u001b[0;34m\u001b[0m\u001b[0;34m\u001b[0m\u001b[0m\n\u001b[1;32m   1203\u001b[0m                 \u001b[0mlwork\u001b[0m\u001b[0;34m,\u001b[0m \u001b[0miwork\u001b[0m \u001b[0;34m=\u001b[0m \u001b[0m_compute_lwork\u001b[0m\u001b[0;34m(\u001b[0m\u001b[0mlapack_lwork\u001b[0m\u001b[0;34m,\u001b[0m \u001b[0mm\u001b[0m\u001b[0;34m,\u001b[0m \u001b[0mn\u001b[0m\u001b[0;34m,\u001b[0m \u001b[0mnrhs\u001b[0m\u001b[0;34m,\u001b[0m \u001b[0mcond\u001b[0m\u001b[0;34m)\u001b[0m\u001b[0;34m\u001b[0m\u001b[0;34m\u001b[0m\u001b[0m\n\u001b[0;32m-> 1204\u001b[0;31m                 x, s, rank, info = lapack_func(a1, b1, lwork,\n\u001b[0m\u001b[1;32m   1205\u001b[0m                                                iwork, cond, False, False)\n\u001b[1;32m   1206\u001b[0m             \u001b[0;32melse\u001b[0m\u001b[0;34m:\u001b[0m  \u001b[0;31m# complex data\u001b[0m\u001b[0;34m\u001b[0m\u001b[0;34m\u001b[0m\u001b[0m\n",
      "\u001b[0;31mKeyboardInterrupt\u001b[0m: "
     ]
    }
   ],
   "source": [
    "from tqdm import tqdm\n",
    "for sel_idx in tqdm(sel_idxs):\n",
    "    dataset[int(sel_idx)]"
   ]
  },
  {
   "cell_type": "code",
   "execution_count": 47,
   "id": "129c323b-e866-4826-82ba-5c4b90524fd9",
   "metadata": {
    "execution": {
     "iopub.execute_input": "2023-04-07T18:25:21.916420Z",
     "iopub.status.busy": "2023-04-07T18:25:21.915837Z",
     "iopub.status.idle": "2023-04-07T18:25:23.470334Z",
     "shell.execute_reply": "2023-04-07T18:25:23.469840Z",
     "shell.execute_reply.started": "2023-04-07T18:25:21.916375Z"
    },
    "tags": []
   },
   "outputs": [
    {
     "name": "stdout",
     "output_type": "stream",
     "text": [
      "190 ms ± 441 µs per loop (mean ± std. dev. of 7 runs, 1 loop each)\n"
     ]
    }
   ],
   "source": []
  },
  {
   "cell_type": "code",
   "execution_count": 26,
   "id": "13c638ac-9608-4f9f-97e2-83178e03ffaa",
   "metadata": {
    "execution": {
     "iopub.execute_input": "2023-04-07T18:21:53.159889Z",
     "iopub.status.busy": "2023-04-07T18:21:53.159270Z",
     "iopub.status.idle": "2023-04-07T18:21:53.168295Z",
     "shell.execute_reply": "2023-04-07T18:21:53.166989Z",
     "shell.execute_reply.started": "2023-04-07T18:21:53.159841Z"
    },
    "tags": []
   },
   "outputs": [
    {
     "data": {
      "text/plain": [
       "1446291"
      ]
     },
     "execution_count": 26,
     "metadata": {},
     "output_type": "execute_result"
    }
   ],
   "source": [
    "int(sel_idxs[0])"
   ]
  },
  {
   "cell_type": "code",
   "execution_count": 11,
   "id": "a67ef982-01a3-48f2-b222-90405e7bac3a",
   "metadata": {
    "execution": {
     "iopub.execute_input": "2023-04-04T22:13:20.703901Z",
     "iopub.status.busy": "2023-04-04T22:13:20.703665Z",
     "iopub.status.idle": "2023-04-04T22:13:20.725307Z",
     "shell.execute_reply": "2023-04-04T22:13:20.724682Z",
     "shell.execute_reply.started": "2023-04-04T22:13:20.703888Z"
    },
    "tags": [
     "fns"
    ]
   },
   "outputs": [],
   "source": [
    "    sub_ix = torch.randint(len(dataset), (1, ))\n",
    "    ix = torch.randint(len(dataset[sub_ix]) - block_size, (batch_size,))\n",
    "    x = torch.stack([torch.from_numpy((dataset[sub_ix, i:i+block_size])) for i in ix])\n",
    "    y = torch.stack([torch.from_numpy((dataset[sub_ix, i+1:i+1+block_size])) for i in ix])\n",
    "    if device.type == 'cuda':\n",
    "        # pin arrays x,y, which allows us to move them to GPU asynchronously (non_blocking=True)\n",
    "        x, y = x.pin_memory().to(device, non_blocking=True), y.pin_memory().to(device, non_blocking=True)\n",
    "    else:\n",
    "        x, y = x.to(device), y.to(device)\n",
    "    return x.double(), y.double()"
   ]
  },
  {
   "cell_type": "code",
   "execution_count": 18,
   "id": "623b613f-27dc-4720-a246-392e8ea0e316",
   "metadata": {
    "execution": {
     "iopub.execute_input": "2023-04-07T18:19:03.422408Z",
     "iopub.status.busy": "2023-04-07T18:19:03.421877Z",
     "iopub.status.idle": "2023-04-07T18:19:03.430056Z",
     "shell.execute_reply": "2023-04-07T18:19:03.428827Z",
     "shell.execute_reply.started": "2023-04-07T18:19:03.422364Z"
    },
    "tags": []
   },
   "outputs": [
    {
     "data": {
      "text/plain": [
       "1691473"
      ]
     },
     "execution_count": 18,
     "metadata": {},
     "output_type": "execute_result"
    }
   ],
   "source": [
    "len(train_data)"
   ]
  },
  {
   "cell_type": "code",
   "execution_count": 41,
   "id": "61bd2a81-8395-4235-94b0-a336d89e0d9f",
   "metadata": {
    "execution": {
     "iopub.execute_input": "2023-04-04T23:05:34.916048Z",
     "iopub.status.busy": "2023-04-04T23:05:34.915420Z",
     "iopub.status.idle": "2023-04-04T23:05:34.922859Z",
     "shell.execute_reply": "2023-04-04T23:05:34.921579Z",
     "shell.execute_reply.started": "2023-04-04T23:05:34.915999Z"
    },
    "tags": []
   },
   "outputs": [],
   "source": [
    "def trunc_mse_loss(Y, Y_pred):\n",
    "    diff = (Y - Y_pred)\n",
    "    #abs_diff = torch.abs(Y - Y_pred)\n",
    "    #v = torch.mean(abs_diff[abs_diff < (abs_diff.mean()+1*abs_diff.std())]**2)\n",
    "    return (diff**2).median()"
   ]
  },
  {
   "cell_type": "code",
   "execution_count": 42,
   "id": "0ed6692b-f81b-4023-a3a5-a87e1b9a6913",
   "metadata": {
    "execution": {
     "iopub.execute_input": "2023-04-04T23:05:35.534906Z",
     "iopub.status.busy": "2023-04-04T23:05:35.534064Z",
     "iopub.status.idle": "2023-04-04T23:05:35.654991Z",
     "shell.execute_reply": "2023-04-04T23:05:35.654473Z",
     "shell.execute_reply.started": "2023-04-04T23:05:35.534858Z"
    },
    "tags": []
   },
   "outputs": [
    {
     "name": "stdout",
     "output_type": "stream",
     "text": [
      "number of parameters: 1.99M\n",
      "Adjusting learning rate of group 0 to 1.0000e-04.\n"
     ]
    }
   ],
   "source": [
    "net = myNet(config)\n",
    "pos_enc = generate_position_encode(config.block_size, config.nfeature).unsqueeze(0)\n",
    "\n",
    "loss_fn = nn.MSELoss(reduction=\"none\")\n",
    "loss_fn = trunc_mse_loss\n",
    "\n",
    "optimizer = torch.optim.Adam(net.parameters(), lr=1e-4, weight_decay=0)\n",
    "scheduler = ExponentialLR(optimizer, gamma=0.3, verbose=True)"
   ]
  },
  {
   "cell_type": "code",
   "execution_count": null,
   "id": "ffdb1b30-296d-422f-bf17-496d08711c4e",
   "metadata": {},
   "outputs": [
    {
     "name": "stdout",
     "output_type": "stream",
     "text": [
      "423.27496\n",
      "439.4143\n",
      "700.7775\n",
      "625.4858\n",
      "21543.672\n",
      "11648.712\n",
      "34832.87\n",
      "16833.91\n",
      "23408.102\n",
      "12655.108\n",
      "18435.816\n",
      "26397.918\n",
      "26156.062\n",
      "7215.761\n",
      "24.011957\n",
      "14644.457\n",
      "19681.895\n",
      "4.353186\n",
      "10223.101\n",
      "3.3560998\n",
      "59921.79\n",
      "18277.637\n",
      "18.830772\n",
      "19764.154\n",
      "10978.8955\n",
      "13510.064\n",
      "350.7893\n",
      "5.863027\n",
      "5922.1562\n",
      "12403.258\n",
      "31.640512\n",
      "12133.332\n",
      "19325.607\n",
      "37.073875\n",
      "6079.2764\n",
      "935.894\n",
      "393.42087\n",
      "10218.475\n",
      "3359.081\n",
      "573.54126\n",
      "648.3074\n",
      "182.9855\n",
      "694.2041\n",
      "1024.4565\n",
      "494.40796\n",
      "647.30786\n",
      "497.86935\n",
      "750.86505\n",
      "1049.2618\n",
      "642.30444\n",
      "452.81525\n",
      "560.69257\n",
      "373.29852\n",
      "476.28067\n",
      "445.18692\n",
      "683.4876\n",
      "5988.1274\n",
      "232.03542\n",
      "4189.432\n",
      "5786.858\n",
      "6975.1284\n",
      "7634.328\n",
      "4637.701\n",
      "7961.357\n",
      "184.34195\n",
      "10747.301\n",
      "14998.881\n",
      "11651.636\n",
      "10691.651\n",
      "14561.659\n",
      "13065.513\n",
      "14040.728\n",
      "22865.3\n",
      "16305.5\n",
      "23018.973\n",
      "24788.496\n",
      "12136.742\n",
      "19260.182\n",
      "7990.7964\n",
      "19205.566\n",
      "3081.7654\n",
      "17674.361\n",
      "6906.54\n",
      "1532.1886\n",
      "7642.5674\n",
      "20554.59\n",
      "31848.992\n",
      "11692.671\n",
      "36031.18\n",
      "14564.424\n",
      "6881.456\n",
      "7712.752\n"
     ]
    }
   ],
   "source": [
    "dat1 = data[0]\n",
    "for ix in range(92):\n",
    "    print(data[ix].std())"
   ]
  },
  {
   "cell_type": "code",
   "execution_count": null,
   "id": "6fcf7dd7-7bd0-48b4-ac27-0e20007c1206",
   "metadata": {},
   "outputs": [],
   "source": []
  },
  {
   "cell_type": "code",
   "execution_count": 43,
   "id": "1b16dbf1-1714-4653-8279-d7ead4739edf",
   "metadata": {
    "execution": {
     "iopub.execute_input": "2023-04-04T23:05:37.320506Z",
     "iopub.status.busy": "2023-04-04T23:05:37.319793Z",
     "iopub.status.idle": "2023-04-04T23:12:23.498523Z",
     "shell.execute_reply": "2023-04-04T23:12:23.498083Z",
     "shell.execute_reply.started": "2023-04-04T23:05:37.320453Z"
    },
    "tags": []
   },
   "outputs": [
    {
     "name": "stdout",
     "output_type": "stream",
     "text": [
      "At iter 10/500, the losses are 2.71201E+08 (train). the losses are 3.47161E+08 (test). The time used is 7.969s. \n",
      "At iter 20/500, the losses are 2.68217E+08 (train). the losses are 3.20031E+08 (test). The time used is 6.554s. \n",
      "At iter 30/500, the losses are 4.43794E+08 (train). the losses are 4.20303E+08 (test). The time used is 8.198s. \n",
      "At iter 40/500, the losses are 4.19364E+08 (train). the losses are 6.41405E+08 (test). The time used is 7.147s. \n",
      "At iter 50/500, the losses are 1.91561E+08 (train). the losses are 1.05919E+08 (test). The time used is 8.997s. \n",
      "At iter 60/500, the losses are 1.06907E+08 (train). the losses are 4.95904E+08 (test). The time used is 9.049s. \n",
      "At iter 70/500, the losses are 6.72639E+08 (train). the losses are 1.79605E+07 (test). The time used is 9.060s. \n",
      "At iter 80/500, the losses are 2.74807E+08 (train). the losses are 1.85639E+08 (test). The time used is 7.485s. \n",
      "At iter 90/500, the losses are 3.41928E+08 (train). the losses are 1.00795E+08 (test). The time used is 8.889s. \n",
      "At iter 100/500, the losses are 2.59796E+08 (train). the losses are 2.04380E+08 (test). The time used is 9.069s. \n",
      "At iter 110/500, the losses are 3.42009E+07 (train). the losses are 3.60606E+09 (test). The time used is 9.033s. \n",
      "At iter 120/500, the losses are 3.61788E+08 (train). the losses are 3.90967E+08 (test). The time used is 8.598s. \n",
      "At iter 130/500, the losses are 7.93910E+08 (train). the losses are 9.97056E+07 (test). The time used is 7.803s. \n",
      "At iter 140/500, the losses are 1.57371E+08 (train). the losses are 3.89773E+08 (test). The time used is 8.319s. \n",
      "At iter 150/500, the losses are 8.14521E+07 (train). the losses are 5.93603E+06 (test). The time used is 8.309s. \n",
      "At iter 160/500, the losses are 2.01340E+08 (train). the losses are 3.88689E+07 (test). The time used is 8.214s. \n",
      "At iter 170/500, the losses are 1.96326E+08 (train). the losses are 5.08906E+08 (test). The time used is 8.176s. \n",
      "At iter 180/500, the losses are 2.32163E+08 (train). the losses are 1.97997E+08 (test). The time used is 6.607s. \n",
      "At iter 190/500, the losses are 4.59523E+08 (train). the losses are 1.15166E+08 (test). The time used is 6.527s. \n",
      "At iter 200/500, the losses are 9.85247E+07 (train). the losses are 3.22033E+08 (test). The time used is 8.435s. \n",
      "At iter 210/500, the losses are 2.73966E+08 (train). the losses are 5.32385E+08 (test). The time used is 8.633s. \n",
      "At iter 220/500, the losses are 1.52924E+08 (train). the losses are 9.95142E+08 (test). The time used is 7.653s. \n",
      "At iter 230/500, the losses are 3.80581E+08 (train). the losses are 9.14464E+08 (test). The time used is 8.398s. \n",
      "At iter 240/500, the losses are 2.98662E+08 (train). the losses are 2.80012E+08 (test). The time used is 8.348s. \n",
      "At iter 250/500, the losses are 1.62251E+08 (train). the losses are 3.58658E+09 (test). The time used is 7.560s. \n",
      "At iter 260/500, the losses are 1.99187E+08 (train). the losses are 3.73547E+09 (test). The time used is 7.546s. \n",
      "At iter 270/500, the losses are 1.35494E+08 (train). the losses are 9.36747E+07 (test). The time used is 8.633s. \n",
      "At iter 280/500, the losses are 1.25229E+08 (train). the losses are 1.07120E+09 (test). The time used is 8.398s. \n",
      "At iter 290/500, the losses are 3.78909E+08 (train). the losses are 1.87086E+08 (test). The time used is 8.382s. \n",
      "At iter 300/500, the losses are 1.32131E+08 (train). the losses are 4.79729E+08 (test). The time used is 9.008s. \n",
      "At iter 310/500, the losses are 4.62792E+08 (train). the losses are 6.45812E+07 (test). The time used is 8.825s. \n",
      "At iter 320/500, the losses are 3.34740E+08 (train). the losses are 9.77141E+07 (test). The time used is 8.245s. \n",
      "At iter 330/500, the losses are 9.19474E+08 (train). the losses are 8.98950E+08 (test). The time used is 8.569s. \n",
      "At iter 340/500, the losses are 4.67326E+08 (train). the losses are 7.46561E+08 (test). The time used is 8.025s. \n",
      "At iter 350/500, the losses are 1.96166E+08 (train). the losses are 2.47036E+09 (test). The time used is 8.549s. \n",
      "At iter 360/500, the losses are 3.85530E+08 (train). the losses are 3.62383E+09 (test). The time used is 8.222s. \n",
      "At iter 370/500, the losses are 1.15838E+08 (train). the losses are 2.49958E+08 (test). The time used is 7.937s. \n",
      "At iter 380/500, the losses are 2.85773E+08 (train). the losses are 2.69286E+08 (test). The time used is 8.377s. \n",
      "At iter 390/500, the losses are 2.18928E+08 (train). the losses are 1.17524E+09 (test). The time used is 7.227s. \n",
      "At iter 400/500, the losses are 4.94221E+08 (train). the losses are 9.04296E+07 (test). The time used is 6.933s. \n",
      "At iter 410/500, the losses are 5.33186E+08 (train). the losses are 4.42235E+08 (test). The time used is 6.608s. \n",
      "At iter 420/500, the losses are 1.03267E+08 (train). the losses are 3.24659E+07 (test). The time used is 6.585s. \n",
      "At iter 430/500, the losses are 2.53602E+07 (train). the losses are 7.54270E+08 (test). The time used is 8.445s. \n",
      "At iter 440/500, the losses are 3.35824E+08 (train). the losses are 2.84499E+09 (test). The time used is 9.013s. \n",
      "At iter 450/500, the losses are 1.34095E+09 (train). the losses are 6.56885E+08 (test). The time used is 8.953s. \n",
      "At iter 460/500, the losses are 2.68569E+08 (train). the losses are 3.77851E+07 (test). The time used is 8.503s. \n",
      "At iter 470/500, the losses are 1.31989E+08 (train). the losses are 6.12208E+08 (test). The time used is 7.130s. \n",
      "At iter 480/500, the losses are 2.82854E+08 (train). the losses are 7.49092E+08 (test). The time used is 8.183s. \n",
      "At iter 490/500, the losses are 2.61622E+08 (train). the losses are 7.25613E+08 (test). The time used is 8.435s. \n",
      "At iter 500/500, the losses are 1.01676E+09 (train). the losses are 8.20660E+08 (test). The time used is 8.398s. \n"
     ]
    }
   ],
   "source": [
    "# training\n",
    "loss_cur = 0\n",
    "losses = []\n",
    "losses_test = []\n",
    "\n",
    "t0 = time.time()\n",
    "for ix in range(paras_train.niter):\n",
    "    X, Y = get_batch(train_data, \n",
    "                      batch_size=config.batch_size,  \n",
    "                      block_size=config.block_size)\n",
    "    X = X + pos_enc\n",
    "    # Zero the gradients\n",
    "    optimizer.zero_grad()\n",
    "    \n",
    "    net_out = net(X)\n",
    "    Y_pred = out2pred(net_out, X)\n",
    "    loss = loss_fn(Y, Y_pred)\n",
    "    \n",
    "    # Perform backward pass\n",
    "    loss.backward()\n",
    "    \n",
    "    torch.nn.utils.clip_grad_norm_(net.parameters(), paras_train.clip)\n",
    "    # Perform optimization\n",
    "    optimizer.step()\n",
    "    \n",
    "    loss_cur = loss_cur + loss.item()\n",
    "    if ix % paras_train.loss_out == (paras_train.loss_out-1):\n",
    "        losses.append(loss_cur/paras_train.loss_out)\n",
    "        losses_test.append(evaluate(net))\n",
    "        print(f\"At iter {ix+1}/{paras_train.niter}, \"\n",
    "              f\"the losses are {loss_cur/paras_train.loss_out:.5E} (train). \"\n",
    "              f\"the losses are {losses_test[-1]:.5E} (test). \"\n",
    "              f\"The time used is {delta_time(t0):.3f}s. \"\n",
    "             )\n",
    "        loss_cur = 0\n",
    "        t0 = time.time()\n",
    "    \n",
    "    #if ix % paras_train.lr_step == (paras_train.lr_step-1):\n",
    "    #    scheduler.step()"
   ]
  },
  {
   "cell_type": "code",
   "execution_count": null,
   "id": "65875a4b-e777-4e79-a347-1766e7c16624",
   "metadata": {},
   "outputs": [],
   "source": []
  }
 ],
 "metadata": {
  "kernelspec": {
   "display_name": "Python 3 (ipykernel)",
   "language": "python",
   "name": "python3"
  },
  "language_info": {
   "codemirror_mode": {
    "name": "ipython",
    "version": 3
   },
   "file_extension": ".py",
   "mimetype": "text/x-python",
   "name": "python",
   "nbconvert_exporter": "python",
   "pygments_lexer": "ipython3",
   "version": "3.9.7"
  },
  "toc-autonumbering": true,
  "toc-showmarkdowntxt": true,
  "toc-showtags": true
 },
 "nbformat": 4,
 "nbformat_minor": 5
}
