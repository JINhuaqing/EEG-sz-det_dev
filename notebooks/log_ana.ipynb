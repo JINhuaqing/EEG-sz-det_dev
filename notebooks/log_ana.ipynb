{
 "cells": [
  {
   "cell_type": "code",
   "execution_count": 129,
   "metadata": {
    "execution": {
     "iopub.execute_input": "2023-05-24T18:41:16.395834Z",
     "iopub.status.busy": "2023-05-24T18:41:16.395334Z",
     "iopub.status.idle": "2023-05-24T18:41:16.401816Z",
     "shell.execute_reply": "2023-05-24T18:41:16.400768Z",
     "shell.execute_reply.started": "2023-05-24T18:41:16.395791Z"
    },
    "tags": []
   },
   "outputs": [],
   "source": [
    "import sys\n",
    "sys.path.append(\"../mypkg\")\n",
    "from constants import RES_ROOT, FIG_ROOT, DATA_ROOT"
   ]
  },
  {
   "cell_type": "code",
   "execution_count": 130,
   "metadata": {
    "execution": {
     "iopub.execute_input": "2023-05-24T18:41:16.748270Z",
     "iopub.status.busy": "2023-05-24T18:41:16.747768Z",
     "iopub.status.idle": "2023-05-24T18:41:16.757595Z",
     "shell.execute_reply": "2023-05-24T18:41:16.756583Z",
     "shell.execute_reply.started": "2023-05-24T18:41:16.748228Z"
    },
    "tags": []
   },
   "outputs": [],
   "source": [
    "import numpy as np\n",
    "import scipy\n",
    "import matplotlib.pyplot as plt\n",
    "import seaborn as sns\n",
    "from easydict import EasyDict as edict\n",
    "import time\n",
    "\n",
    "plt.style.use(FIG_ROOT/\"base.mplstyle\")"
   ]
  },
  {
   "cell_type": "code",
   "execution_count": 131,
   "metadata": {
    "execution": {
     "iopub.execute_input": "2023-05-24T18:41:17.085095Z",
     "iopub.status.busy": "2023-05-24T18:41:17.084609Z",
     "iopub.status.idle": "2023-05-24T18:41:17.090313Z",
     "shell.execute_reply": "2023-05-24T18:41:17.089277Z",
     "shell.execute_reply.started": "2023-05-24T18:41:17.085057Z"
    },
    "tags": []
   },
   "outputs": [],
   "source": [
    "from utils.misc import load_txt"
   ]
  },
  {
   "cell_type": "code",
   "execution_count": 132,
   "metadata": {
    "execution": {
     "iopub.execute_input": "2023-05-24T18:41:17.413496Z",
     "iopub.status.busy": "2023-05-24T18:41:17.412995Z",
     "iopub.status.idle": "2023-05-24T18:41:17.431032Z",
     "shell.execute_reply": "2023-05-24T18:41:17.430113Z",
     "shell.execute_reply.started": "2023-05-24T18:41:17.413455Z"
    },
    "tags": []
   },
   "outputs": [],
   "source": [
    "import re\n",
    "\n",
    "def extract_losses(text, is_base=True):\n",
    "    train_losses = []\n",
    "    test_losses = []\n",
    "\n",
    "    for line in text:\n",
    "        if line.strip() == '':\n",
    "            continue\n",
    "        \n",
    "        tmp = re.search(r'iter (\\d+)', line)\n",
    "        if tmp is not None:\n",
    "            iter_num = int(re.search(r'iter (\\d+)', line).group(1))\n",
    "            loss = float(re.search(r'the losses are (\\d+\\.\\d+)', line).group(1))\n",
    "            if is_base:\n",
    "                loss_base = float(re.search(r'the base losses are (\\d+\\.\\d+)', line).group(1))\n",
    "            iter_num_perepoch = int(re.search(r'/(\\d+),', line).group(1))\n",
    "            epoch_num = int(re.search(r'epoch (\\d+),', line).group(1))\n",
    "        \n",
    "            if 'train' in line:\n",
    "                if is_base:\n",
    "                    train_losses.append((iter_num + (epoch_num-1)*iter_num_perepoch, loss, loss_base))\n",
    "                else:\n",
    "                    train_losses.append((iter_num + (epoch_num-1)*iter_num_perepoch, loss))\n",
    "            elif 'test' in line:\n",
    "                if is_base:\n",
    "                    test_losses.append((iter_num + (epoch_num-1)*iter_num_perepoch, loss, loss_base))\n",
    "                else:\n",
    "                    test_losses.append((iter_num + (epoch_num-1)*iter_num_perepoch, loss))\n",
    "\n",
    "    return np.array(train_losses), np.array(test_losses)\n",
    "\n",
    "def moving_median(data, window_size):\n",
    "    if window_size < 1 or not isinstance(window_size, int):\n",
    "        raise ValueError(\"Window size must be a positive integer\")\n",
    "\n",
    "    if len(data) < window_size:\n",
    "        raise ValueError(\"Window size must be smaller than or equal to the length of the data\")\n",
    "\n",
    "    result = []\n",
    "    for i in range(len(data) - window_size + 1):\n",
    "        result.append(np.median(data[i:i + window_size]))\n",
    "    return np.array(result)"
   ]
  },
  {
   "cell_type": "code",
   "execution_count": null,
   "metadata": {},
   "outputs": [],
   "source": [
    "\n"
   ]
  },
  {
   "cell_type": "code",
   "execution_count": 133,
   "metadata": {
    "execution": {
     "iopub.execute_input": "2023-05-24T18:41:18.844052Z",
     "iopub.status.busy": "2023-05-24T18:41:18.843554Z",
     "iopub.status.idle": "2023-05-24T18:41:19.191123Z",
     "shell.execute_reply": "2023-05-24T18:41:19.190008Z",
     "shell.execute_reply.started": "2023-05-24T18:41:18.844011Z"
    },
    "tags": []
   },
   "outputs": [
    {
     "data": {
      "text/plain": [
       "['At iter 20000/65582, epoch 3, the losses are 4.229 (test). the base losses are 104.377 (test). \\n',\n",
       " 'Adjusting learning rate of group 0 to 1.0000e-07.\\n',\n",
       " '/data/rajlab1/user_data/jin/MyResearch/gTVDN-NN/bash_scripts/../mypkg/../results/Lay2_dis_10step_latent_intervalbds_model_epoch3\\n',\n",
       " 'Create a folder /data/rajlab1/user_data/jin/MyResearch/gTVDN-NN/bash_scripts/../mypkg/../results/Lay2_dis_10step_latent_intervalbds_model_epoch3\\n',\n",
       " 'Save to /data/rajlab1/user_data/jin/MyResearch/gTVDN-NN/bash_scripts/../mypkg/../results/Lay2_dis_10step_latent_intervalbds_model_epoch3/model.pkl\\n',\n",
       " 'Save to /data/rajlab1/user_data/jin/MyResearch/gTVDN-NN/bash_scripts/../mypkg/../results/Lay2_dis_10step_latent_intervalbds_model_epoch3/config.pkl\\n',\n",
       " 'Save to /data/rajlab1/user_data/jin/MyResearch/gTVDN-NN/bash_scripts/../mypkg/../results/Lay2_dis_10step_latent_intervalbds_model_epoch3/loss_fn.pkl\\n',\n",
       " 'Save to /data/rajlab1/user_data/jin/MyResearch/gTVDN-NN/bash_scripts/../mypkg/../results/Lay2_dis_10step_latent_intervalbds_model_epoch3/losses.pkl\\n',\n",
       " 'Save to /data/rajlab1/user_data/jin/MyResearch/gTVDN-NN/bash_scripts/../mypkg/../results/Lay2_dis_10step_latent_intervalbds_model_epoch3/losses_test.pkl\\n',\n",
       " 'Save to /data/rajlab1/user_data/jin/MyResearch/gTVDN-NN/bash_scripts/../mypkg/../results/Lay2_dis_10step_latent_intervalbds_model_epoch3/paras_train.pkl\\n']"
      ]
     },
     "execution_count": 133,
     "metadata": {},
     "output_type": "execute_result"
    }
   ],
   "source": [
    "fil_path = RES_ROOT/\"../bash_scripts/logs/EEG_lay2_dis_10step_latent_intervalbds_nomodel.out\"\n",
    "txt_content = load_txt(fil_path);\n",
    "txt_content[-10:]"
   ]
  },
  {
   "cell_type": "code",
   "execution_count": 134,
   "metadata": {
    "execution": {
     "iopub.execute_input": "2023-05-24T18:41:20.892219Z",
     "iopub.status.busy": "2023-05-24T18:41:20.891688Z",
     "iopub.status.idle": "2023-05-24T18:41:20.951626Z",
     "shell.execute_reply": "2023-05-24T18:41:20.951052Z",
     "shell.execute_reply.started": "2023-05-24T18:41:20.892152Z"
    },
    "tags": []
   },
   "outputs": [],
   "source": [
    "tr_losses, te_losses = extract_losses(txt_content, True)"
   ]
  },
  {
   "cell_type": "code",
   "execution_count": 135,
   "metadata": {
    "execution": {
     "iopub.execute_input": "2023-05-24T18:41:22.423261Z",
     "iopub.status.busy": "2023-05-24T18:41:22.422724Z",
     "iopub.status.idle": "2023-05-24T18:41:22.771148Z",
     "shell.execute_reply": "2023-05-24T18:41:22.770722Z",
     "shell.execute_reply.started": "2023-05-24T18:41:22.423216Z"
    },
    "tags": []
   },
   "outputs": [
    {
     "data": {
      "text/plain": [
       "<matplotlib.legend.Legend at 0x7ff0c95c2b80>"
      ]
     },
     "execution_count": 135,
     "metadata": {},
     "output_type": "execute_result"
    },
    {
     "data": {
      "image/png": "[encoded data removed]",
      "text/plain": [
       "<Figure size 1000x500 with 1 Axes>"
      ]
     },
     "metadata": {
      "needs_background": "light"
     },
     "output_type": "display_data"
    }
   ],
   "source": [
    "win_size = 10\n",
    "plt.plot(tr_losses[(win_size-1):, 0], moving_median(tr_losses[:, 1], win_size), label=\"Train\")\n",
    "plt.plot(te_losses[(win_size-1):, 0], moving_median(te_losses[:, 1], win_size), label=\"Test\")\n",
    "#plt.plot(tr_losses[(win_size-1):, 0], moving_median(tr_losses[:, 2], win_size), label=\"Train-base\")\n",
    "#plt.plot(te_losses[(win_size-1):, 0], moving_median(te_losses[:, 2], win_size), label=\"Test-base\")\n",
    "plt.yscale(\"log\")\n",
    "plt.ylim([4, 6])\n",
    "plt.legend()"
   ]
  },
  {
   "cell_type": "code",
   "execution_count": null,
   "metadata": {},
   "outputs": [],
   "source": []
  }
 ],
 "metadata": {
  "kernelspec": {
   "display_name": "Python 3 (ipykernel)",
   "language": "python",
   "name": "python3"
  },
  "language_info": {
   "codemirror_mode": {
    "name": "ipython",
    "version": 3
   },
   "file_extension": ".py",
   "mimetype": "text/x-python",
   "name": "python",
   "nbconvert_exporter": "python",
   "pygments_lexer": "ipython3",
   "version": "3.9.7"
  },
  "toc": {
   "base_numbering": 1,
   "nav_menu": {},
   "number_sections": true,
   "sideBar": true,
   "skip_h1_title": false,
   "title_cell": "Table of Contents",
   "title_sidebar": "Contents",
   "toc_cell": false,
   "toc_position": {
    "height": "calc(100% - 180px)",
    "left": "10px",
    "top": "150px",
    "width": "303.806px"
   },
   "toc_section_display": true,
   "toc_window_display": true
  }
 },
 "nbformat": 4,
 "nbformat_minor": 4
}
